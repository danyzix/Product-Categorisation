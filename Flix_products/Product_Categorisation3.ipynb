{
 "cells": [
  {
   "cell_type": "code",
   "execution_count": 1,
   "metadata": {},
   "outputs": [
    {
     "name": "stderr",
     "output_type": "stream",
     "text": [
      "Using TensorFlow backend.\n"
     ]
    }
   ],
   "source": [
    "from sklearn import model_selection, preprocessing, linear_model, naive_bayes, metrics, svm\n",
    "from sklearn.feature_extraction.text import TfidfVectorizer, CountVectorizer\n",
    "from sklearn import decomposition, ensemble\n",
    "\n",
    "import pandas as pd, mysql.connector\n",
    "import xgboost, numpy, textblob, string\n",
    "from keras.preprocessing import text, sequence\n",
    "from keras import layers, models, optimizers"
   ]
  },
  {
   "cell_type": "code",
   "execution_count": 2,
   "metadata": {},
   "outputs": [],
   "source": [
    "import numpy as np\n",
    "import matplotlib.pyplot as plt\n",
    "import seaborn as sns"
   ]
  },
  {
   "cell_type": "code",
   "execution_count": 3,
   "metadata": {},
   "outputs": [],
   "source": [
    "df1 = pd.read_csv('\\\\Users\\\\Daniel\\\\Python\\\\Data\\\\Flix_products\\\\product_title.csv', engine='python')"
   ]
  },
  {
   "cell_type": "code",
   "execution_count": 4,
   "metadata": {},
   "outputs": [
    {
     "data": {
      "text/html": [
       "<div>\n",
       "<style scoped>\n",
       "    .dataframe tbody tr th:only-of-type {\n",
       "        vertical-align: middle;\n",
       "    }\n",
       "\n",
       "    .dataframe tbody tr th {\n",
       "        vertical-align: top;\n",
       "    }\n",
       "\n",
       "    .dataframe thead th {\n",
       "        text-align: right;\n",
       "    }\n",
       "</style>\n",
       "<table border=\"1\" class=\"dataframe\">\n",
       "  <thead>\n",
       "    <tr style=\"text-align: right;\">\n",
       "      <th></th>\n",
       "      <th>product_id</th>\n",
       "      <th>title</th>\n",
       "      <th>Categories</th>\n",
       "    </tr>\n",
       "  </thead>\n",
       "  <tbody>\n",
       "    <tr>\n",
       "      <th>0</th>\n",
       "      <td>400002</td>\n",
       "      <td>HP Photosmart eStation Printer</td>\n",
       "      <td>Printers and Multifunction | Inkjet All-in-One...</td>\n",
       "    </tr>\n",
       "    <tr>\n",
       "      <th>1</th>\n",
       "      <td>400004</td>\n",
       "      <td>HP LaserJet Pro M1217nfw Multifunction Printer</td>\n",
       "      <td>Printers and Multifunction | Laser Multifuncti...</td>\n",
       "    </tr>\n",
       "    <tr>\n",
       "      <th>2</th>\n",
       "      <td>400006</td>\n",
       "      <td>HP LaserJet 9050dn Printer</td>\n",
       "      <td>Printers and Multifunction | Black and White L...</td>\n",
       "    </tr>\n",
       "    <tr>\n",
       "      <th>3</th>\n",
       "      <td>400008</td>\n",
       "      <td>HP Photosmart Premium All-in-One Printer - C309g</td>\n",
       "      <td>HP Photosmart Premium All-in-One Printer serie...</td>\n",
       "    </tr>\n",
       "    <tr>\n",
       "      <th>4</th>\n",
       "      <td>400010</td>\n",
       "      <td>HP Photosmart Premium Fax e-All-in-One Printer...</td>\n",
       "      <td>HP Photosmart Premium Fax e-All-in-One Printer...</td>\n",
       "    </tr>\n",
       "  </tbody>\n",
       "</table>\n",
       "</div>"
      ],
      "text/plain": [
       "   product_id                                              title  \\\n",
       "0      400002                     HP Photosmart eStation Printer   \n",
       "1      400004     HP LaserJet Pro M1217nfw Multifunction Printer   \n",
       "2      400006                         HP LaserJet 9050dn Printer   \n",
       "3      400008   HP Photosmart Premium All-in-One Printer - C309g   \n",
       "4      400010  HP Photosmart Premium Fax e-All-in-One Printer...   \n",
       "\n",
       "                                          Categories  \n",
       "0  Printers and Multifunction | Inkjet All-in-One...  \n",
       "1  Printers and Multifunction | Laser Multifuncti...  \n",
       "2  Printers and Multifunction | Black and White L...  \n",
       "3  HP Photosmart Premium All-in-One Printer serie...  \n",
       "4  HP Photosmart Premium Fax e-All-in-One Printer...  "
      ]
     },
     "execution_count": 4,
     "metadata": {},
     "output_type": "execute_result"
    }
   ],
   "source": [
    "df1.head()"
   ]
  },
  {
   "cell_type": "code",
   "execution_count": 5,
   "metadata": {},
   "outputs": [
    {
     "name": "stderr",
     "output_type": "stream",
     "text": [
      "C:\\Users\\Daniel\\AppData\\Local\\Continuum\\anaconda3\\lib\\site-packages\\IPython\\core\\interactiveshell.py:3044: DtypeWarning: Columns (28) have mixed types. Specify dtype option on import or set low_memory=False.\n",
      "  interactivity=interactivity, compiler=compiler, result=result)\n"
     ]
    }
   ],
   "source": [
    "products_complete = pd.read_csv('\\\\Users\\\\Daniel\\\\Python\\\\Data\\\\Flix_products\\\\products.csv', sep='\\t')"
   ]
  },
  {
   "cell_type": "code",
   "execution_count": 6,
   "metadata": {},
   "outputs": [
    {
     "data": {
      "text/html": [
       "<div>\n",
       "<style scoped>\n",
       "    .dataframe tbody tr th:only-of-type {\n",
       "        vertical-align: middle;\n",
       "    }\n",
       "\n",
       "    .dataframe tbody tr th {\n",
       "        vertical-align: top;\n",
       "    }\n",
       "\n",
       "    .dataframe thead th {\n",
       "        text-align: right;\n",
       "    }\n",
       "</style>\n",
       "<table border=\"1\" class=\"dataframe\">\n",
       "  <thead>\n",
       "    <tr style=\"text-align: right;\">\n",
       "      <th></th>\n",
       "      <th>product_id</th>\n",
       "      <th>product_title</th>\n",
       "      <th>mpn_list</th>\n",
       "      <th>manufacturer_id</th>\n",
       "      <th>brand_title</th>\n",
       "      <th>flix_parent_category</th>\n",
       "      <th>flix_subCategory1</th>\n",
       "      <th>flix_subCategory2</th>\n",
       "      <th>benchmark_category</th>\n",
       "      <th>benchmark_category2</th>\n",
       "    </tr>\n",
       "  </thead>\n",
       "  <tbody>\n",
       "    <tr>\n",
       "      <th>0</th>\n",
       "      <td>3</td>\n",
       "      <td>Crematic Coffee Maker</td>\n",
       "      <td>F8744338</td>\n",
       "      <td>53.0</td>\n",
       "      <td>Groupe SEB</td>\n",
       "      <td>Small Gadgets/Appliances</td>\n",
       "      <td>Drink Makers</td>\n",
       "      <td>Coffee/Espresso</td>\n",
       "      <td>Home Appliances</td>\n",
       "      <td>Drink Makers</td>\n",
       "    </tr>\n",
       "    <tr>\n",
       "      <th>1</th>\n",
       "      <td>4</td>\n",
       "      <td>Vitamin Plus 3-Tier Steamer</td>\n",
       "      <td>vc400415</td>\n",
       "      <td>4.0</td>\n",
       "      <td>Tefal</td>\n",
       "      <td>Small Gadgets/Appliances</td>\n",
       "      <td>Cooking</td>\n",
       "      <td>Steamers</td>\n",
       "      <td>Home Appliances</td>\n",
       "      <td>Steamers</td>\n",
       "    </tr>\n",
       "    <tr>\n",
       "      <th>2</th>\n",
       "      <td>5</td>\n",
       "      <td>DCDA1100 HIFi system</td>\n",
       "      <td>dc-da1100</td>\n",
       "      <td>5.0</td>\n",
       "      <td>Sanyo</td>\n",
       "      <td>Home Entertainment</td>\n",
       "      <td>Hi-Fi Systems</td>\n",
       "      <td>Standard Hi-Fi Systems</td>\n",
       "      <td>Audio</td>\n",
       "      <td>Hi-Fi/Radio</td>\n",
       "    </tr>\n",
       "    <tr>\n",
       "      <th>3</th>\n",
       "      <td>6</td>\n",
       "      <td>NNA574S Microwave</td>\n",
       "      <td>NNA574S</td>\n",
       "      <td>6.0</td>\n",
       "      <td>Panasonic</td>\n",
       "      <td>Home Appliances</td>\n",
       "      <td>Microwaves</td>\n",
       "      <td>None</td>\n",
       "      <td>Home Appliances</td>\n",
       "      <td>Microwaves</td>\n",
       "    </tr>\n",
       "    <tr>\n",
       "      <th>4</th>\n",
       "      <td>12</td>\n",
       "      <td>Soprano Jug Kettle</td>\n",
       "      <td>43003</td>\n",
       "      <td>7.0</td>\n",
       "      <td>Morphy Richards</td>\n",
       "      <td>Small Gadgets/Appliances</td>\n",
       "      <td>Kettles</td>\n",
       "      <td>None</td>\n",
       "      <td>Home Appliances</td>\n",
       "      <td>Kettles &amp; Toasters</td>\n",
       "    </tr>\n",
       "  </tbody>\n",
       "</table>\n",
       "</div>"
      ],
      "text/plain": [
       "   product_id                product_title   mpn_list  manufacturer_id  \\\n",
       "0           3        Crematic Coffee Maker   F8744338             53.0   \n",
       "1           4  Vitamin Plus 3-Tier Steamer   vc400415              4.0   \n",
       "2           5         DCDA1100 HIFi system  dc-da1100              5.0   \n",
       "3           6            NNA574S Microwave    NNA574S              6.0   \n",
       "4          12           Soprano Jug Kettle      43003              7.0   \n",
       "\n",
       "       brand_title      flix_parent_category flix_subCategory1  \\\n",
       "0       Groupe SEB  Small Gadgets/Appliances      Drink Makers   \n",
       "1            Tefal  Small Gadgets/Appliances           Cooking   \n",
       "2            Sanyo        Home Entertainment     Hi-Fi Systems   \n",
       "3        Panasonic           Home Appliances        Microwaves   \n",
       "4  Morphy Richards  Small Gadgets/Appliances           Kettles   \n",
       "\n",
       "        flix_subCategory2 benchmark_category benchmark_category2  \n",
       "0         Coffee/Espresso    Home Appliances        Drink Makers  \n",
       "1                Steamers    Home Appliances            Steamers  \n",
       "2  Standard Hi-Fi Systems              Audio         Hi-Fi/Radio  \n",
       "3                    None    Home Appliances          Microwaves  \n",
       "4                    None    Home Appliances  Kettles & Toasters  "
      ]
     },
     "execution_count": 6,
     "metadata": {},
     "output_type": "execute_result"
    }
   ],
   "source": [
    "products= products_complete[['product_id','product_title','mpn_list','manufacturer_id', 'brand_title',\n",
    "                            'flix_parent_category', 'flix_subCategory1', 'flix_subCategory2',\n",
    "                            'benchmark_category', 'benchmark_category2']]\n",
    "products.head()"
   ]
  },
  {
   "cell_type": "code",
   "execution_count": 45,
   "metadata": {},
   "outputs": [],
   "source": [
    "#products.groupby('benchmark_category2')['product_id'].count().sort_values(ascending=False)"
   ]
  },
  {
   "cell_type": "code",
   "execution_count": 7,
   "metadata": {},
   "outputs": [
    {
     "data": {
      "text/html": [
       "<div>\n",
       "<style scoped>\n",
       "    .dataframe tbody tr th:only-of-type {\n",
       "        vertical-align: middle;\n",
       "    }\n",
       "\n",
       "    .dataframe tbody tr th {\n",
       "        vertical-align: top;\n",
       "    }\n",
       "\n",
       "    .dataframe thead th {\n",
       "        text-align: right;\n",
       "    }\n",
       "</style>\n",
       "<table border=\"1\" class=\"dataframe\">\n",
       "  <thead>\n",
       "    <tr style=\"text-align: right;\">\n",
       "      <th></th>\n",
       "      <th>product_id</th>\n",
       "      <th>product_title</th>\n",
       "      <th>mpn_list</th>\n",
       "      <th>manufacturer_id</th>\n",
       "      <th>brand_title</th>\n",
       "      <th>flix_parent_category</th>\n",
       "      <th>flix_subCategory1</th>\n",
       "      <th>flix_subCategory2</th>\n",
       "      <th>benchmark_category</th>\n",
       "      <th>benchmark_category2</th>\n",
       "      <th>title</th>\n",
       "      <th>Categories</th>\n",
       "    </tr>\n",
       "  </thead>\n",
       "  <tbody>\n",
       "    <tr>\n",
       "      <th>0</th>\n",
       "      <td>881868</td>\n",
       "      <td>HP EliteBook 840 G1 Notebook PC</td>\n",
       "      <td>J8Q77EA</td>\n",
       "      <td>28.0</td>\n",
       "      <td>HP</td>\n",
       "      <td>Computing/Gaming</td>\n",
       "      <td>Laptops/Notebook/Ebook/Ultrabook</td>\n",
       "      <td>Notebooks</td>\n",
       "      <td>Computing</td>\n",
       "      <td>Laptops</td>\n",
       "      <td>HP EliteBook 840 G1 Notebook PC</td>\n",
       "      <td>Laptops And Hybrids | Business Laptop PCs | HP...</td>\n",
       "    </tr>\n",
       "    <tr>\n",
       "      <th>1</th>\n",
       "      <td>876236</td>\n",
       "      <td>Speedlight SB-N7</td>\n",
       "      <td>FSA90901</td>\n",
       "      <td>1290.0</td>\n",
       "      <td>Nikon</td>\n",
       "      <td>Cameras</td>\n",
       "      <td>Camera Accessories</td>\n",
       "      <td>None</td>\n",
       "      <td>Cameras</td>\n",
       "      <td>Cameras Accessories</td>\n",
       "      <td>Speedlight SB-N7</td>\n",
       "      <td>Speedlights</td>\n",
       "    </tr>\n",
       "    <tr>\n",
       "      <th>2</th>\n",
       "      <td>888696</td>\n",
       "      <td>Electrolux EFC60465OX Chimney Design Hood 60 c...</td>\n",
       "      <td>EFC60465OX</td>\n",
       "      <td>1307.0</td>\n",
       "      <td>Electrolux Major</td>\n",
       "      <td>Home Appliances</td>\n",
       "      <td>Cooker Hoods</td>\n",
       "      <td>None</td>\n",
       "      <td>Home Appliances</td>\n",
       "      <td>Cookers/Ovens</td>\n",
       "      <td>Electrolux EFC60465OX Chimney Design Hood 60 c...</td>\n",
       "      <td>Electrolux | NonStar | Cooker_Hood</td>\n",
       "    </tr>\n",
       "    <tr>\n",
       "      <th>3</th>\n",
       "      <td>888693</td>\n",
       "      <td>Electrolux EFC90468OX Chimney Design Hood 90 c...</td>\n",
       "      <td>EFC90468OX</td>\n",
       "      <td>1307.0</td>\n",
       "      <td>Electrolux Major</td>\n",
       "      <td>Home Appliances</td>\n",
       "      <td>Cooker Hoods</td>\n",
       "      <td>None</td>\n",
       "      <td>Home Appliances</td>\n",
       "      <td>Cookers/Ovens</td>\n",
       "      <td>Electrolux EFC90468OX Chimney Design Hood 90 c...</td>\n",
       "      <td>Electrolux | NonStar | Cooker_Hood</td>\n",
       "    </tr>\n",
       "    <tr>\n",
       "      <th>4</th>\n",
       "      <td>888664</td>\n",
       "      <td>Oven EVY9841AOX</td>\n",
       "      <td>EVY9841AOX</td>\n",
       "      <td>1307.0</td>\n",
       "      <td>Electrolux Major</td>\n",
       "      <td>Home Appliances</td>\n",
       "      <td>Cookers/Ovens</td>\n",
       "      <td>None</td>\n",
       "      <td>Home Appliances</td>\n",
       "      <td>Cookers/Ovens</td>\n",
       "      <td>Electrolux EVY9841AOX Steam Cooking Built-in C...</td>\n",
       "      <td>Electrolux | NonStar | Oven</td>\n",
       "    </tr>\n",
       "  </tbody>\n",
       "</table>\n",
       "</div>"
      ],
      "text/plain": [
       "   product_id                                      product_title    mpn_list  \\\n",
       "0      881868                    HP EliteBook 840 G1 Notebook PC     J8Q77EA   \n",
       "1      876236                                   Speedlight SB-N7    FSA90901   \n",
       "2      888696  Electrolux EFC60465OX Chimney Design Hood 60 c...  EFC60465OX   \n",
       "3      888693  Electrolux EFC90468OX Chimney Design Hood 90 c...  EFC90468OX   \n",
       "4      888664                                    Oven EVY9841AOX  EVY9841AOX   \n",
       "\n",
       "   manufacturer_id       brand_title flix_parent_category  \\\n",
       "0             28.0                HP     Computing/Gaming   \n",
       "1           1290.0             Nikon              Cameras   \n",
       "2           1307.0  Electrolux Major      Home Appliances   \n",
       "3           1307.0  Electrolux Major      Home Appliances   \n",
       "4           1307.0  Electrolux Major      Home Appliances   \n",
       "\n",
       "                  flix_subCategory1 flix_subCategory2 benchmark_category  \\\n",
       "0  Laptops/Notebook/Ebook/Ultrabook         Notebooks          Computing   \n",
       "1                Camera Accessories              None            Cameras   \n",
       "2                      Cooker Hoods              None    Home Appliances   \n",
       "3                      Cooker Hoods              None    Home Appliances   \n",
       "4                     Cookers/Ovens              None    Home Appliances   \n",
       "\n",
       "   benchmark_category2                                              title  \\\n",
       "0              Laptops                    HP EliteBook 840 G1 Notebook PC   \n",
       "1  Cameras Accessories                                   Speedlight SB-N7   \n",
       "2        Cookers/Ovens  Electrolux EFC60465OX Chimney Design Hood 60 c...   \n",
       "3        Cookers/Ovens  Electrolux EFC90468OX Chimney Design Hood 90 c...   \n",
       "4        Cookers/Ovens  Electrolux EVY9841AOX Steam Cooking Built-in C...   \n",
       "\n",
       "                                          Categories  \n",
       "0  Laptops And Hybrids | Business Laptop PCs | HP...  \n",
       "1                                        Speedlights  \n",
       "2                 Electrolux | NonStar | Cooker_Hood  \n",
       "3                 Electrolux | NonStar | Cooker_Hood  \n",
       "4                        Electrolux | NonStar | Oven  "
      ]
     },
     "execution_count": 7,
     "metadata": {},
     "output_type": "execute_result"
    }
   ],
   "source": [
    "products = pd.merge(products, df1, on='product_id', how='inner')\n",
    "products.head()"
   ]
  },
  {
   "cell_type": "code",
   "execution_count": 45,
   "metadata": {},
   "outputs": [
    {
     "data": {
      "text/plain": [
       "(1680, 0.023105805333590065)"
      ]
     },
     "execution_count": 45,
     "metadata": {},
     "output_type": "execute_result"
    }
   ],
   "source": [
    "products['benchmark_category2'].isna().sum(), products['benchmark_category2'].isna().sum()/len(products.index)"
   ]
  },
  {
   "cell_type": "code",
   "execution_count": 46,
   "metadata": {},
   "outputs": [],
   "source": [
    "products.dropna(subset=['benchmark_category2'], inplace=True)"
   ]
  },
  {
   "cell_type": "code",
   "execution_count": 53,
   "metadata": {},
   "outputs": [
    {
     "data": {
      "image/png": "[encoded data removed]",
      "text/plain": [
       "<Figure size 1080x360 with 1 Axes>"
      ]
     },
     "metadata": {
      "needs_background": "light"
     },
     "output_type": "display_data"
    }
   ],
   "source": [
    "group_products = products.groupby('benchmark_category2')['product_id'].count()\n",
    "group_brand  = products.groupby('benchmark_category2')['brand_title'].nunique()\n",
    "plt.figure(figsize=(15,5))\n",
    "ax = sns.scatterplot(x=group_products, y=group_brand)"
   ]
  },
  {
   "cell_type": "code",
   "execution_count": 81,
   "metadata": {},
   "outputs": [
    {
     "data": {
      "text/plain": [
       "<matplotlib.axes._subplots.AxesSubplot at 0x15cbf96b278>"
      ]
     },
     "execution_count": 81,
     "metadata": {},
     "output_type": "execute_result"
    },
    {
     "data": {
      "image/png": "[encoded data removed]",
      "text/plain": [
       "<Figure size 360x576 with 1 Axes>"
      ]
     },
     "metadata": {
      "needs_background": "light"
     },
     "output_type": "display_data"
    }
   ],
   "source": [
    "products.groupby('benchmark_category2')['product_id'].count().sort_values().tail(30).plot.barh(figsize=(5,8))"
   ]
  },
  {
   "cell_type": "code",
   "execution_count": 92,
   "metadata": {},
   "outputs": [],
   "source": [
    "top15cats = products.groupby('benchmark_category2')['product_id'].count().nlargest(15).keys()"
   ]
  },
  {
   "cell_type": "code",
   "execution_count": 94,
   "metadata": {},
   "outputs": [],
   "source": [
    "prod_15cats = products[products['benchmark_category2'].isin(top15cats)]"
   ]
  },
  {
   "cell_type": "code",
   "execution_count": 95,
   "metadata": {},
   "outputs": [
    {
     "name": "stdout",
     "output_type": "stream",
     "text": [
      "<class 'pandas.core.frame.DataFrame'>\n",
      "Int64Index: 48227 entries, 0 to 71190\n",
      "Data columns (total 12 columns):\n",
      "product_id              48227 non-null int64\n",
      "product_title           47698 non-null object\n",
      "mpn_list                47976 non-null object\n",
      "manufacturer_id         48227 non-null float64\n",
      "brand_title             48227 non-null object\n",
      "flix_parent_category    48227 non-null object\n",
      "flix_subCategory1       48227 non-null object\n",
      "flix_subCategory2       40661 non-null object\n",
      "benchmark_category      48227 non-null object\n",
      "benchmark_category2     48227 non-null object\n",
      "title                   48227 non-null object\n",
      "Categories              48227 non-null object\n",
      "dtypes: float64(1), int64(1), object(10)\n",
      "memory usage: 4.8+ MB\n"
     ]
    }
   ],
   "source": [
    "prod_15cats.info()"
   ]
  },
  {
   "cell_type": "code",
   "execution_count": null,
   "metadata": {},
   "outputs": [],
   "source": []
  }
 ],
 "metadata": {
  "kernelspec": {
   "display_name": "Python 3",
   "language": "python",
   "name": "python3"
  },
  "language_info": {
   "codemirror_mode": {
    "name": "ipython",
    "version": 3
   },
   "file_extension": ".py",
   "mimetype": "text/x-python",
   "name": "python",
   "nbconvert_exporter": "python",
   "pygments_lexer": "ipython3",
   "version": "3.6.8"
  }
 },
 "nbformat": 4,
 "nbformat_minor": 2
}

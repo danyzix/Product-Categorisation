{
 "cells": [
  {
   "cell_type": "code",
   "execution_count": 1,
   "metadata": {},
   "outputs": [
    {
     "name": "stderr",
     "output_type": "stream",
     "text": [
      "Using TensorFlow backend.\n"
     ]
    }
   ],
   "source": [
    "from sklearn import model_selection, preprocessing, linear_model, naive_bayes, metrics, svm\n",
    "from sklearn.feature_extraction.text import TfidfVectorizer, CountVectorizer\n",
    "from sklearn import decomposition, ensemble\n",
    "from sklearn.model_selection import train_test_split\n",
    "\n",
    "import pandas as pd, mysql.connector, nltk\n",
    "import xgboost, numpy, textblob, string\n",
    "from keras.preprocessing import text, sequence\n",
    "from keras import layers, models, optimizers\n",
    "from nltk.corpus import stopwords\n",
    "import string\n",
    "from collections import Counter"
   ]
  },
  {
   "cell_type": "code",
   "execution_count": 2,
   "metadata": {},
   "outputs": [],
   "source": [
    "import numpy as np\n",
    "import matplotlib.pyplot as plt\n",
    "import seaborn as sns"
   ]
  },
  {
   "cell_type": "markdown",
   "metadata": {},
   "source": [
    "# 1. Data Preparation"
   ]
  },
  {
   "cell_type": "code",
   "execution_count": 4,
   "metadata": {},
   "outputs": [
    {
     "data": {
      "text/html": [
       "<div>\n",
       "<style scoped>\n",
       "    .dataframe tbody tr th:only-of-type {\n",
       "        vertical-align: middle;\n",
       "    }\n",
       "\n",
       "    .dataframe tbody tr th {\n",
       "        vertical-align: top;\n",
       "    }\n",
       "\n",
       "    .dataframe thead th {\n",
       "        text-align: right;\n",
       "    }\n",
       "</style>\n",
       "<table border=\"1\" class=\"dataframe\">\n",
       "  <thead>\n",
       "    <tr style=\"text-align: right;\">\n",
       "      <th></th>\n",
       "      <th>product_id</th>\n",
       "      <th>title</th>\n",
       "      <th>Categories</th>\n",
       "    </tr>\n",
       "  </thead>\n",
       "  <tbody>\n",
       "    <tr>\n",
       "      <th>0</th>\n",
       "      <td>400002</td>\n",
       "      <td>HP Photosmart eStation Printer</td>\n",
       "      <td>Printers and Multifunction | Inkjet All-in-One...</td>\n",
       "    </tr>\n",
       "    <tr>\n",
       "      <th>1</th>\n",
       "      <td>400004</td>\n",
       "      <td>HP LaserJet Pro M1217nfw Multifunction Printer</td>\n",
       "      <td>Printers and Multifunction | Laser Multifuncti...</td>\n",
       "    </tr>\n",
       "  </tbody>\n",
       "</table>\n",
       "</div>"
      ],
      "text/plain": [
       "   product_id                                           title  \\\n",
       "0      400002                  HP Photosmart eStation Printer   \n",
       "1      400004  HP LaserJet Pro M1217nfw Multifunction Printer   \n",
       "\n",
       "                                          Categories  \n",
       "0  Printers and Multifunction | Inkjet All-in-One...  \n",
       "1  Printers and Multifunction | Laser Multifuncti...  "
      ]
     },
     "execution_count": 4,
     "metadata": {},
     "output_type": "execute_result"
    }
   ],
   "source": [
    "# get the first file which has product titles and brand categoriws\n",
    "df1 = pd.read_csv('\\\\Users\\\\Daniel\\\\Python\\\\Data\\\\Flix_products\\\\product_title.csv', engine='python')\n",
    "df1.head(2)"
   ]
  },
  {
   "cell_type": "code",
   "execution_count": 6,
   "metadata": {},
   "outputs": [
    {
     "name": "stderr",
     "output_type": "stream",
     "text": [
      "C:\\Users\\Daniel\\AppData\\Local\\Continuum\\anaconda3\\lib\\site-packages\\IPython\\core\\interactiveshell.py:3044: DtypeWarning: Columns (28) have mixed types. Specify dtype option on import or set low_memory=False.\n",
      "  interactivity=interactivity, compiler=compiler, result=result)\n"
     ]
    },
    {
     "data": {
      "text/html": [
       "<div>\n",
       "<style scoped>\n",
       "    .dataframe tbody tr th:only-of-type {\n",
       "        vertical-align: middle;\n",
       "    }\n",
       "\n",
       "    .dataframe tbody tr th {\n",
       "        vertical-align: top;\n",
       "    }\n",
       "\n",
       "    .dataframe thead th {\n",
       "        text-align: right;\n",
       "    }\n",
       "</style>\n",
       "<table border=\"1\" class=\"dataframe\">\n",
       "  <thead>\n",
       "    <tr style=\"text-align: right;\">\n",
       "      <th></th>\n",
       "      <th>product_id</th>\n",
       "      <th>product_title</th>\n",
       "      <th>mpn_list</th>\n",
       "      <th>manufacturer_id</th>\n",
       "      <th>brand_title</th>\n",
       "      <th>flix_parent_category</th>\n",
       "      <th>flix_subCategory1</th>\n",
       "      <th>flix_subCategory2</th>\n",
       "      <th>benchmark_category</th>\n",
       "      <th>benchmark_category2</th>\n",
       "    </tr>\n",
       "  </thead>\n",
       "  <tbody>\n",
       "    <tr>\n",
       "      <th>0</th>\n",
       "      <td>3</td>\n",
       "      <td>Crematic Coffee Maker</td>\n",
       "      <td>F8744338</td>\n",
       "      <td>53.0</td>\n",
       "      <td>Groupe SEB</td>\n",
       "      <td>Small Gadgets/Appliances</td>\n",
       "      <td>Drink Makers</td>\n",
       "      <td>Coffee/Espresso</td>\n",
       "      <td>Home Appliances</td>\n",
       "      <td>Drink Makers</td>\n",
       "    </tr>\n",
       "    <tr>\n",
       "      <th>1</th>\n",
       "      <td>4</td>\n",
       "      <td>Vitamin Plus 3-Tier Steamer</td>\n",
       "      <td>vc400415</td>\n",
       "      <td>4.0</td>\n",
       "      <td>Tefal</td>\n",
       "      <td>Small Gadgets/Appliances</td>\n",
       "      <td>Cooking</td>\n",
       "      <td>Steamers</td>\n",
       "      <td>Home Appliances</td>\n",
       "      <td>Steamers</td>\n",
       "    </tr>\n",
       "  </tbody>\n",
       "</table>\n",
       "</div>"
      ],
      "text/plain": [
       "   product_id                product_title  mpn_list  manufacturer_id  \\\n",
       "0           3        Crematic Coffee Maker  F8744338             53.0   \n",
       "1           4  Vitamin Plus 3-Tier Steamer  vc400415              4.0   \n",
       "\n",
       "  brand_title      flix_parent_category flix_subCategory1 flix_subCategory2  \\\n",
       "0  Groupe SEB  Small Gadgets/Appliances      Drink Makers   Coffee/Espresso   \n",
       "1       Tefal  Small Gadgets/Appliances           Cooking          Steamers   \n",
       "\n",
       "  benchmark_category benchmark_category2  \n",
       "0    Home Appliances        Drink Makers  \n",
       "1    Home Appliances            Steamers  "
      ]
     },
     "execution_count": 6,
     "metadata": {},
     "output_type": "execute_result"
    }
   ],
   "source": [
    "# load second product file and load only the necessary columns\n",
    "products_complete = pd.read_csv('\\\\Users\\\\Daniel\\\\Python\\\\Data\\\\Flix_products\\\\products.csv', sep='\\t')\n",
    "products= products_complete[['product_id','product_title','mpn_list','manufacturer_id', 'brand_title',\n",
    "                            'flix_parent_category', 'flix_subCategory1', 'flix_subCategory2',\n",
    "                            'benchmark_category', 'benchmark_category2']]\n",
    "products.head(2)"
   ]
  },
  {
   "cell_type": "code",
   "execution_count": 7,
   "metadata": {},
   "outputs": [
    {
     "data": {
      "text/html": [
       "<div>\n",
       "<style scoped>\n",
       "    .dataframe tbody tr th:only-of-type {\n",
       "        vertical-align: middle;\n",
       "    }\n",
       "\n",
       "    .dataframe tbody tr th {\n",
       "        vertical-align: top;\n",
       "    }\n",
       "\n",
       "    .dataframe thead th {\n",
       "        text-align: right;\n",
       "    }\n",
       "</style>\n",
       "<table border=\"1\" class=\"dataframe\">\n",
       "  <thead>\n",
       "    <tr style=\"text-align: right;\">\n",
       "      <th></th>\n",
       "      <th>product_id</th>\n",
       "      <th>product_title</th>\n",
       "      <th>mpn_list</th>\n",
       "      <th>manufacturer_id</th>\n",
       "      <th>brand_title</th>\n",
       "      <th>flix_parent_category</th>\n",
       "      <th>flix_subCategory1</th>\n",
       "      <th>flix_subCategory2</th>\n",
       "      <th>benchmark_category</th>\n",
       "      <th>benchmark_category2</th>\n",
       "      <th>title</th>\n",
       "      <th>Categories</th>\n",
       "    </tr>\n",
       "  </thead>\n",
       "  <tbody>\n",
       "    <tr>\n",
       "      <th>0</th>\n",
       "      <td>881868</td>\n",
       "      <td>HP EliteBook 840 G1 Notebook PC</td>\n",
       "      <td>J8Q77EA</td>\n",
       "      <td>28.0</td>\n",
       "      <td>HP</td>\n",
       "      <td>Computing/Gaming</td>\n",
       "      <td>Laptops/Notebook/Ebook/Ultrabook</td>\n",
       "      <td>Notebooks</td>\n",
       "      <td>Computing</td>\n",
       "      <td>Laptops</td>\n",
       "      <td>HP EliteBook 840 G1 Notebook PC</td>\n",
       "      <td>Laptops And Hybrids | Business Laptop PCs | HP...</td>\n",
       "    </tr>\n",
       "    <tr>\n",
       "      <th>1</th>\n",
       "      <td>876236</td>\n",
       "      <td>Speedlight SB-N7</td>\n",
       "      <td>FSA90901</td>\n",
       "      <td>1290.0</td>\n",
       "      <td>Nikon</td>\n",
       "      <td>Cameras</td>\n",
       "      <td>Camera Accessories</td>\n",
       "      <td>None</td>\n",
       "      <td>Cameras</td>\n",
       "      <td>Cameras Accessories</td>\n",
       "      <td>Speedlight SB-N7</td>\n",
       "      <td>Speedlights</td>\n",
       "    </tr>\n",
       "  </tbody>\n",
       "</table>\n",
       "</div>"
      ],
      "text/plain": [
       "   product_id                    product_title  mpn_list  manufacturer_id  \\\n",
       "0      881868  HP EliteBook 840 G1 Notebook PC   J8Q77EA             28.0   \n",
       "1      876236                 Speedlight SB-N7  FSA90901           1290.0   \n",
       "\n",
       "  brand_title flix_parent_category                 flix_subCategory1  \\\n",
       "0          HP     Computing/Gaming  Laptops/Notebook/Ebook/Ultrabook   \n",
       "1       Nikon              Cameras                Camera Accessories   \n",
       "\n",
       "  flix_subCategory2 benchmark_category  benchmark_category2  \\\n",
       "0         Notebooks          Computing              Laptops   \n",
       "1              None            Cameras  Cameras Accessories   \n",
       "\n",
       "                             title  \\\n",
       "0  HP EliteBook 840 G1 Notebook PC   \n",
       "1                 Speedlight SB-N7   \n",
       "\n",
       "                                          Categories  \n",
       "0  Laptops And Hybrids | Business Laptop PCs | HP...  \n",
       "1                                        Speedlights  "
      ]
     },
     "execution_count": 7,
     "metadata": {},
     "output_type": "execute_result"
    }
   ],
   "source": [
    "# merge the two products file with an inner join to keep only the common products from both\n",
    "products = pd.merge(products, df1, on='product_id', how='inner')\n",
    "products.head(2)"
   ]
  },
  {
   "cell_type": "code",
   "execution_count": 8,
   "metadata": {},
   "outputs": [
    {
     "data": {
      "text/plain": [
       "(1680, 0.023105805333590065)"
      ]
     },
     "execution_count": 8,
     "metadata": {},
     "output_type": "execute_result"
    }
   ],
   "source": [
    "# check how many products have unassigned categories\n",
    "products['benchmark_category2'].isna().sum(), products['benchmark_category2'].isna().sum()/len(products.index)"
   ]
  },
  {
   "cell_type": "code",
   "execution_count": 9,
   "metadata": {},
   "outputs": [],
   "source": [
    "# drop the unassugned category products\n",
    "products.dropna(subset=['benchmark_category2'], inplace=True)"
   ]
  },
  {
   "cell_type": "code",
   "execution_count": 10,
   "metadata": {},
   "outputs": [
    {
     "data": {
      "text/plain": [
       "Text(0.5, 0, '# of products')"
      ]
     },
     "execution_count": 10,
     "metadata": {},
     "output_type": "execute_result"
    },
    {
     "data": {
      "image/png": "[encoded data removed]",
      "text/plain": [
       "<Figure size 1080x360 with 1 Axes>"
      ]
     },
     "metadata": {
      "needs_background": "light"
     },
     "output_type": "display_data"
    }
   ],
   "source": [
    "# let's look at the distribution of number of products and brands by product categories\n",
    "group_products = products.groupby('benchmark_category2')['product_id'].count()\n",
    "group_brand  = products.groupby('benchmark_category2')['brand_title'].nunique()\n",
    "plt.figure(figsize=(15,5))\n",
    "ax = sns.scatterplot(x=group_products, y=group_brand)\n",
    "ax.set_ylabel('# of brands')\n",
    "ax.set_xlabel('# of products')"
   ]
  },
  {
   "cell_type": "code",
   "execution_count": 11,
   "metadata": {},
   "outputs": [
    {
     "data": {
      "text/plain": [
       "<matplotlib.axes._subplots.AxesSubplot at 0x1fac822b518>"
      ]
     },
     "execution_count": 11,
     "metadata": {},
     "output_type": "execute_result"
    },
    {
     "data": {
      "image/png": "[encoded data removed]",
      "text/plain": [
       "<Figure size 576x576 with 1 Axes>"
      ]
     },
     "metadata": {
      "needs_background": "light"
     },
     "output_type": "display_data"
    }
   ],
   "source": [
    "# lets look at the top 30 categories by number of products\n",
    "products.groupby('benchmark_category2')['product_id'].count().sort_values().tail(30).plot.barh(figsize=(8,8), color='purple')"
   ]
  },
  {
   "cell_type": "code",
   "execution_count": 12,
   "metadata": {},
   "outputs": [
    {
     "name": "stdout",
     "output_type": "stream",
     "text": [
      "<class 'pandas.core.frame.DataFrame'>\n",
      "RangeIndex: 48227 entries, 0 to 48226\n",
      "Data columns (total 13 columns):\n",
      "index                   48227 non-null int64\n",
      "product_id              48227 non-null int64\n",
      "product_title           47698 non-null object\n",
      "mpn_list                47976 non-null object\n",
      "manufacturer_id         48227 non-null float64\n",
      "brand_title             48227 non-null object\n",
      "flix_parent_category    48227 non-null object\n",
      "flix_subCategory1       48227 non-null object\n",
      "flix_subCategory2       40661 non-null object\n",
      "benchmark_category      48227 non-null object\n",
      "benchmark_category2     48227 non-null object\n",
      "title                   48227 non-null object\n",
      "Categories              48227 non-null object\n",
      "dtypes: float64(1), int64(2), object(10)\n",
      "memory usage: 4.8+ MB\n"
     ]
    }
   ],
   "source": [
    "# lets subset by top 15 categories and use this data for further analysis\n",
    "top15cats = products.groupby('benchmark_category2')['product_id'].count().nlargest(15).keys()\n",
    "prod_15cats = products[products['benchmark_category2'].isin(top15cats)].reset_index()\n",
    "prod_15cats.info()"
   ]
  },
  {
   "cell_type": "markdown",
   "metadata": {},
   "source": [
    "# 2. Categorisation with product titles and categories"
   ]
  },
  {
   "cell_type": "code",
   "execution_count": 13,
   "metadata": {},
   "outputs": [
    {
     "data": {
      "text/plain": [
       "0    Laptops And Hybrids | Business Laptop PCs | HP...\n",
       "1                   Electrolux | NonStar | Cooker_Hood\n",
       "Name: Categories, dtype: object"
      ]
     },
     "execution_count": 13,
     "metadata": {},
     "output_type": "execute_result"
    }
   ],
   "source": [
    "prod_15cats['Categories'].head(2)"
   ]
  },
  {
   "cell_type": "code",
   "execution_count": 14,
   "metadata": {},
   "outputs": [
    {
     "data": {
      "text/plain": [
       "0    Laptops And Hybrids  Business Laptop PCs  HP E...\n",
       "1                     Electrolux  NonStar  Cooker_Hood\n",
       "Name: Categories, dtype: object"
      ]
     },
     "execution_count": 14,
     "metadata": {},
     "output_type": "execute_result"
    }
   ],
   "source": [
    "# Remove the pipes '|' in the Categories\n",
    "prod_15cats['Categories'] = prod_15cats['Categories'].str.replace('|', '')\n",
    "prod_15cats['Categories'].head(2)"
   ]
  },
  {
   "cell_type": "code",
   "execution_count": 15,
   "metadata": {},
   "outputs": [],
   "source": [
    "# lets concatenate the two columns : product titles and categories\n",
    "prod_15cats['title&cat']=np.nan\n",
    "for i in range(len(prod_15cats)):\n",
    "    if pd.isna(prod_15cats.loc[i, 'product_title']):\n",
    "        prod_15cats.loc[i, 'title&cat'] =  prod_15cats.loc[i, 'title'] + ' ' + prod_15cats.loc[i, 'Categories']\n",
    "    else:\n",
    "        prod_15cats.loc[i,'title&cat'] =  prod_15cats.loc[i, 'product_title'] + ' ' + prod_15cats.loc[i, 'Categories']"
   ]
  },
  {
   "cell_type": "code",
   "execution_count": 20,
   "metadata": {},
   "outputs": [],
   "source": [
    "prod_15cats.to_csv('prod_15cats.csv', sep='\\t', encoding='utf-8', index=False)"
   ]
  },
  {
   "cell_type": "code",
   "execution_count": 114,
   "metadata": {},
   "outputs": [],
   "source": [
    "prod_15cats = pd.read_csv('prod_15cats.csv', sep='\\t')"
   ]
  },
  {
   "cell_type": "code",
   "execution_count": 162,
   "metadata": {},
   "outputs": [],
   "source": [
    "# check for empty strings in the two columns \n",
    "#prod_15cats[prod_15cats[['product_title','Categories']].isnull().values.any(1)]"
   ]
  },
  {
   "cell_type": "markdown",
   "metadata": {},
   "source": [
    "# Bags of Word model"
   ]
  },
  {
   "cell_type": "code",
   "execution_count": 47,
   "metadata": {},
   "outputs": [],
   "source": [
    "# functions to tokenize the whole doc and form a vocabulary\n",
    "\n",
    "# clean texts\n",
    "def tokenize_doc(doc):\n",
    "    # split into tokens by white space\n",
    "    tokens = doc.split()\n",
    "    # remove punctuation from each token\n",
    "    table = str.maketrans('', '', string.punctuation)\n",
    "    tokens = [w.translate(table) for w in tokens]\n",
    "    tokens = [w.lower() for w in tokens]\n",
    "    # remove remaining tokens that are not alphabetic\n",
    "    tokens = [word for word in tokens if word.isalpha()]\n",
    "    # filter out stop words\n",
    "    stop_words = set(stopwords.words('english'))\n",
    "    tokens = [w for w in tokens if not w in stop_words]\n",
    "    # filter out short tokens\n",
    "    tokens = [word for word in tokens if len(word) > 1]\n",
    "    return tokens\n",
    "\n",
    "# load text and add to vocab\n",
    "def add_to_vocab(column, vocab):\n",
    "    for i in range(len(column)):\n",
    "        tokens = tokenize_doc(column[i])\n",
    "        vocab.update(tokens)  "
   ]
  },
  {
   "cell_type": "code",
   "execution_count": 48,
   "metadata": {},
   "outputs": [],
   "source": [
    "#create the vocabulary after tokenization of the whole doc\n",
    "vocab = Counter()\n",
    "add_to_vocab(prod_15cats['title&cat'], vocab)"
   ]
  },
  {
   "cell_type": "code",
   "execution_count": 49,
   "metadata": {},
   "outputs": [
    {
     "name": "stdout",
     "output_type": "stream",
     "text": [
      "[('hp', 71418), ('pc', 35804), ('notebook', 25007), ('series', 18939), ('pavilion', 12386), ('desktop', 10149), ('pcs', 10050), ('home', 9417), ('workstation', 8230), ('compaq', 7380), ('mobile', 6067), ('ink', 5920), ('elitebook', 5737), ('probook', 5642), ('led', 5609), ('philips', 5544), ('tv', 5533), ('printer', 4692), ('cartridges', 4653), ('consumer', 4535)]\n"
     ]
    },
    {
     "data": {
      "text/plain": [
       "(6615, None)"
      ]
     },
     "execution_count": 49,
     "metadata": {},
     "output_type": "execute_result"
    }
   ],
   "source": [
    "# length of the vocab and the most occuring words\n",
    "len(vocab), print(vocab.most_common(20))\n",
    "#print(vocab.most_common()[:len(vocab)-100:-1])  # to obtain the lower list"
   ]
  },
  {
   "cell_type": "code",
   "execution_count": 50,
   "metadata": {},
   "outputs": [
    {
     "name": "stdout",
     "output_type": "stream",
     "text": [
      "Vocabulary size: 4378\n"
     ]
    }
   ],
   "source": [
    "# remove tokens with just one occurence to reduce the vocab size\n",
    "tokens = [k for k,c in vocab.items() if c > 1]\n",
    "print('Vocabulary size: {}'.format( len(tokens)))"
   ]
  },
  {
   "cell_type": "code",
   "execution_count": 51,
   "metadata": {},
   "outputs": [],
   "source": [
    "# save the vocabulary to a file\n",
    "def save_vocab(lines, filename):\n",
    "    # convert lines to a single blob of text\n",
    "    data = '\\n'.join(lines)\n",
    "    # open file\n",
    "    file = open(filename, 'w', encoding=\"utf-8\")\n",
    "    file.write(data)\n",
    "    file.close()\n",
    "    \n",
    "# save the vocabulary\n",
    "save_vocab(tokens, 'vocab.txt')"
   ]
  },
  {
   "cell_type": "code",
   "execution_count": 65,
   "metadata": {},
   "outputs": [],
   "source": [
    "# function to tokenize each row\n",
    "def tokenize_row(column, vocab):\n",
    "    tokenz = []\n",
    "    for i in range(len(column)):\n",
    "        tokens = tokenize_doc(column[i])\n",
    "        tokens = [w for w in tokens if w in vocab]\n",
    "        tokenz.append(tokens)\n",
    "    return tokenz"
   ]
  },
  {
   "cell_type": "code",
   "execution_count": 115,
   "metadata": {},
   "outputs": [
    {
     "data": {
      "text/plain": [
       "0    [hp, elitebook, notebook, pc, laptops, hybrids...\n",
       "1    [electrolux, chimney, design, hood, cm, db, el...\n",
       "2    [electrolux, chimney, design, hood, cm, db, el...\n",
       "3                    [oven, electrolux, nonstar, oven]\n",
       "4    [backup, plus, desk, für, den, mac, mit, thund...\n",
       "Name: tokens, dtype: object"
      ]
     },
     "execution_count": 115,
     "metadata": {},
     "output_type": "execute_result"
    }
   ],
   "source": [
    "# tokenize each row\n",
    "prod_15cats['tokens'] = tokenize_row(prod_15cats['title&cat'], vocab)\n",
    "prod_15cats['tokens'].head()"
   ]
  },
  {
   "cell_type": "code",
   "execution_count": 54,
   "metadata": {},
   "outputs": [
    {
     "data": {
      "text/plain": [
       "<matplotlib.axes._subplots.AxesSubplot at 0x1fae0b59f28>"
      ]
     },
     "execution_count": 54,
     "metadata": {},
     "output_type": "execute_result"
    },
    {
     "data": {
      "image/png": "[encoded data removed]",
      "text/plain": [
       "<Figure size 864x432 with 1 Axes>"
      ]
     },
     "metadata": {
      "needs_background": "light"
     },
     "output_type": "display_data"
    }
   ],
   "source": [
    "# lets look at the top 30 categories by number of products\n",
    "prod_15cats.groupby('benchmark_category2')['product_id'].count().nlargest(15).plot.bar(figsize=(12,6), color='purple')"
   ]
  },
  {
   "cell_type": "code",
   "execution_count": 116,
   "metadata": {},
   "outputs": [],
   "source": [
    "# create train and test set with stratified sampling\n",
    "y = prod_15cats.pop('benchmark_category2')\n",
    "x = prod_15cats['tokens']\n",
    "x_train, x_test, y_train, y_test = train_test_split( x, y, test_size=0.30, random_state=42, stratify=y)"
   ]
  },
  {
   "cell_type": "markdown",
   "metadata": {},
   "source": [
    "# TF-IDF Vectors as features"
   ]
  },
  {
   "cell_type": "code",
   "execution_count": 119,
   "metadata": {},
   "outputs": [],
   "source": [
    "# label encode the target variable \n",
    "encoder = preprocessing.LabelEncoder()\n",
    "y_train = encoder.fit_transform(y_train)\n",
    "y_test = encoder.fit_transform(y_test)"
   ]
  },
  {
   "cell_type": "code",
   "execution_count": 128,
   "metadata": {},
   "outputs": [
    {
     "ename": "AttributeError",
     "evalue": "'list' object has no attribute 'lower'",
     "output_type": "error",
     "traceback": [
      "\u001b[1;31m---------------------------------------------------------------------------\u001b[0m",
      "\u001b[1;31mAttributeError\u001b[0m                            Traceback (most recent call last)",
      "\u001b[1;32m<ipython-input-128-9b386f495eda>\u001b[0m in \u001b[0;36m<module>\u001b[1;34m\u001b[0m\n\u001b[0;32m      1\u001b[0m \u001b[0mtfidf_vect\u001b[0m \u001b[1;33m=\u001b[0m \u001b[0mTfidfVectorizer\u001b[0m\u001b[1;33m(\u001b[0m\u001b[0manalyzer\u001b[0m\u001b[1;33m=\u001b[0m\u001b[1;34m'word'\u001b[0m\u001b[1;33m,\u001b[0m \u001b[0mtoken_pattern\u001b[0m\u001b[1;33m=\u001b[0m\u001b[1;34mr'\\w{1,}'\u001b[0m\u001b[1;33m,\u001b[0m \u001b[0mstop_words\u001b[0m\u001b[1;33m=\u001b[0m\u001b[1;34m'english'\u001b[0m\u001b[1;33m)\u001b[0m\u001b[1;33m\u001b[0m\u001b[1;33m\u001b[0m\u001b[0m\n\u001b[0;32m      2\u001b[0m \u001b[0mtfidf_vect\u001b[0m\u001b[1;33m.\u001b[0m\u001b[0mfit\u001b[0m\u001b[1;33m(\u001b[0m\u001b[0mprod_15cats\u001b[0m\u001b[1;33m[\u001b[0m\u001b[1;34m'tokens'\u001b[0m\u001b[1;33m]\u001b[0m\u001b[1;33m.\u001b[0m\u001b[0mmap\u001b[0m\u001b[1;33m(\u001b[0m\u001b[0mstr\u001b[0m\u001b[1;33m)\u001b[0m\u001b[1;33m)\u001b[0m\u001b[1;33m\u001b[0m\u001b[1;33m\u001b[0m\u001b[0m\n\u001b[1;32m----> 3\u001b[1;33m \u001b[0mx_train_tfidf\u001b[0m \u001b[1;33m=\u001b[0m  \u001b[0mtfidf_vect\u001b[0m\u001b[1;33m.\u001b[0m\u001b[0mtransform\u001b[0m\u001b[1;33m(\u001b[0m\u001b[0mx_train\u001b[0m\u001b[1;33m)\u001b[0m\u001b[1;33m\u001b[0m\u001b[1;33m\u001b[0m\u001b[0m\n\u001b[0m\u001b[0;32m      4\u001b[0m \u001b[0mx_test_tfidf\u001b[0m \u001b[1;33m=\u001b[0m  \u001b[0mtfidf_vect\u001b[0m\u001b[1;33m.\u001b[0m\u001b[0mtransform\u001b[0m\u001b[1;33m(\u001b[0m\u001b[0mx_test\u001b[0m\u001b[1;33m)\u001b[0m\u001b[1;33m\u001b[0m\u001b[1;33m\u001b[0m\u001b[0m\n",
      "\u001b[1;32m~\\AppData\\Local\\Continuum\\anaconda3\\lib\\site-packages\\sklearn\\feature_extraction\\text.py\u001b[0m in \u001b[0;36mtransform\u001b[1;34m(self, raw_documents, copy)\u001b[0m\n\u001b[0;32m   1639\u001b[0m         \u001b[0mcheck_is_fitted\u001b[0m\u001b[1;33m(\u001b[0m\u001b[0mself\u001b[0m\u001b[1;33m,\u001b[0m \u001b[1;34m'_tfidf'\u001b[0m\u001b[1;33m,\u001b[0m \u001b[1;34m'The tfidf vector is not fitted'\u001b[0m\u001b[1;33m)\u001b[0m\u001b[1;33m\u001b[0m\u001b[1;33m\u001b[0m\u001b[0m\n\u001b[0;32m   1640\u001b[0m \u001b[1;33m\u001b[0m\u001b[0m\n\u001b[1;32m-> 1641\u001b[1;33m         \u001b[0mX\u001b[0m \u001b[1;33m=\u001b[0m \u001b[0msuper\u001b[0m\u001b[1;33m(\u001b[0m\u001b[0mTfidfVectorizer\u001b[0m\u001b[1;33m,\u001b[0m \u001b[0mself\u001b[0m\u001b[1;33m)\u001b[0m\u001b[1;33m.\u001b[0m\u001b[0mtransform\u001b[0m\u001b[1;33m(\u001b[0m\u001b[0mraw_documents\u001b[0m\u001b[1;33m)\u001b[0m\u001b[1;33m\u001b[0m\u001b[1;33m\u001b[0m\u001b[0m\n\u001b[0m\u001b[0;32m   1642\u001b[0m         \u001b[1;32mreturn\u001b[0m \u001b[0mself\u001b[0m\u001b[1;33m.\u001b[0m\u001b[0m_tfidf\u001b[0m\u001b[1;33m.\u001b[0m\u001b[0mtransform\u001b[0m\u001b[1;33m(\u001b[0m\u001b[0mX\u001b[0m\u001b[1;33m,\u001b[0m \u001b[0mcopy\u001b[0m\u001b[1;33m=\u001b[0m\u001b[1;32mFalse\u001b[0m\u001b[1;33m)\u001b[0m\u001b[1;33m\u001b[0m\u001b[1;33m\u001b[0m\u001b[0m\n",
      "\u001b[1;32m~\\AppData\\Local\\Continuum\\anaconda3\\lib\\site-packages\\sklearn\\feature_extraction\\text.py\u001b[0m in \u001b[0;36mtransform\u001b[1;34m(self, raw_documents)\u001b[0m\n\u001b[0;32m   1083\u001b[0m \u001b[1;33m\u001b[0m\u001b[0m\n\u001b[0;32m   1084\u001b[0m         \u001b[1;31m# use the same matrix-building strategy as fit_transform\u001b[0m\u001b[1;33m\u001b[0m\u001b[1;33m\u001b[0m\u001b[1;33m\u001b[0m\u001b[0m\n\u001b[1;32m-> 1085\u001b[1;33m         \u001b[0m_\u001b[0m\u001b[1;33m,\u001b[0m \u001b[0mX\u001b[0m \u001b[1;33m=\u001b[0m \u001b[0mself\u001b[0m\u001b[1;33m.\u001b[0m\u001b[0m_count_vocab\u001b[0m\u001b[1;33m(\u001b[0m\u001b[0mraw_documents\u001b[0m\u001b[1;33m,\u001b[0m \u001b[0mfixed_vocab\u001b[0m\u001b[1;33m=\u001b[0m\u001b[1;32mTrue\u001b[0m\u001b[1;33m)\u001b[0m\u001b[1;33m\u001b[0m\u001b[1;33m\u001b[0m\u001b[0m\n\u001b[0m\u001b[0;32m   1086\u001b[0m         \u001b[1;32mif\u001b[0m \u001b[0mself\u001b[0m\u001b[1;33m.\u001b[0m\u001b[0mbinary\u001b[0m\u001b[1;33m:\u001b[0m\u001b[1;33m\u001b[0m\u001b[1;33m\u001b[0m\u001b[0m\n\u001b[0;32m   1087\u001b[0m             \u001b[0mX\u001b[0m\u001b[1;33m.\u001b[0m\u001b[0mdata\u001b[0m\u001b[1;33m.\u001b[0m\u001b[0mfill\u001b[0m\u001b[1;33m(\u001b[0m\u001b[1;36m1\u001b[0m\u001b[1;33m)\u001b[0m\u001b[1;33m\u001b[0m\u001b[1;33m\u001b[0m\u001b[0m\n",
      "\u001b[1;32m~\\AppData\\Local\\Continuum\\anaconda3\\lib\\site-packages\\sklearn\\feature_extraction\\text.py\u001b[0m in \u001b[0;36m_count_vocab\u001b[1;34m(self, raw_documents, fixed_vocab)\u001b[0m\n\u001b[0;32m    941\u001b[0m         \u001b[1;32mfor\u001b[0m \u001b[0mdoc\u001b[0m \u001b[1;32min\u001b[0m \u001b[0mraw_documents\u001b[0m\u001b[1;33m:\u001b[0m\u001b[1;33m\u001b[0m\u001b[1;33m\u001b[0m\u001b[0m\n\u001b[0;32m    942\u001b[0m             \u001b[0mfeature_counter\u001b[0m \u001b[1;33m=\u001b[0m \u001b[1;33m{\u001b[0m\u001b[1;33m}\u001b[0m\u001b[1;33m\u001b[0m\u001b[1;33m\u001b[0m\u001b[0m\n\u001b[1;32m--> 943\u001b[1;33m             \u001b[1;32mfor\u001b[0m \u001b[0mfeature\u001b[0m \u001b[1;32min\u001b[0m \u001b[0manalyze\u001b[0m\u001b[1;33m(\u001b[0m\u001b[0mdoc\u001b[0m\u001b[1;33m)\u001b[0m\u001b[1;33m:\u001b[0m\u001b[1;33m\u001b[0m\u001b[1;33m\u001b[0m\u001b[0m\n\u001b[0m\u001b[0;32m    944\u001b[0m                 \u001b[1;32mtry\u001b[0m\u001b[1;33m:\u001b[0m\u001b[1;33m\u001b[0m\u001b[1;33m\u001b[0m\u001b[0m\n\u001b[0;32m    945\u001b[0m                     \u001b[0mfeature_idx\u001b[0m \u001b[1;33m=\u001b[0m \u001b[0mvocabulary\u001b[0m\u001b[1;33m[\u001b[0m\u001b[0mfeature\u001b[0m\u001b[1;33m]\u001b[0m\u001b[1;33m\u001b[0m\u001b[1;33m\u001b[0m\u001b[0m\n",
      "\u001b[1;32m~\\AppData\\Local\\Continuum\\anaconda3\\lib\\site-packages\\sklearn\\feature_extraction\\text.py\u001b[0m in \u001b[0;36m<lambda>\u001b[1;34m(doc)\u001b[0m\n\u001b[0;32m    327\u001b[0m                                                tokenize)\n\u001b[0;32m    328\u001b[0m             return lambda doc: self._word_ngrams(\n\u001b[1;32m--> 329\u001b[1;33m                 tokenize(preprocess(self.decode(doc))), stop_words)\n\u001b[0m\u001b[0;32m    330\u001b[0m \u001b[1;33m\u001b[0m\u001b[0m\n\u001b[0;32m    331\u001b[0m         \u001b[1;32melse\u001b[0m\u001b[1;33m:\u001b[0m\u001b[1;33m\u001b[0m\u001b[1;33m\u001b[0m\u001b[0m\n",
      "\u001b[1;32m~\\AppData\\Local\\Continuum\\anaconda3\\lib\\site-packages\\sklearn\\feature_extraction\\text.py\u001b[0m in \u001b[0;36m<lambda>\u001b[1;34m(x)\u001b[0m\n\u001b[0;32m    255\u001b[0m \u001b[1;33m\u001b[0m\u001b[0m\n\u001b[0;32m    256\u001b[0m         \u001b[1;32mif\u001b[0m \u001b[0mself\u001b[0m\u001b[1;33m.\u001b[0m\u001b[0mlowercase\u001b[0m\u001b[1;33m:\u001b[0m\u001b[1;33m\u001b[0m\u001b[1;33m\u001b[0m\u001b[0m\n\u001b[1;32m--> 257\u001b[1;33m             \u001b[1;32mreturn\u001b[0m \u001b[1;32mlambda\u001b[0m \u001b[0mx\u001b[0m\u001b[1;33m:\u001b[0m \u001b[0mstrip_accents\u001b[0m\u001b[1;33m(\u001b[0m\u001b[0mx\u001b[0m\u001b[1;33m.\u001b[0m\u001b[0mlower\u001b[0m\u001b[1;33m(\u001b[0m\u001b[1;33m)\u001b[0m\u001b[1;33m)\u001b[0m\u001b[1;33m\u001b[0m\u001b[1;33m\u001b[0m\u001b[0m\n\u001b[0m\u001b[0;32m    258\u001b[0m         \u001b[1;32melse\u001b[0m\u001b[1;33m:\u001b[0m\u001b[1;33m\u001b[0m\u001b[1;33m\u001b[0m\u001b[0m\n\u001b[0;32m    259\u001b[0m             \u001b[1;32mreturn\u001b[0m \u001b[0mstrip_accents\u001b[0m\u001b[1;33m\u001b[0m\u001b[1;33m\u001b[0m\u001b[0m\n",
      "\u001b[1;31mAttributeError\u001b[0m: 'list' object has no attribute 'lower'"
     ]
    }
   ],
   "source": [
    "tfidf_vect = TfidfVectorizer(analyzer='word', token_pattern=r'\\w{1,}', stop_words='english')\n",
    "tfidf_vect.fit(prod_15cats['tokens'].map(str))\n",
    "x_train_tfidf =  tfidf_vect.transform(x_train)\n",
    "x_test_tfidf =  tfidf_vect.transform(x_test)"
   ]
  },
  {
   "cell_type": "code",
   "execution_count": 97,
   "metadata": {},
   "outputs": [
    {
     "data": {
      "text/plain": [
       "array([[0., 0., 0., 0., 0., 0., 0., 0., 0., 0., 0., 0., 0., 0., 0., 0.,\n",
       "        0., 0., 0., 0., 0., 0., 0., 0., 0., 0., 0., 0., 0., 0., 0., 0.,\n",
       "        0., 0., 0., 0., 0., 0., 0., 0., 0., 0., 0., 0., 0., 0., 0., 0.,\n",
       "        0., 0., 0., 0., 0., 0., 0., 0., 0., 0., 0., 0., 0., 0., 0., 0.,\n",
       "        0., 0., 0., 0., 0., 0., 0., 0., 0., 0., 0., 0., 0., 0., 0., 0.,\n",
       "        0., 0., 0., 0., 0., 0., 0., 0., 0., 0., 0., 0., 0., 0., 0., 0.,\n",
       "        0., 0., 0., 0., 0., 0., 0., 0., 0., 0., 0., 0., 0., 0., 0., 0.,\n",
       "        0., 0., 0., 0., 0., 0., 0., 0., 0., 0., 0., 0., 0., 0., 0., 0.,\n",
       "        0., 0., 0., 0., 0., 0., 0., 0., 0., 0., 0., 0., 0., 0., 0., 0.,\n",
       "        0., 0., 0., 0., 0., 0.]])"
      ]
     },
     "execution_count": 97,
     "metadata": {},
     "output_type": "execute_result"
    }
   ],
   "source": [
    "x_train_tfidf[1,:150].toarray()"
   ]
  },
  {
   "cell_type": "code",
   "execution_count": 101,
   "metadata": {},
   "outputs": [
    {
     "data": {
      "text/plain": [
       "6568"
      ]
     },
     "execution_count": 101,
     "metadata": {},
     "output_type": "execute_result"
    }
   ],
   "source": [
    "len(set(tfidf_vect.vocabulary_))"
   ]
  },
  {
   "cell_type": "code",
   "execution_count": 127,
   "metadata": {},
   "outputs": [
    {
     "data": {
      "text/plain": [
       "0        [hp, elitebook, notebook, pc, laptops, hybrids...\n",
       "1        [electrolux, chimney, design, hood, cm, db, el...\n",
       "2        [electrolux, chimney, design, hood, cm, db, el...\n",
       "3                        [oven, electrolux, nonstar, oven]\n",
       "4        [backup, plus, desk, für, den, mac, mit, thund...\n",
       "5        [gear, wrist, watch, strap, mobile, devices, a...\n",
       "6        [gear, wrist, watch, strap, mobile, devices, a...\n",
       "7                    [jbl, horizon, white, home, speakers]\n",
       "8        [harman, kardon, esquire, mini, whitecurrent, ...\n",
       "9        [tall, larder, led, display, fridges, refriger...\n",
       "10       [frost, freezer, led, display, freezers, refri...\n",
       "11       [washing, machine, energy, rating, steam, refr...\n",
       "12       [washing, machine, spin, speed, washing, machi...\n",
       "13                      [epson, workforce, pro, dn, epson]\n",
       "14       [high, performance, category, utp, patch, cabl...\n",
       "15       [microcharge, amp, chargesync, homesearch, inc...\n",
       "16       [patch, cable, snagless, molded, homesearch, n...\n",
       "17       [laptop, hdtv, cleaning, kit, laptopnew, acces...\n",
       "18                         [homesearch, homegaming, tools]\n",
       "19               [stp, snagless, patch, cable, homesearch]\n",
       "20       [switchable, scart, adapter, homesearch, video...\n",
       "21                                           [casesiphone]\n",
       "22       [jbl, synchros, redglobalcurrent, overear, one...\n",
       "23       [laptop, ac, replacement, power, cable, homese...\n",
       "24       [singlesided, horizontal, cable, manager, rack...\n",
       "25       [gold, portable, audio, player, stereo, cable,...\n",
       "26       [port, omniview, soho, kvm, switch, audio, sma...\n",
       "27       [belkin, inline, coupler, components, accessor...\n",
       "28       [lc, st, multimode, µm, duplex, fibre, patch, ...\n",
       "29       [patch, cable, snagless, molded, homesearch, n...\n",
       "                               ...                        \n",
       "48197            [richmond, stoves, freestanding, cookers]\n",
       "48198    [hp, notebook, laptops, hybrids, hp, home, lap...\n",
       "48199    [hp, gaming, pavilion, laptops, hybrids, hp, h...\n",
       "48200    [hp, notebook, laptops, hybrids, hp, home, lap...\n",
       "48201    [whirlpool, afb, integrsted, freezer, freezer,...\n",
       "48202    [philips, led, bulb, warm, white, nondimmable,...\n",
       "48203    [hp, pavilion, gaming, desktop, desktops, work...\n",
       "48204           [sterling, deluxe, stoves, range, cookers]\n",
       "48205    [hp, spectre, laptops, hybrids, hp, home, lapt...\n",
       "48206    [hp, elitebook, notebook, pc, laptops, hybrids...\n",
       "48207    [energy, rated, washing, machine, washing, mac...\n",
       "48208                                               [hood]\n",
       "48209    [line, cm, ultra, hd, lcd, monitor, sound, amp...\n",
       "48210    [hp, spectre, laptops, hybrids, hp, home, lapt...\n",
       "48211    [sandisk, ultra, usb, flash, drive, gb, usb, f...\n",
       "48212    [philips, hue, white, ambiance, explore, table...\n",
       "48213                            [predator, orion, aceruk]\n",
       "48214                            [predator, orion, aceruk]\n",
       "48215                      [tnf, fridge, freezer, cooling]\n",
       "48216    [hp, notebook, laptops, hybrids, hp, home, lap...\n",
       "48217    [hp, notebook, laptops, hybrids, hp, home, lap...\n",
       "48218            [multipack, durabrite, ultra, ink, epson]\n",
       "48219    [singlepack, magenta, claria, photo, hd, ink, ...\n",
       "48220                             [ideacentre, ideacentre]\n",
       "48221    [ultra, battery, pack, inc, type, cable, mobil...\n",
       "48222                            [predator, orion, aceruk]\n",
       "48223                                               [hood]\n",
       "48224    [hp, photosmart, eallinone, printer, hp, photo...\n",
       "48225                                               [hood]\n",
       "48226    [philips, lcd, monitor, digital, tv, tuner, cm...\n",
       "Name: tokens, Length: 48227, dtype: object"
      ]
     },
     "execution_count": 127,
     "metadata": {},
     "output_type": "execute_result"
    }
   ],
   "source": [
    "prod_15cats['tokens']"
   ]
  },
  {
   "cell_type": "code",
   "execution_count": 105,
   "metadata": {},
   "outputs": [
    {
     "name": "stdout",
     "output_type": "stream",
     "text": [
      "<class 'pandas.core.frame.DataFrame'>\n",
      "RangeIndex: 48227 entries, 0 to 48226\n",
      "Data columns (total 13 columns):\n",
      "product_id              48227 non-null int64\n",
      "product_title           47698 non-null object\n",
      "mpn_list                47976 non-null object\n",
      "manufacturer_id         48227 non-null float64\n",
      "brand_title             48227 non-null object\n",
      "flix_parent_category    48227 non-null object\n",
      "flix_subCategory1       48227 non-null object\n",
      "flix_subCategory2       40661 non-null object\n",
      "benchmark_category      48227 non-null object\n",
      "title                   48227 non-null object\n",
      "Categories              48227 non-null object\n",
      "title&cat               48227 non-null object\n",
      "tokens                  48227 non-null object\n",
      "dtypes: float64(1), int64(1), object(11)\n",
      "memory usage: 4.8+ MB\n"
     ]
    }
   ],
   "source": [
    "prod_15cats.info()"
   ]
  }
 ],
 "metadata": {
  "kernelspec": {
   "display_name": "Python 3",
   "language": "python",
   "name": "python3"
  },
  "language_info": {
   "codemirror_mode": {
    "name": "ipython",
    "version": 3
   },
   "file_extension": ".py",
   "mimetype": "text/x-python",
   "name": "python",
   "nbconvert_exporter": "python",
   "pygments_lexer": "ipython3",
   "version": "3.6.8"
  }
 },
 "nbformat": 4,
 "nbformat_minor": 2
}

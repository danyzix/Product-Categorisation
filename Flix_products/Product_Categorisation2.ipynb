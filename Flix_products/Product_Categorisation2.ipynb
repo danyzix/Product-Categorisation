{
 "cells": [
  {
   "cell_type": "code",
   "execution_count": 66,
   "metadata": {},
   "outputs": [],
   "source": [
    "import numpy as np\n",
    "import matplotlib.pyplot as plt\n",
    "import pandas as pd, mysql.connector\n",
    "import xgboost, textblob, string\n",
    "from sklearn import model_selection, preprocessing, linear_model, naive_bayes, metrics, svm\n",
    "from sklearn.feature_extraction.text import TfidfVectorizer, CountVectorizer\n",
    "from sklearn import decomposition, ensemble\n",
    "from sklearn.preprocessing import MultiLabelBinarizer\n",
    "\n",
    "import keras\n",
    "from keras.layers import Embedding, Flatten, Dense, GlobalMaxPool1D, Dropout\n",
    "from keras.models import Sequential\n",
    "from keras.preprocessing.text import Tokenizer\n",
    "from keras.preprocessing.sequence import pad_sequences\n",
    "from keras.preprocessing import text, sequence\n",
    "from keras import layers, models, optimizers"
   ]
  },
  {
   "cell_type": "code",
   "execution_count": 3,
   "metadata": {},
   "outputs": [],
   "source": [
    "df1 = pd.read_excel('\\\\Users\\\\Dan\\\\Documents\\\\Python\\\\Data\\\\Flix_products\\\\SamsungReport.xlsx','Features', keep_default_na=False)"
   ]
  },
  {
   "cell_type": "code",
   "execution_count": 4,
   "metadata": {},
   "outputs": [
    {
     "data": {
      "text/html": [
       "<div>\n",
       "<style scoped>\n",
       "    .dataframe tbody tr th:only-of-type {\n",
       "        vertical-align: middle;\n",
       "    }\n",
       "\n",
       "    .dataframe tbody tr th {\n",
       "        vertical-align: top;\n",
       "    }\n",
       "\n",
       "    .dataframe thead th {\n",
       "        text-align: right;\n",
       "    }\n",
       "</style>\n",
       "<table border=\"1\" class=\"dataframe\">\n",
       "  <thead>\n",
       "    <tr style=\"text-align: right;\">\n",
       "      <th></th>\n",
       "      <th>product_id</th>\n",
       "      <th>title</th>\n",
       "      <th>html</th>\n",
       "    </tr>\n",
       "  </thead>\n",
       "  <tbody>\n",
       "    <tr>\n",
       "      <th>0</th>\n",
       "      <td>628714</td>\n",
       "      <td>xbox-supertemplate</td>\n",
       "      <td>xbox-supertemplate1111 kieskrreurig</td>\n",
       "    </tr>\n",
       "    <tr>\n",
       "      <th>1</th>\n",
       "      <td>653143</td>\n",
       "      <td>contrast enhancer</td>\n",
       "      <td>Applies one million criteria for contrast yet ...</td>\n",
       "    </tr>\n",
       "    <tr>\n",
       "      <th>2</th>\n",
       "      <td>653143</td>\n",
       "      <td>colour optimiser</td>\n",
       "      <td>Preserves the original level of brightness whi...</td>\n",
       "    </tr>\n",
       "    <tr>\n",
       "      <th>3</th>\n",
       "      <td>653143</td>\n",
       "      <td>detail enhancer</td>\n",
       "      <td>Selectively sharpens edges so that you see thi...</td>\n",
       "    </tr>\n",
       "    <tr>\n",
       "      <th>4</th>\n",
       "      <td>653143</td>\n",
       "      <td>3way burn-in protection</td>\n",
       "      <td>3 Types of Anti-Burn Program\\nScreen burn-in i...</td>\n",
       "    </tr>\n",
       "  </tbody>\n",
       "</table>\n",
       "</div>"
      ],
      "text/plain": [
       "   product_id                    title  \\\n",
       "0      628714       xbox-supertemplate   \n",
       "1      653143        contrast enhancer   \n",
       "2      653143         colour optimiser   \n",
       "3      653143          detail enhancer   \n",
       "4      653143  3way burn-in protection   \n",
       "\n",
       "                                                html  \n",
       "0                xbox-supertemplate1111 kieskrreurig  \n",
       "1  Applies one million criteria for contrast yet ...  \n",
       "2  Preserves the original level of brightness whi...  \n",
       "3  Selectively sharpens edges so that you see thi...  \n",
       "4  3 Types of Anti-Burn Program\\nScreen burn-in i...  "
      ]
     },
     "execution_count": 4,
     "metadata": {},
     "output_type": "execute_result"
    }
   ],
   "source": [
    "df1[['title', 'html']] = df1[['title', 'html']].astype(str)\n",
    "df1.head()"
   ]
  },
  {
   "cell_type": "code",
   "execution_count": 5,
   "metadata": {},
   "outputs": [
    {
     "data": {
      "text/plain": [
       "product_id    49215\n",
       "title         49215\n",
       "html          49215\n",
       "dtype: int64"
      ]
     },
     "execution_count": 5,
     "metadata": {},
     "output_type": "execute_result"
    }
   ],
   "source": [
    "df1.apply(lambda x: x.count(), axis=0)"
   ]
  },
  {
   "cell_type": "code",
   "execution_count": 6,
   "metadata": {},
   "outputs": [],
   "source": [
    "# concatenate title and html for the same product_id into one cell\n",
    "df2 = df1.groupby('product_id')['title','html'].agg(lambda x: ' '.join(x)).reset_index()\n",
    "df2['texts'] = df2['title'] + \" \" + df2['html']\n",
    "df3 = df2.groupby('product_id')['texts'].agg(lambda x: ' '.join(x)).reset_index()"
   ]
  },
  {
   "cell_type": "code",
   "execution_count": 7,
   "metadata": {},
   "outputs": [
    {
     "data": {
      "text/plain": [
       "(6036, 2)"
      ]
     },
     "execution_count": 7,
     "metadata": {},
     "output_type": "execute_result"
    }
   ],
   "source": [
    "df3.shape"
   ]
  },
  {
   "cell_type": "code",
   "execution_count": 8,
   "metadata": {},
   "outputs": [
    {
     "data": {
      "text/html": [
       "<div>\n",
       "<style scoped>\n",
       "    .dataframe tbody tr th:only-of-type {\n",
       "        vertical-align: middle;\n",
       "    }\n",
       "\n",
       "    .dataframe tbody tr th {\n",
       "        vertical-align: top;\n",
       "    }\n",
       "\n",
       "    .dataframe thead th {\n",
       "        text-align: right;\n",
       "    }\n",
       "</style>\n",
       "<table border=\"1\" class=\"dataframe\">\n",
       "  <thead>\n",
       "    <tr style=\"text-align: right;\">\n",
       "      <th></th>\n",
       "      <th>product_id</th>\n",
       "      <th>texts</th>\n",
       "    </tr>\n",
       "  </thead>\n",
       "  <tbody>\n",
       "    <tr>\n",
       "      <th>0</th>\n",
       "      <td>628714</td>\n",
       "      <td>xbox-supertemplate xbox-supertemplate1111 kies...</td>\n",
       "    </tr>\n",
       "    <tr>\n",
       "      <th>1</th>\n",
       "      <td>653143</td>\n",
       "      <td>contrast enhancer colour optimiser detail enha...</td>\n",
       "    </tr>\n",
       "  </tbody>\n",
       "</table>\n",
       "</div>"
      ],
      "text/plain": [
       "   product_id                                              texts\n",
       "0      628714  xbox-supertemplate xbox-supertemplate1111 kies...\n",
       "1      653143  contrast enhancer colour optimiser detail enha..."
      ]
     },
     "execution_count": 8,
     "metadata": {},
     "output_type": "execute_result"
    }
   ],
   "source": [
    "df3.head(2)"
   ]
  },
  {
   "cell_type": "code",
   "execution_count": 10,
   "metadata": {},
   "outputs": [
    {
     "name": "stderr",
     "output_type": "stream",
     "text": [
      "C:\\Users\\Dan\\Anaconda3\\lib\\site-packages\\IPython\\core\\interactiveshell.py:2785: DtypeWarning: Columns (28) have mixed types. Specify dtype option on import or set low_memory=False.\n",
      "  interactivity=interactivity, compiler=compiler, result=result)\n"
     ]
    }
   ],
   "source": [
    "# merge some product details\n",
    "products = pd.read_csv('\\\\Users\\\\Dan\\\\Documents\\\\Python\\\\Data\\\\products.csv', sep='\\t')\n",
    "df3 = pd.merge(df3, products[['product_id', 'flix_parent_category', 'flix_subCategory1']],\n",
    "                 on='product_id', how='left')"
   ]
  },
  {
   "cell_type": "code",
   "execution_count": 11,
   "metadata": {},
   "outputs": [
    {
     "data": {
      "text/plain": [
       "flix_parent_category\n",
       "Cameras                      276\n",
       "Computing/Gaming            1442\n",
       "Health & Beauty                2\n",
       "Home Appliances              703\n",
       "Home Entertainment          1076\n",
       "Office Needs                   4\n",
       "Other                          7\n",
       "Phone/Mobiles               1489\n",
       "Small Gadgets/Appliances      21\n",
       "nan                         1016\n",
       "Name: product_id, dtype: int64"
      ]
     },
     "execution_count": 11,
     "metadata": {},
     "output_type": "execute_result"
    }
   ],
   "source": [
    "df3.astype(str).groupby('flix_parent_category')['product_id'].count()"
   ]
  },
  {
   "cell_type": "code",
   "execution_count": 12,
   "metadata": {},
   "outputs": [],
   "source": [
    "# drop products with unassigned categories\n",
    "df3.dropna(subset=['flix_parent_category'], inplace=True)"
   ]
  },
  {
   "cell_type": "code",
   "execution_count": 14,
   "metadata": {},
   "outputs": [
    {
     "data": {
      "text/plain": [
       "(5020,)"
      ]
     },
     "execution_count": 14,
     "metadata": {},
     "output_type": "execute_result"
    }
   ],
   "source": [
    "# separate description and product categories\n",
    "texts = df3['texts']\n",
    "texts.shape"
   ]
  },
  {
   "cell_type": "code",
   "execution_count": 39,
   "metadata": {},
   "outputs": [],
   "source": [
    "maxlen = 100   # cuts off after 100 words\n",
    "training_samples = 3000    # trains on 200 samples\n",
    "#validation_samples = 10000   #  validates on 10,000 samples\n",
    "max_words = 1000    # considers only the top 10,000 words in the dataset"
   ]
  },
  {
   "cell_type": "code",
   "execution_count": 40,
   "metadata": {},
   "outputs": [],
   "source": [
    "# converts each description to a list of integers considering only the max_words\n",
    "tokenizer = Tokenizer(num_words=max_words)\n",
    "tokenizer.fit_on_texts(texts)\n",
    "sequences = tokenizer.texts_to_sequences(texts)  "
   ]
  },
  {
   "cell_type": "code",
   "execution_count": 43,
   "metadata": {},
   "outputs": [],
   "source": [
    "data = pad_sequences(sequences, maxlen=maxlen)   # each  tokenized review is cut to maxlen (100 words or padded 0 if less)"
   ]
  },
  {
   "cell_type": "code",
   "execution_count": 41,
   "metadata": {},
   "outputs": [
    {
     "name": "stdout",
     "output_type": "stream",
     "text": [
      "Found 15497 unique tokens.\n"
     ]
    }
   ],
   "source": [
    "word_index = tokenizer.word_index\n",
    "print('Found %s unique tokens.' % len(word_index))"
   ]
  },
  {
   "cell_type": "code",
   "execution_count": 68,
   "metadata": {},
   "outputs": [
    {
     "data": {
      "text/plain": [
       "{0, 1, 2, 3, 4, 5, 6, 7, 8}"
      ]
     },
     "execution_count": 68,
     "metadata": {},
     "output_type": "execute_result"
    }
   ],
   "source": [
    "# encode the target labels\n",
    "encoder = preprocessing.LabelEncoder()\n",
    "encoded_labels = encoder.fit_transform(df3['flix_parent_category'])\n",
    "set(labels)"
   ]
  },
  {
   "cell_type": "code",
   "execution_count": 69,
   "metadata": {},
   "outputs": [
    {
     "data": {
      "text/plain": [
       "(5161, 9)"
      ]
     },
     "execution_count": 69,
     "metadata": {},
     "output_type": "execute_result"
    }
   ],
   "source": [
    "labels = keras.utils.to_categorical(encoded_labels)\n",
    "labels.shape"
   ]
  },
  {
   "cell_type": "code",
   "execution_count": 108,
   "metadata": {},
   "outputs": [],
   "source": [
    "# mlb = MultiLabelBinarizer()\n",
    "# labels = mlb.fit_transform(encoded_labels)\n",
    "# labels.shape"
   ]
  },
  {
   "cell_type": "code",
   "execution_count": 72,
   "metadata": {},
   "outputs": [
    {
     "name": "stdout",
     "output_type": "stream",
     "text": [
      "Shape of data tensor: (5161, 100)\n",
      "Shape of label tensor: (5161, 9)\n"
     ]
    }
   ],
   "source": [
    "labels = np.asarray(labels)\n",
    "print('Shape of data tensor:', data.shape)\n",
    "print('Shape of label tensor:', labels.shape)"
   ]
  },
  {
   "cell_type": "code",
   "execution_count": 73,
   "metadata": {},
   "outputs": [],
   "source": [
    "indices = np.arange(data.shape[0])  \n",
    "np.random.shuffle(indices)\n",
    "data = data[indices]\n",
    "labels = labels[indices]"
   ]
  },
  {
   "cell_type": "code",
   "execution_count": 74,
   "metadata": {},
   "outputs": [],
   "source": [
    "x_train = data[:training_samples]\n",
    "y_train = labels[:training_samples]\n",
    "x_val = data[training_samples: ]\n",
    "y_val = labels[training_samples: ]"
   ]
  },
  {
   "cell_type": "code",
   "execution_count": 75,
   "metadata": {},
   "outputs": [
    {
     "ename": "TypeError",
     "evalue": "unhashable type: 'numpy.ndarray'",
     "output_type": "error",
     "traceback": [
      "\u001b[1;31m---------------------------------------------------------------------------\u001b[0m",
      "\u001b[1;31mTypeError\u001b[0m                                 Traceback (most recent call last)",
      "\u001b[1;32m<ipython-input-75-05f27693f596>\u001b[0m in \u001b[0;36m<module>\u001b[1;34m\u001b[0m\n\u001b[1;32m----> 1\u001b[1;33m \u001b[0mset\u001b[0m\u001b[1;33m(\u001b[0m\u001b[0my_val\u001b[0m\u001b[1;33m)\u001b[0m\u001b[1;33m,\u001b[0m \u001b[0mtype\u001b[0m\u001b[1;33m(\u001b[0m\u001b[0my_train\u001b[0m\u001b[1;33m)\u001b[0m\u001b[1;33m\u001b[0m\u001b[1;33m\u001b[0m\u001b[0m\n\u001b[0m",
      "\u001b[1;31mTypeError\u001b[0m: unhashable type: 'numpy.ndarray'"
     ]
    }
   ],
   "source": [
    "#set(y_val), type(y_train)"
   ]
  },
  {
   "cell_type": "code",
   "execution_count": 126,
   "metadata": {},
   "outputs": [
    {
     "name": "stdout",
     "output_type": "stream",
     "text": [
      "_________________________________________________________________\n",
      "Layer (type)                 Output Shape              Param #   \n",
      "=================================================================\n",
      "embedding_14 (Embedding)     (None, 100, 100)          100000    \n",
      "_________________________________________________________________\n",
      "flatten_11 (Flatten)         (None, 10000)             0         \n",
      "_________________________________________________________________\n",
      "dense_24 (Dense)             (None, 64)                640064    \n",
      "_________________________________________________________________\n",
      "dense_25 (Dense)             (None, 9)                 585       \n",
      "=================================================================\n",
      "Total params: 740,649\n",
      "Trainable params: 740,649\n",
      "Non-trainable params: 0\n",
      "_________________________________________________________________\n"
     ]
    }
   ],
   "source": [
    "# Training the same model without pretrained word embeddings\n",
    "from keras.models import Sequential\n",
    "from keras.layers import Embedding, Flatten, Dense\n",
    "\n",
    "embedding_dim = 100\n",
    "model = Sequential()\n",
    "model.add(Embedding(max_words, embedding_dim, input_length=maxlen))\n",
    "model.add(Flatten())\n",
    "model.add(Dense(64, activation='relu'))\n",
    "model.add(Dense(9, activation='softmax'))\n",
    "model.summary()"
   ]
  },
  {
   "cell_type": "code",
   "execution_count": 76,
   "metadata": {},
   "outputs": [
    {
     "name": "stdout",
     "output_type": "stream",
     "text": [
      "WARNING:tensorflow:From C:\\Users\\Daniel\\AppData\\Local\\Continuum\\anaconda3\\lib\\site-packages\\tensorflow\\python\\ops\\math_ops.py:3066: to_int32 (from tensorflow.python.ops.math_ops) is deprecated and will be removed in a future version.\n",
      "Instructions for updating:\n",
      "Use tf.cast instead.\n",
      "Train on 4000 samples, validate on 1161 samples\n",
      "Epoch 1/10\n",
      "4000/4000 [==============================] - 2s 591us/step - loss: 0.8310 - acc: 0.7668 - val_loss: 0.3951 - val_acc: 0.8880\n",
      "Epoch 2/10\n",
      "4000/4000 [==============================] - 2s 506us/step - loss: 0.2059 - acc: 0.9465 - val_loss: 0.2858 - val_acc: 0.9216\n",
      "Epoch 3/10\n",
      "4000/4000 [==============================] - 2s 502us/step - loss: 0.1140 - acc: 0.9680 - val_loss: 0.2573 - val_acc: 0.9251\n",
      "Epoch 4/10\n",
      "4000/4000 [==============================] - 2s 494us/step - loss: 0.0930 - acc: 0.9720 - val_loss: 0.2974 - val_acc: 0.9173\n",
      "Epoch 5/10\n",
      "4000/4000 [==============================] - 2s 501us/step - loss: 0.0787 - acc: 0.9790 - val_loss: 0.3325 - val_acc: 0.9070\n",
      "Epoch 6/10\n",
      "4000/4000 [==============================] - 2s 504us/step - loss: 0.0756 - acc: 0.9785 - val_loss: 0.3346 - val_acc: 0.9087\n",
      "Epoch 7/10\n",
      "4000/4000 [==============================] - 2s 498us/step - loss: 0.0723 - acc: 0.9783 - val_loss: 0.3209 - val_acc: 0.9276\n",
      "Epoch 8/10\n",
      "4000/4000 [==============================] - 2s 487us/step - loss: 0.0677 - acc: 0.9802 - val_loss: 0.3439 - val_acc: 0.9208\n",
      "Epoch 9/10\n",
      "4000/4000 [==============================] - 2s 500us/step - loss: 0.0672 - acc: 0.9780 - val_loss: 0.3267 - val_acc: 0.9294\n",
      "Epoch 10/10\n",
      "4000/4000 [==============================] - 2s 501us/step - loss: 0.0637 - acc: 0.9800 - val_loss: 0.3403 - val_acc: 0.9233\n"
     ]
    }
   ],
   "source": [
    "model.compile(optimizer='rmsprop',\n",
    "              loss='categorical_crossentropy',\n",
    "              metrics=['accuracy'])\n",
    "history = model.fit(x_train, y_train,\n",
    "                    epochs=10,\n",
    "                    batch_size=32,\n",
    "                    validation_data=(x_val, y_val))\n",
    "model.save_weights('from scratch_model1')"
   ]
  },
  {
   "cell_type": "code",
   "execution_count": 77,
   "metadata": {},
   "outputs": [
    {
     "data": {
      "text/plain": [
       "array([[1.3543166e-07, 6.8838735e-06, 4.9698676e-15, ..., 5.9214018e-12,\n",
       "        9.9999201e-01, 2.0079182e-13],\n",
       "       [1.5148845e-07, 2.2095590e-07, 4.9754390e-13, ..., 1.5172257e-10,\n",
       "        4.3803979e-08, 2.3783603e-10],\n",
       "       [4.4380772e-06, 9.9999273e-01, 1.9692762e-15, ..., 1.6181231e-14,\n",
       "        2.2549025e-06, 8.6437320e-14],\n",
       "       ...,\n",
       "       [7.6952518e-04, 9.9918586e-01, 3.2740484e-08, ..., 2.1329145e-09,\n",
       "        9.6084659e-06, 1.6753145e-07],\n",
       "       [2.2593276e-06, 1.8275221e-05, 6.0289583e-14, ..., 4.0921959e-09,\n",
       "        5.3798012e-06, 5.8095140e-11],\n",
       "       [1.6560693e-05, 8.4585281e-06, 4.6540289e-12, ..., 2.2937732e-09,\n",
       "        9.9997389e-01, 1.0675727e-09]], dtype=float32)"
      ]
     },
     "execution_count": 77,
     "metadata": {},
     "output_type": "execute_result"
    }
   ],
   "source": [
    "model.predict(x_val)"
   ]
  }
 ],
 "metadata": {
  "kernelspec": {
   "display_name": "Python 3",
   "language": "python",
   "name": "python3"
  },
  "language_info": {
   "codemirror_mode": {
    "name": "ipython",
    "version": 3
   },
   "file_extension": ".py",
   "mimetype": "text/x-python",
   "name": "python",
   "nbconvert_exporter": "python",
   "pygments_lexer": "ipython3",
   "version": "3.6.8"
  }
 },
 "nbformat": 4,
 "nbformat_minor": 2
}

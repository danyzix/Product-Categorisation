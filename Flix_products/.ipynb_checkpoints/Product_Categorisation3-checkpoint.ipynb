{
 "cells": [
  {
   "cell_type": "code",
   "execution_count": 6,
   "metadata": {},
   "outputs": [
    {
     "name": "stderr",
     "output_type": "stream",
     "text": [
      "Using TensorFlow backend.\n"
     ]
    }
   ],
   "source": [
    "from sklearn import model_selection, preprocessing, linear_model, naive_bayes, metrics, svm\n",
    "from sklearn.feature_extraction.text import TfidfVectorizer, CountVectorizer\n",
    "from sklearn import decomposition, ensemble\n",
    "from sklearn.model_selection import train_test_split\n",
    "from sklearn.metrics import confusion_matrix\n",
    "\n",
    "import pandas as pd, mysql.connector, nltk\n",
    "import xgboost, numpy, textblob, string\n",
    "from keras.preprocessing import text, sequence\n",
    "from keras import layers, models, optimizers\n",
    "from nltk.corpus import stopwords\n",
    "import string\n",
    "from collections import Counter"
   ]
  },
  {
   "cell_type": "code",
   "execution_count": 7,
   "metadata": {},
   "outputs": [],
   "source": [
    "import numpy as np\n",
    "import matplotlib.pyplot as plt\n",
    "import seaborn as sns"
   ]
  },
  {
   "cell_type": "markdown",
   "metadata": {},
   "source": [
    "# 1. Data Preparation"
   ]
  },
  {
   "cell_type": "code",
   "execution_count": 4,
   "metadata": {},
   "outputs": [
    {
     "data": {
      "text/html": [
       "<div>\n",
       "<style scoped>\n",
       "    .dataframe tbody tr th:only-of-type {\n",
       "        vertical-align: middle;\n",
       "    }\n",
       "\n",
       "    .dataframe tbody tr th {\n",
       "        vertical-align: top;\n",
       "    }\n",
       "\n",
       "    .dataframe thead th {\n",
       "        text-align: right;\n",
       "    }\n",
       "</style>\n",
       "<table border=\"1\" class=\"dataframe\">\n",
       "  <thead>\n",
       "    <tr style=\"text-align: right;\">\n",
       "      <th></th>\n",
       "      <th>product_id</th>\n",
       "      <th>title</th>\n",
       "      <th>Categories</th>\n",
       "    </tr>\n",
       "  </thead>\n",
       "  <tbody>\n",
       "    <tr>\n",
       "      <th>0</th>\n",
       "      <td>400002</td>\n",
       "      <td>HP Photosmart eStation Printer</td>\n",
       "      <td>Printers and Multifunction | Inkjet All-in-One...</td>\n",
       "    </tr>\n",
       "    <tr>\n",
       "      <th>1</th>\n",
       "      <td>400004</td>\n",
       "      <td>HP LaserJet Pro M1217nfw Multifunction Printer</td>\n",
       "      <td>Printers and Multifunction | Laser Multifuncti...</td>\n",
       "    </tr>\n",
       "  </tbody>\n",
       "</table>\n",
       "</div>"
      ],
      "text/plain": [
       "   product_id                                           title  \\\n",
       "0      400002                  HP Photosmart eStation Printer   \n",
       "1      400004  HP LaserJet Pro M1217nfw Multifunction Printer   \n",
       "\n",
       "                                          Categories  \n",
       "0  Printers and Multifunction | Inkjet All-in-One...  \n",
       "1  Printers and Multifunction | Laser Multifuncti...  "
      ]
     },
     "execution_count": 4,
     "metadata": {},
     "output_type": "execute_result"
    }
   ],
   "source": [
    "# get the first file which has product titles and brand categoriws\n",
    "df1 = pd.read_csv('\\\\Users\\\\Daniel\\\\Python\\\\Data\\\\Flix_products\\\\product_title.csv', engine='python')\n",
    "df1.head(2)"
   ]
  },
  {
   "cell_type": "code",
   "execution_count": 151,
   "metadata": {},
   "outputs": [
    {
     "name": "stderr",
     "output_type": "stream",
     "text": [
      "C:\\Users\\Daniel\\AppData\\Local\\Continuum\\anaconda3\\lib\\site-packages\\IPython\\core\\interactiveshell.py:3044: DtypeWarning: Columns (28) have mixed types. Specify dtype option on import or set low_memory=False.\n",
      "  interactivity=interactivity, compiler=compiler, result=result)\n"
     ]
    },
    {
     "data": {
      "text/html": [
       "<div>\n",
       "<style scoped>\n",
       "    .dataframe tbody tr th:only-of-type {\n",
       "        vertical-align: middle;\n",
       "    }\n",
       "\n",
       "    .dataframe tbody tr th {\n",
       "        vertical-align: top;\n",
       "    }\n",
       "\n",
       "    .dataframe thead th {\n",
       "        text-align: right;\n",
       "    }\n",
       "</style>\n",
       "<table border=\"1\" class=\"dataframe\">\n",
       "  <thead>\n",
       "    <tr style=\"text-align: right;\">\n",
       "      <th></th>\n",
       "      <th>product_id</th>\n",
       "      <th>product_title</th>\n",
       "      <th>mpn_list</th>\n",
       "      <th>manufacturer_id</th>\n",
       "      <th>brand_title</th>\n",
       "      <th>flix_parent_category</th>\n",
       "      <th>flix_subCategory1</th>\n",
       "      <th>flix_subCategory2</th>\n",
       "      <th>benchmark_category</th>\n",
       "      <th>benchmark_category2</th>\n",
       "    </tr>\n",
       "  </thead>\n",
       "  <tbody>\n",
       "    <tr>\n",
       "      <th>0</th>\n",
       "      <td>3</td>\n",
       "      <td>Crematic Coffee Maker</td>\n",
       "      <td>F8744338</td>\n",
       "      <td>53.0</td>\n",
       "      <td>Groupe SEB</td>\n",
       "      <td>Small Gadgets/Appliances</td>\n",
       "      <td>Drink Makers</td>\n",
       "      <td>Coffee/Espresso</td>\n",
       "      <td>Home Appliances</td>\n",
       "      <td>Drink Makers</td>\n",
       "    </tr>\n",
       "    <tr>\n",
       "      <th>1</th>\n",
       "      <td>4</td>\n",
       "      <td>Vitamin Plus 3-Tier Steamer</td>\n",
       "      <td>vc400415</td>\n",
       "      <td>4.0</td>\n",
       "      <td>Tefal</td>\n",
       "      <td>Small Gadgets/Appliances</td>\n",
       "      <td>Cooking</td>\n",
       "      <td>Steamers</td>\n",
       "      <td>Home Appliances</td>\n",
       "      <td>Steamers</td>\n",
       "    </tr>\n",
       "  </tbody>\n",
       "</table>\n",
       "</div>"
      ],
      "text/plain": [
       "   product_id                product_title  mpn_list  manufacturer_id  \\\n",
       "0           3        Crematic Coffee Maker  F8744338             53.0   \n",
       "1           4  Vitamin Plus 3-Tier Steamer  vc400415              4.0   \n",
       "\n",
       "  brand_title      flix_parent_category flix_subCategory1 flix_subCategory2  \\\n",
       "0  Groupe SEB  Small Gadgets/Appliances      Drink Makers   Coffee/Espresso   \n",
       "1       Tefal  Small Gadgets/Appliances           Cooking          Steamers   \n",
       "\n",
       "  benchmark_category benchmark_category2  \n",
       "0    Home Appliances        Drink Makers  \n",
       "1    Home Appliances            Steamers  "
      ]
     },
     "execution_count": 151,
     "metadata": {},
     "output_type": "execute_result"
    }
   ],
   "source": [
    "# load second product file and load only the necessary columns\n",
    "products_complete = pd.read_csv('\\\\Users\\\\Daniel\\\\Python\\\\Data\\\\Flix_products\\\\products.csv', sep='\\t')\n",
    "products= products_complete[['product_id','product_title','mpn_list','manufacturer_id', 'brand_title',\n",
    "                            'flix_parent_category', 'flix_subCategory1', 'flix_subCategory2',\n",
    "                            'benchmark_category', 'benchmark_category2']]\n",
    "products.head(2)"
   ]
  },
  {
   "cell_type": "code",
   "execution_count": 152,
   "metadata": {},
   "outputs": [
    {
     "data": {
      "text/html": [
       "<div>\n",
       "<style scoped>\n",
       "    .dataframe tbody tr th:only-of-type {\n",
       "        vertical-align: middle;\n",
       "    }\n",
       "\n",
       "    .dataframe tbody tr th {\n",
       "        vertical-align: top;\n",
       "    }\n",
       "\n",
       "    .dataframe thead th {\n",
       "        text-align: right;\n",
       "    }\n",
       "</style>\n",
       "<table border=\"1\" class=\"dataframe\">\n",
       "  <thead>\n",
       "    <tr style=\"text-align: right;\">\n",
       "      <th></th>\n",
       "      <th>product_id</th>\n",
       "      <th>product_title</th>\n",
       "      <th>mpn_list</th>\n",
       "      <th>manufacturer_id</th>\n",
       "      <th>brand_title</th>\n",
       "      <th>flix_parent_category</th>\n",
       "      <th>flix_subCategory1</th>\n",
       "      <th>flix_subCategory2</th>\n",
       "      <th>benchmark_category</th>\n",
       "      <th>benchmark_category2</th>\n",
       "      <th>title</th>\n",
       "      <th>Categories</th>\n",
       "    </tr>\n",
       "  </thead>\n",
       "  <tbody>\n",
       "    <tr>\n",
       "      <th>0</th>\n",
       "      <td>881868</td>\n",
       "      <td>HP EliteBook 840 G1 Notebook PC</td>\n",
       "      <td>J8Q77EA</td>\n",
       "      <td>28.0</td>\n",
       "      <td>HP</td>\n",
       "      <td>Computing/Gaming</td>\n",
       "      <td>Laptops/Notebook/Ebook/Ultrabook</td>\n",
       "      <td>Notebooks</td>\n",
       "      <td>Computing</td>\n",
       "      <td>Laptops</td>\n",
       "      <td>HP EliteBook 840 G1 Notebook PC</td>\n",
       "      <td>Laptops And Hybrids | Business Laptop PCs | HP...</td>\n",
       "    </tr>\n",
       "    <tr>\n",
       "      <th>1</th>\n",
       "      <td>876236</td>\n",
       "      <td>Speedlight SB-N7</td>\n",
       "      <td>FSA90901</td>\n",
       "      <td>1290.0</td>\n",
       "      <td>Nikon</td>\n",
       "      <td>Cameras</td>\n",
       "      <td>Camera Accessories</td>\n",
       "      <td>None</td>\n",
       "      <td>Cameras</td>\n",
       "      <td>Cameras Accessories</td>\n",
       "      <td>Speedlight SB-N7</td>\n",
       "      <td>Speedlights</td>\n",
       "    </tr>\n",
       "  </tbody>\n",
       "</table>\n",
       "</div>"
      ],
      "text/plain": [
       "   product_id                    product_title  mpn_list  manufacturer_id  \\\n",
       "0      881868  HP EliteBook 840 G1 Notebook PC   J8Q77EA             28.0   \n",
       "1      876236                 Speedlight SB-N7  FSA90901           1290.0   \n",
       "\n",
       "  brand_title flix_parent_category                 flix_subCategory1  \\\n",
       "0          HP     Computing/Gaming  Laptops/Notebook/Ebook/Ultrabook   \n",
       "1       Nikon              Cameras                Camera Accessories   \n",
       "\n",
       "  flix_subCategory2 benchmark_category  benchmark_category2  \\\n",
       "0         Notebooks          Computing              Laptops   \n",
       "1              None            Cameras  Cameras Accessories   \n",
       "\n",
       "                             title  \\\n",
       "0  HP EliteBook 840 G1 Notebook PC   \n",
       "1                 Speedlight SB-N7   \n",
       "\n",
       "                                          Categories  \n",
       "0  Laptops And Hybrids | Business Laptop PCs | HP...  \n",
       "1                                        Speedlights  "
      ]
     },
     "execution_count": 152,
     "metadata": {},
     "output_type": "execute_result"
    }
   ],
   "source": [
    "# merge the two products file with an inner join to keep only the common products from both\n",
    "products = pd.merge(products, df1, on='product_id', how='inner')\n",
    "products.head(2)"
   ]
  },
  {
   "cell_type": "code",
   "execution_count": 153,
   "metadata": {},
   "outputs": [
    {
     "data": {
      "text/plain": [
       "(1680, 0.023105805333590065)"
      ]
     },
     "execution_count": 153,
     "metadata": {},
     "output_type": "execute_result"
    }
   ],
   "source": [
    "# check how many products have unassigned categories\n",
    "products['benchmark_category2'].isna().sum(), products['benchmark_category2'].isna().sum()/len(products.index)"
   ]
  },
  {
   "cell_type": "code",
   "execution_count": 154,
   "metadata": {},
   "outputs": [],
   "source": [
    "# drop the unassugned category products\n",
    "products.dropna(subset=['benchmark_category2'], inplace=True)"
   ]
  },
  {
   "cell_type": "code",
   "execution_count": 10,
   "metadata": {},
   "outputs": [
    {
     "data": {
      "text/plain": [
       "Text(0.5, 0, '# of products')"
      ]
     },
     "execution_count": 10,
     "metadata": {},
     "output_type": "execute_result"
    },
    {
     "data": {
      "image/png": "[encoded data removed]",
      "text/plain": [
       "<Figure size 1080x360 with 1 Axes>"
      ]
     },
     "metadata": {
      "needs_background": "light"
     },
     "output_type": "display_data"
    }
   ],
   "source": [
    "# let's look at the distribution of number of products and brands by product categories\n",
    "group_products = products.groupby('benchmark_category2')['product_id'].count()\n",
    "group_brand  = products.groupby('benchmark_category2')['brand_title'].nunique()\n",
    "plt.figure(figsize=(15,5))\n",
    "ax = sns.scatterplot(x=group_products, y=group_brand)\n",
    "ax.set_ylabel('# of brands')\n",
    "ax.set_xlabel('# of products')"
   ]
  },
  {
   "cell_type": "code",
   "execution_count": 160,
   "metadata": {},
   "outputs": [
    {
     "data": {
      "text/plain": [
       "<matplotlib.axes._subplots.AxesSubplot at 0x1fad0aae0b8>"
      ]
     },
     "execution_count": 160,
     "metadata": {},
     "output_type": "execute_result"
    },
    {
     "data": {
      "image/png": "[encoded data removed]",
      "text/plain": [
       "<Figure size 576x576 with 1 Axes>"
      ]
     },
     "metadata": {
      "needs_background": "light"
     },
     "output_type": "display_data"
    }
   ],
   "source": [
    "# lets look at the top 30 categories by number of products\n",
    "products.groupby('benchmark_category2')['product_id'].count().sort_values().tail(30).plot.barh(figsize=(8,8), color='purple')"
   ]
  },
  {
   "cell_type": "code",
   "execution_count": 173,
   "metadata": {},
   "outputs": [
    {
     "name": "stdout",
     "output_type": "stream",
     "text": [
      "<class 'pandas.core.frame.DataFrame'>\n",
      "Int64Index: 71029 entries, 0 to 71198\n",
      "Data columns (total 12 columns):\n",
      "product_id              71029 non-null int64\n",
      "product_title           70266 non-null object\n",
      "mpn_list                70388 non-null object\n",
      "manufacturer_id         71029 non-null float64\n",
      "brand_title             71028 non-null object\n",
      "flix_parent_category    71029 non-null object\n",
      "flix_subCategory1       71029 non-null object\n",
      "flix_subCategory2       58712 non-null object\n",
      "benchmark_category      71029 non-null object\n",
      "benchmark_category2     71029 non-null object\n",
      "title                   71029 non-null object\n",
      "Categories              71029 non-null object\n",
      "dtypes: float64(1), int64(1), object(10)\n",
      "memory usage: 7.0+ MB\n"
     ]
    }
   ],
   "source": [
    "products.info()"
   ]
  },
  {
   "cell_type": "code",
   "execution_count": 201,
   "metadata": {},
   "outputs": [
    {
     "name": "stdout",
     "output_type": "stream",
     "text": [
      "<class 'pandas.core.frame.DataFrame'>\n",
      "RangeIndex: 66980 entries, 0 to 66979\n",
      "Data columns (total 12 columns):\n",
      "product_id              66980 non-null int64\n",
      "product_title           66221 non-null object\n",
      "mpn_list                66381 non-null object\n",
      "manufacturer_id         66980 non-null float64\n",
      "brand_title             66980 non-null object\n",
      "flix_parent_category    66980 non-null object\n",
      "flix_subCategory1       66980 non-null object\n",
      "flix_subCategory2       55449 non-null object\n",
      "benchmark_category      66980 non-null object\n",
      "benchmark_category2     66980 non-null object\n",
      "title                   66980 non-null object\n",
      "Categories              66980 non-null object\n",
      "dtypes: float64(1), int64(1), object(10)\n",
      "memory usage: 6.1+ MB\n"
     ]
    }
   ],
   "source": [
    "# lets subset by top 15 categories and use this data for further analysis\n",
    "topNcats = products.groupby('benchmark_category2')['product_id'].count().nlargest(50).keys()\n",
    "prod_15cats = products[products['benchmark_category2'].isin(top15cats)].reset_index(drop=True)\n",
    "prod_15cats.info()"
   ]
  },
  {
   "cell_type": "markdown",
   "metadata": {},
   "source": [
    "# 2. Categorisation with product titles and categories"
   ]
  },
  {
   "cell_type": "code",
   "execution_count": 202,
   "metadata": {},
   "outputs": [
    {
     "data": {
      "text/plain": [
       "0    Laptops And Hybrids | Business Laptop PCs | HP...\n",
       "1                                          Speedlights\n",
       "Name: Categories, dtype: object"
      ]
     },
     "execution_count": 202,
     "metadata": {},
     "output_type": "execute_result"
    }
   ],
   "source": [
    "prod_15cats['Categories'].head(2)"
   ]
  },
  {
   "cell_type": "code",
   "execution_count": 203,
   "metadata": {},
   "outputs": [
    {
     "data": {
      "text/plain": [
       "0    Laptops And Hybrids  Business Laptop PCs  HP E...\n",
       "1                                          Speedlights\n",
       "Name: Categories, dtype: object"
      ]
     },
     "execution_count": 203,
     "metadata": {},
     "output_type": "execute_result"
    }
   ],
   "source": [
    "# Remove the pipes '|' in the Categories\n",
    "prod_15cats['Categories'] = prod_15cats['Categories'].str.replace('|', '')\n",
    "prod_15cats['Categories'].head(2)"
   ]
  },
  {
   "cell_type": "code",
   "execution_count": 204,
   "metadata": {},
   "outputs": [],
   "source": [
    "# lets concatenate the two columns : product titles and categories\n",
    "prod_15cats['title&cat']=np.nan\n",
    "for i in range(len(prod_15cats)):\n",
    "    if pd.isna(prod_15cats.loc[i, 'product_title']):\n",
    "        prod_15cats.loc[i, 'title&cat'] =  prod_15cats.loc[i, 'title'] + ' ' + prod_15cats.loc[i, 'Categories']\n",
    "    else:\n",
    "        prod_15cats.loc[i,'title&cat'] =  prod_15cats.loc[i, 'product_title'] + ' ' + prod_15cats.loc[i, 'Categories']"
   ]
  },
  {
   "cell_type": "code",
   "execution_count": 205,
   "metadata": {},
   "outputs": [],
   "source": [
    "prod_15cats.to_csv('prod_15cats.csv', sep='\\t', encoding='utf-8', index=False)"
   ]
  },
  {
   "cell_type": "code",
   "execution_count": 8,
   "metadata": {},
   "outputs": [],
   "source": [
    "prod_15cats = pd.read_csv('prod_15cats.csv', sep='\\t')"
   ]
  },
  {
   "cell_type": "code",
   "execution_count": 162,
   "metadata": {},
   "outputs": [],
   "source": [
    "# check for empty strings in the two columns \n",
    "#prod_15cats[prod_15cats[['product_title','Categories']].isnull().values.any(1)]"
   ]
  },
  {
   "cell_type": "markdown",
   "metadata": {},
   "source": [
    "# Bag of Word "
   ]
  },
  {
   "cell_type": "code",
   "execution_count": 9,
   "metadata": {},
   "outputs": [],
   "source": [
    "# functions to tokenize the whole doc and form a vocabulary\n",
    "\n",
    "# clean texts\n",
    "def tokenize_doc(doc):\n",
    "    # split into tokens by white space\n",
    "    tokens = doc.split()\n",
    "    # remove punctuation from each token\n",
    "    table = str.maketrans('', '', string.punctuation)\n",
    "    tokens = [w.translate(table) for w in tokens]\n",
    "    tokens = [w.lower() for w in tokens]\n",
    "    # remove remaining tokens that are not alphabetic\n",
    "    tokens = [word for word in tokens if word.isalpha()]\n",
    "    # filter out stop words\n",
    "    stop_words = set(stopwords.words('english'))\n",
    "    tokens = [w for w in tokens if not w in stop_words]\n",
    "    # filter out short tokens\n",
    "    tokens = [word for word in tokens if len(word) > 1]\n",
    "    return tokens\n",
    "\n",
    "# load text and add to vocab\n",
    "def add_to_vocab(column, vocab):\n",
    "    for i in range(len(column)):\n",
    "        tokens = tokenize_doc(column[i])\n",
    "        vocab.update(tokens)  "
   ]
  },
  {
   "cell_type": "code",
   "execution_count": 10,
   "metadata": {},
   "outputs": [],
   "source": [
    "#create the vocabulary after tokenization of the whole doc\n",
    "vocab = Counter()\n",
    "add_to_vocab(prod_15cats['title&cat'], vocab)"
   ]
  },
  {
   "cell_type": "code",
   "execution_count": 11,
   "metadata": {},
   "outputs": [
    {
     "name": "stdout",
     "output_type": "stream",
     "text": [
      "[('hp', 81516), ('pc', 34871), ('notebook', 24464), ('series', 20676), ('pavilion', 11978), ('home', 9793), ('desktop', 9730), ('pcs', 9598), ('workstation', 7968), ('compaq', 7286), ('mobile', 7160), ('philips', 7101), ('consumer', 6220), ('tv', 6122), ('ink', 5807), ('elitebook', 5680), ('led', 5631), ('probook', 5555), ('printer', 5503), ('cartridges', 4748)]\n"
     ]
    },
    {
     "data": {
      "text/plain": [
       "(11832, None)"
      ]
     },
     "execution_count": 11,
     "metadata": {},
     "output_type": "execute_result"
    }
   ],
   "source": [
    "# length of the vocab and the most occuring words\n",
    "len(vocab), print(vocab.most_common(20))\n",
    "#print(vocab.most_common()[:len(vocab)-100:-1])  # to obtain the lower list"
   ]
  },
  {
   "cell_type": "code",
   "execution_count": 12,
   "metadata": {},
   "outputs": [
    {
     "name": "stdout",
     "output_type": "stream",
     "text": [
      "Vocabulary size: 7373\n"
     ]
    }
   ],
   "source": [
    "# remove tokens with just one occurence to reduce the vocab size\n",
    "tokens = [k for k,c in vocab.items() if c > 1]\n",
    "print('Vocabulary size: {}'.format( len(tokens)))"
   ]
  },
  {
   "cell_type": "code",
   "execution_count": 13,
   "metadata": {},
   "outputs": [],
   "source": [
    "# save the vocabulary to a file\n",
    "def save_vocab(lines, filename):\n",
    "    # convert lines to a single blob of text\n",
    "    data = '\\n'.join(lines)\n",
    "    # open file\n",
    "    file = open(filename, 'w', encoding=\"utf-8\")\n",
    "    file.write(data)\n",
    "    file.close()\n",
    "    \n",
    "# save the vocabulary\n",
    "save_vocab(tokens, 'vocab.txt')"
   ]
  },
  {
   "cell_type": "code",
   "execution_count": 14,
   "metadata": {},
   "outputs": [],
   "source": [
    "# function to tokenize each row\n",
    "def tokenize_row(column, vocab):\n",
    "    tokenz = []\n",
    "    for i in range(len(column)):\n",
    "        tokens = tokenize_doc(column[i])\n",
    "        tokens = [w for w in tokens if w in vocab]\n",
    "        tokenz.append(tokens)\n",
    "    return tokenz"
   ]
  },
  {
   "cell_type": "code",
   "execution_count": 26,
   "metadata": {},
   "outputs": [
    {
     "data": {
      "text/plain": [
       "0    [hp, elitebook, notebook, pc, laptops, hybrids...\n",
       "1                            [speedlight, speedlights]\n",
       "2    [electrolux, cm, stainless, steel, chimney, de...\n",
       "3    [electrolux, cm, stainless, steel, chimney, de...\n",
       "4                    [oven, electrolux, nonstar, oven]\n",
       "Name: tokens, dtype: object"
      ]
     },
     "execution_count": 26,
     "metadata": {},
     "output_type": "execute_result"
    }
   ],
   "source": [
    "# tokenize each row\n",
    "prod_15cats['tokens'] = tokenize_row(prod_15cats['title&cat'], vocab)\n",
    "prod_15cats['tokens'].head()"
   ]
  },
  {
   "cell_type": "code",
   "execution_count": 56,
   "metadata": {},
   "outputs": [
    {
     "data": {
      "text/plain": [
       "<matplotlib.axes._subplots.AxesSubplot at 0x1b526199160>"
      ]
     },
     "execution_count": 56,
     "metadata": {},
     "output_type": "execute_result"
    },
    {
     "data": {
      "image/png": "[encoded data removed]",
      "text/plain": [
       "<Figure size 720x360 with 1 Axes>"
      ]
     },
     "metadata": {
      "needs_background": "light"
     },
     "output_type": "display_data"
    }
   ],
   "source": [
    "# histogram of token lengths per product\n",
    "token_length = []\n",
    "for i in range(len(prod_15cats['tokens'])):\n",
    "    token_length.append(len(prod_15cats['tokens'][i]))\n",
    "    \n",
    "plt.figure(figsize=(10,5))   \n",
    "sns.distplot(token_length, bins=50, kde=False, rug=True)"
   ]
  },
  {
   "cell_type": "code",
   "execution_count": 49,
   "metadata": {},
   "outputs": [],
   "source": [
    "# enumerate example\n",
    "# for ele in enumerate(prod_15cats['tokens'][1]): \n",
    "#     print(ele)\n",
    "# for index, ele in enumerate(prod_15cats['tokens'][1]): \n",
    "#     print (index,ele)"
   ]
  },
  {
   "cell_type": "code",
   "execution_count": 57,
   "metadata": {},
   "outputs": [
    {
     "data": {
      "text/plain": [
       "0    hp elitebook notebook pc laptops hybrids busin...\n",
       "1                               speedlight speedlights\n",
       "2    electrolux cm stainless steel chimney design h...\n",
       "3    electrolux cm stainless steel chimney design h...\n",
       "4                         oven electrolux nonstar oven\n",
       "Name: tokens, dtype: object"
      ]
     },
     "execution_count": 57,
     "metadata": {},
     "output_type": "execute_result"
    }
   ],
   "source": [
    "# convert tokens in the list to texts to make it vectorizing freindly\n",
    "prod_15cats['tokens']=[\" \".join(tokens) for tokens in prod_15cats['tokens'].values]\n",
    "prod_15cats['tokens'].head()"
   ]
  },
  {
   "cell_type": "code",
   "execution_count": 17,
   "metadata": {},
   "outputs": [],
   "source": [
    "# function to plot bar-chart of groupby agg counts\n",
    "def bar_plot(df,group_column, agg):\n",
    "    df.groupby(group_column)[agg].count().sort_values(ascending=False).plot.bar(figsize=(12,6), color='purple')"
   ]
  },
  {
   "cell_type": "code",
   "execution_count": 18,
   "metadata": {},
   "outputs": [
    {
     "data": {
      "image/png": "[encoded data removed]",
      "text/plain": [
       "<Figure size 864x432 with 1 Axes>"
      ]
     },
     "metadata": {
      "needs_background": "light"
     },
     "output_type": "display_data"
    }
   ],
   "source": [
    "# plot the count of products by categories\n",
    "bar_plot(prod_15cats, 'benchmark_category2' ,'product_id')"
   ]
  },
  {
   "cell_type": "markdown",
   "metadata": {},
   "source": [
    "# Train and Test data split with stratified sampling"
   ]
  },
  {
   "cell_type": "code",
   "execution_count": 58,
   "metadata": {},
   "outputs": [],
   "source": [
    "# create train and test set with stratified sampling\n",
    "model_data = prod_15cats.copy()\n",
    "y = model_data.pop('benchmark_category2')\n",
    "x = model_data['tokens']\n",
    "x_train, x_test, y_train, y_test = train_test_split( x, y, test_size=0.30, random_state=42, stratify=y)"
   ]
  },
  {
   "cell_type": "markdown",
   "metadata": {},
   "source": [
    "# TF-IDF Vectors as features"
   ]
  },
  {
   "cell_type": "code",
   "execution_count": 59,
   "metadata": {},
   "outputs": [],
   "source": [
    "# label encode the target variable \n",
    "encoder = preprocessing.LabelEncoder()\n",
    "y_train = encoder.fit_transform(y_train)\n",
    "y_test = encoder.fit_transform(y_test)"
   ]
  },
  {
   "cell_type": "code",
   "execution_count": 317,
   "metadata": {},
   "outputs": [],
   "source": [
    "# reverse transformation of LabelEncoder\n",
    "#encoder.inverse_transform(y_test)\n",
    "#print(list(encoder.classes_))"
   ]
  },
  {
   "cell_type": "code",
   "execution_count": 60,
   "metadata": {},
   "outputs": [
    {
     "data": {
      "text/plain": [
       "(7000, (44344, 7000))"
      ]
     },
     "execution_count": 60,
     "metadata": {},
     "output_type": "execute_result"
    }
   ],
   "source": [
    "tfidf_vect = TfidfVectorizer(analyzer='word', token_pattern=r'\\w{2,}', stop_words='english', max_features=7000)\n",
    "tfidf_vect.fit(prod_15cats['tokens'].map(str))\n",
    "x_train_tfidf =  tfidf_vect.transform(x_train)\n",
    "x_test_tfidf =  tfidf_vect.transform(x_test)\n",
    "len(tfidf_vect.vocabulary_), x_train_tfidf.shape"
   ]
  },
  {
   "cell_type": "code",
   "execution_count": 225,
   "metadata": {},
   "outputs": [],
   "source": [
    "#x_train_tfidf[1,:150].toarray()"
   ]
  },
  {
   "cell_type": "markdown",
   "metadata": {},
   "source": [
    "# Prediction Models"
   ]
  },
  {
   "cell_type": "code",
   "execution_count": 71,
   "metadata": {},
   "outputs": [],
   "source": [
    "# # function to train a model and return accuracy, average precision and recall\n",
    "# def train_model(classifier, train_data, test_data):\n",
    "#     classifier.fit(train_data, y_train)\n",
    "#     predictions = classifier.predict(test_data)\n",
    "#     print('Accuracy: {}'.format(metrics.accuracy_score(predictions, y_test)))\n",
    "#     #return np.mean(predictions == y_test)\n",
    "#     cm = confusion_matrix(y_test, predictions)\n",
    "#     precision = np.diag(cm) / np.sum(cm, axis = 0)\n",
    "#     recall = np.diag(cm) / np.sum(cm, axis = 1)  \n",
    "#     #F1 = 2*np.average(recall)*np.average(precision)/(np.average(recall) + np.average(precision))\n",
    "#     print('Average Precision: {}'.format(np.average(precision)))\n",
    "#     print('Average Recall: {}'.format(np.average(recall)))   \n",
    "#     return predictions"
   ]
  },
  {
   "cell_type": "code",
   "execution_count": 94,
   "metadata": {},
   "outputs": [],
   "source": [
    "class train_model():\n",
    "    def __init__(self,classifier, train_data, test_data):\n",
    "        self.train = classifier.fit(train_data, y_train)\n",
    "        self.predict = classifier.predict(test_data)\n",
    "        self.cm = confusion_matrix(y_test, self.predict)\n",
    "        self.precision = np.diag(self.cm) / np.sum(self.cm, axis = 0)\n",
    "        self.recall = np.diag(self.cm) / np.sum(self.cm, axis = 1)  \n",
    "        \n",
    "    def return_metrics(self):\n",
    "        print('Accuracy: {}'.format(metrics.accuracy_score(self.predict, y_test)))\n",
    "        print('Average Precision: {}'.format(np.average(self.precision)))\n",
    "        print('Average Recall: {}'.format(np.average(self.recall)))\n",
    "    \n",
    "    def return_predictions(self):\n",
    "        return self.predict        "
   ]
  },
  {
   "cell_type": "code",
   "execution_count": 95,
   "metadata": {},
   "outputs": [
    {
     "name": "stderr",
     "output_type": "stream",
     "text": [
      "C:\\Users\\Daniel\\AppData\\Local\\Continuum\\anaconda3\\lib\\site-packages\\ipykernel_launcher.py:6: RuntimeWarning: invalid value encountered in true_divide\n",
      "  \n"
     ]
    }
   ],
   "source": [
    "NaiveBayes = train_model(naive_bayes.MultinomialNB(), x_train_tfidf, x_test_tfidf)"
   ]
  },
  {
   "cell_type": "code",
   "execution_count": 97,
   "metadata": {},
   "outputs": [
    {
     "name": "stdout",
     "output_type": "stream",
     "text": [
      "Accuracy: 0.8852407261247041\n",
      "Average Precision: nan\n",
      "Average Recall: 0.7511805873030132\n"
     ]
    }
   ],
   "source": [
    "NaiveBayes.return_metrics()"
   ]
  },
  {
   "cell_type": "code",
   "execution_count": 101,
   "metadata": {},
   "outputs": [],
   "source": [
    "predicted = NaiveBayes.return_predictions()"
   ]
  },
  {
   "cell_type": "code",
   "execution_count": 102,
   "metadata": {},
   "outputs": [
    {
     "data": {
      "text/plain": [
       "array(['Televisions', 'Laptops', 'Toys', ...,\n",
       "       'POS/Digital Signage/Retail System', 'Refrigeration', 'Desktops'],\n",
       "      dtype=object)"
      ]
     },
     "execution_count": 102,
     "metadata": {},
     "output_type": "execute_result"
    }
   ],
   "source": [
    "encoder.inverse_transform(predicted)"
   ]
  },
  {
   "cell_type": "code",
   "execution_count": 103,
   "metadata": {},
   "outputs": [
    {
     "name": "stderr",
     "output_type": "stream",
     "text": [
      "C:\\Users\\Daniel\\AppData\\Local\\Continuum\\anaconda3\\lib\\site-packages\\ipykernel_launcher.py:4: SettingWithCopyWarning: \n",
      "A value is trying to be set on a copy of a slice from a DataFrame.\n",
      "Try using .loc[row_indexer,col_indexer] = value instead\n",
      "\n",
      "See the caveats in the documentation: http://pandas.pydata.org/pandas-docs/stable/indexing.html#indexing-view-versus-copy\n",
      "  after removing the cwd from sys.path.\n"
     ]
    }
   ],
   "source": [
    "# subset the training data rows from the main dataframe\n",
    "train_data = prod_15cats.iloc[list(x_test.index.values),:]\n",
    "# add the predicted columns to the train_data\n",
    "train_data['predicted'] = encoder.inverse_transform(predicted)"
   ]
  },
  {
   "cell_type": "code",
   "execution_count": 99,
   "metadata": {},
   "outputs": [],
   "source": [
    "# # Naive Bayes model prediction on TF-IDF features\n",
    "# train_model(naive_bayes.MultinomialNB(), x_train_tfidf, x_test_tfidf )"
   ]
  },
  {
   "cell_type": "code",
   "execution_count": 226,
   "metadata": {},
   "outputs": [
    {
     "data": {
      "text/plain": [
       "0.8844431173484623"
      ]
     },
     "execution_count": 226,
     "metadata": {},
     "output_type": "execute_result"
    }
   ],
   "source": [
    "# Naive Bayes on Word Level TF-IDF Vectors\n",
    "NB_clf = naive_bayes.MultinomialNB().fit(x_train_tfidf, y_train)\n",
    "predicted = NB_clf.predict(x_test_tfidf)\n",
    "np.mean(predicted == y_test)"
   ]
  },
  {
   "cell_type": "code",
   "execution_count": 108,
   "metadata": {
    "scrolled": false
   },
   "outputs": [],
   "source": [
    "# the wrong predictions\n",
    "wrong_predictions = train_data[train_data['benchmark_category2'] != train_data['predicted']]"
   ]
  },
  {
   "cell_type": "code",
   "execution_count": 109,
   "metadata": {},
   "outputs": [
    {
     "data": {
      "image/png": "[encoded data removed]",
      "text/plain": [
       "<Figure size 864x432 with 1 Axes>"
      ]
     },
     "metadata": {
      "needs_background": "light"
     },
     "output_type": "display_data"
    }
   ],
   "source": [
    "# plot a count of the wrong categories\n",
    "bar_plot(wrong_predictions, 'benchmark_category2' ,'product_id')"
   ]
  },
  {
   "cell_type": "markdown",
   "metadata": {},
   "source": [
    "# One hot-encoding - Count Vectors as features"
   ]
  },
  {
   "cell_type": "code",
   "execution_count": 75,
   "metadata": {},
   "outputs": [
    {
     "data": {
      "text/html": [
       "<div>\n",
       "<style scoped>\n",
       "    .dataframe tbody tr th:only-of-type {\n",
       "        vertical-align: middle;\n",
       "    }\n",
       "\n",
       "    .dataframe tbody tr th {\n",
       "        vertical-align: top;\n",
       "    }\n",
       "\n",
       "    .dataframe thead th {\n",
       "        text-align: right;\n",
       "    }\n",
       "</style>\n",
       "<table border=\"1\" class=\"dataframe\">\n",
       "  <thead>\n",
       "    <tr style=\"text-align: right;\">\n",
       "      <th></th>\n",
       "      <th>index</th>\n",
       "      <th>product_id</th>\n",
       "      <th>product_title</th>\n",
       "      <th>mpn_list</th>\n",
       "      <th>manufacturer_id</th>\n",
       "      <th>brand_title</th>\n",
       "      <th>flix_parent_category</th>\n",
       "      <th>flix_subCategory1</th>\n",
       "      <th>flix_subCategory2</th>\n",
       "      <th>benchmark_category</th>\n",
       "      <th>benchmark_category2</th>\n",
       "      <th>title_x</th>\n",
       "      <th>Categories_x</th>\n",
       "      <th>title_y</th>\n",
       "      <th>Categories_y</th>\n",
       "      <th>title</th>\n",
       "      <th>Categories</th>\n",
       "      <th>title&amp;cat</th>\n",
       "      <th>tokens</th>\n",
       "    </tr>\n",
       "  </thead>\n",
       "  <tbody>\n",
       "    <tr>\n",
       "      <th>0</th>\n",
       "      <td>0</td>\n",
       "      <td>881868</td>\n",
       "      <td>HP EliteBook 840 G1 Notebook PC</td>\n",
       "      <td>J8Q77EA</td>\n",
       "      <td>28.0</td>\n",
       "      <td>HP</td>\n",
       "      <td>Computing/Gaming</td>\n",
       "      <td>Laptops/Notebook/Ebook/Ultrabook</td>\n",
       "      <td>Notebooks</td>\n",
       "      <td>Computing</td>\n",
       "      <td>Laptops</td>\n",
       "      <td>HP EliteBook 840 G1 Notebook PC</td>\n",
       "      <td>Laptops And Hybrids | Business Laptop PCs | HP...</td>\n",
       "      <td>HP EliteBook 840 G1 Notebook PC</td>\n",
       "      <td>Laptops And Hybrids | Business Laptop PCs | HP...</td>\n",
       "      <td>HP EliteBook 840 G1 Notebook PC</td>\n",
       "      <td>Laptops And Hybrids  Business Laptop PCs  HP E...</td>\n",
       "      <td>HP EliteBook 840 G1 Notebook PC Laptops And Hy...</td>\n",
       "      <td>hp elitebook notebook pc laptops hybrids busin...</td>\n",
       "    </tr>\n",
       "    <tr>\n",
       "      <th>1</th>\n",
       "      <td>1</td>\n",
       "      <td>876236</td>\n",
       "      <td>Speedlight SB-N7</td>\n",
       "      <td>FSA90901</td>\n",
       "      <td>1290.0</td>\n",
       "      <td>Nikon</td>\n",
       "      <td>Cameras</td>\n",
       "      <td>Camera Accessories</td>\n",
       "      <td>None</td>\n",
       "      <td>Cameras</td>\n",
       "      <td>Cameras Accessories</td>\n",
       "      <td>Speedlight SB-N7</td>\n",
       "      <td>Speedlights</td>\n",
       "      <td>Speedlight SB-N7</td>\n",
       "      <td>Speedlights</td>\n",
       "      <td>Speedlight SB-N7</td>\n",
       "      <td>Speedlights</td>\n",
       "      <td>Speedlight SB-N7 Speedlights</td>\n",
       "      <td>speedlight speedlights</td>\n",
       "    </tr>\n",
       "  </tbody>\n",
       "</table>\n",
       "</div>"
      ],
      "text/plain": [
       "   index  product_id                    product_title  mpn_list  \\\n",
       "0      0      881868  HP EliteBook 840 G1 Notebook PC   J8Q77EA   \n",
       "1      1      876236                 Speedlight SB-N7  FSA90901   \n",
       "\n",
       "   manufacturer_id brand_title flix_parent_category  \\\n",
       "0             28.0          HP     Computing/Gaming   \n",
       "1           1290.0       Nikon              Cameras   \n",
       "\n",
       "                  flix_subCategory1 flix_subCategory2 benchmark_category  \\\n",
       "0  Laptops/Notebook/Ebook/Ultrabook         Notebooks          Computing   \n",
       "1                Camera Accessories              None            Cameras   \n",
       "\n",
       "   benchmark_category2                          title_x  \\\n",
       "0              Laptops  HP EliteBook 840 G1 Notebook PC   \n",
       "1  Cameras Accessories                 Speedlight SB-N7   \n",
       "\n",
       "                                        Categories_x  \\\n",
       "0  Laptops And Hybrids | Business Laptop PCs | HP...   \n",
       "1                                        Speedlights   \n",
       "\n",
       "                           title_y  \\\n",
       "0  HP EliteBook 840 G1 Notebook PC   \n",
       "1                 Speedlight SB-N7   \n",
       "\n",
       "                                        Categories_y  \\\n",
       "0  Laptops And Hybrids | Business Laptop PCs | HP...   \n",
       "1                                        Speedlights   \n",
       "\n",
       "                             title  \\\n",
       "0  HP EliteBook 840 G1 Notebook PC   \n",
       "1                 Speedlight SB-N7   \n",
       "\n",
       "                                          Categories  \\\n",
       "0  Laptops And Hybrids  Business Laptop PCs  HP E...   \n",
       "1                                        Speedlights   \n",
       "\n",
       "                                           title&cat  \\\n",
       "0  HP EliteBook 840 G1 Notebook PC Laptops And Hy...   \n",
       "1                       Speedlight SB-N7 Speedlights   \n",
       "\n",
       "                                              tokens  \n",
       "0  hp elitebook notebook pc laptops hybrids busin...  \n",
       "1                             speedlight speedlights  "
      ]
     },
     "execution_count": 75,
     "metadata": {},
     "output_type": "execute_result"
    }
   ],
   "source": [
    "prod_15cats.head(2)"
   ]
  },
  {
   "cell_type": "code",
   "execution_count": 76,
   "metadata": {},
   "outputs": [
    {
     "data": {
      "text/plain": [
       "CountVectorizer(analyzer='word', binary=False, decode_error='strict',\n",
       "        dtype=<class 'numpy.int64'>, encoding='utf-8', input='content',\n",
       "        lowercase=True, max_df=1.0, max_features=None, min_df=1,\n",
       "        ngram_range=(1, 1), preprocessor=None, stop_words='english',\n",
       "        strip_accents=None, token_pattern='\\\\w{2,}', tokenizer=None,\n",
       "        vocabulary=None)"
      ]
     },
     "execution_count": 76,
     "metadata": {},
     "output_type": "execute_result"
    }
   ],
   "source": [
    "# create a count vectorizer object \n",
    "count_vect = CountVectorizer(analyzer='word', token_pattern=r'\\w{2,}', stop_words='english')\n",
    "count_vect.fit(prod_15cats['tokens'])"
   ]
  },
  {
   "cell_type": "code",
   "execution_count": 81,
   "metadata": {},
   "outputs": [],
   "source": [
    "#count_vect.vocabulary_"
   ]
  },
  {
   "cell_type": "code",
   "execution_count": 78,
   "metadata": {},
   "outputs": [],
   "source": [
    "# transform the training and validation data using count vectorizer object\n",
    "x_train_CV =  count_vect.transform(x_train)\n",
    "x_test_CV =  count_vect.transform(x_test)"
   ]
  },
  {
   "cell_type": "code",
   "execution_count": 87,
   "metadata": {},
   "outputs": [
    {
     "name": "stdout",
     "output_type": "stream",
     "text": [
      "[[0 0 0 0]]\n"
     ]
    }
   ],
   "source": [
    "# document term matrix\n",
    "print(x_train_CV[1,1:5].toarray())"
   ]
  },
  {
   "cell_type": "code",
   "execution_count": 83,
   "metadata": {},
   "outputs": [
    {
     "name": "stdout",
     "output_type": "stream",
     "text": [
      "Accuracy: 0.9117074454091029\n",
      "Average Precision: 0.8941523387301014\n",
      "Average Recall: 0.8293718877503881\n"
     ]
    },
    {
     "data": {
      "text/plain": [
       "array([44, 28, 46, ..., 36, 38, 16])"
      ]
     },
     "execution_count": 83,
     "metadata": {},
     "output_type": "execute_result"
    }
   ],
   "source": [
    "# Naive Bayes model prediction on CountVec features\n",
    "train_model(naive_bayes.MultinomialNB(), x_train_CV, x_test_CV )"
   ]
  },
  {
   "cell_type": "code",
   "execution_count": 349,
   "metadata": {},
   "outputs": [
    {
     "name": "stderr",
     "output_type": "stream",
     "text": [
      "C:\\Users\\Daniel\\AppData\\Local\\Continuum\\anaconda3\\lib\\site-packages\\sklearn\\ensemble\\forest.py:246: FutureWarning: The default value of n_estimators will change from 10 in version 0.20 to 100 in 0.22.\n",
      "  \"10 in version 0.20 to 100 in 0.22.\", FutureWarning)\n"
     ]
    },
    {
     "data": {
      "text/plain": [
       "0.9363989250522544"
      ]
     },
     "execution_count": 349,
     "metadata": {},
     "output_type": "execute_result"
    }
   ],
   "source": [
    "RF_clf = ensemble.RandomForestClassifier().fit(x_train_CV, y_train)\n",
    "predicted = RF_clf.predict(x_test_CV)\n",
    "np.mean(predicted == y_test)"
   ]
  },
  {
   "cell_type": "code",
   "execution_count": 82,
   "metadata": {},
   "outputs": [
    {
     "ename": "NameError",
     "evalue": "name 'count_vec' is not defined",
     "output_type": "error",
     "traceback": [
      "\u001b[1;31m---------------------------------------------------------------------------\u001b[0m",
      "\u001b[1;31mNameError\u001b[0m                                 Traceback (most recent call last)",
      "\u001b[1;32m<ipython-input-82-08139496ee01>\u001b[0m in \u001b[0;36m<module>\u001b[1;34m\u001b[0m\n\u001b[1;32m----> 1\u001b[1;33m \u001b[0mcount_vec\u001b[0m\u001b[1;33m.\u001b[0m\u001b[0mget_feature_names\u001b[0m\u001b[1;33m(\u001b[0m\u001b[1;33m)\u001b[0m\u001b[1;33m\u001b[0m\u001b[1;33m\u001b[0m\u001b[0m\n\u001b[0m",
      "\u001b[1;31mNameError\u001b[0m: name 'count_vec' is not defined"
     ]
    }
   ],
   "source": [
    "count_vec.get_feature_names()"
   ]
  },
  {
   "cell_type": "code",
   "execution_count": 365,
   "metadata": {},
   "outputs": [],
   "source": [
    "# confusion matrix, precison and recall\n",
    "cm = confusion_matrix(y_test, predicted)\n",
    "recall = np.diag(cm) / np.sum(cm, axis = 1)\n",
    "precision = np.diag(cm) / np.sum(cm, axis = 0)\n",
    "F1 = 2*np.average(recall)*np.average(precision)/(np.average(recall) + np.average(precision))"
   ]
  }
 ],
 "metadata": {
  "kernelspec": {
   "display_name": "Python 3",
   "language": "python",
   "name": "python3"
  },
  "language_info": {
   "codemirror_mode": {
    "name": "ipython",
    "version": 3
   },
   "file_extension": ".py",
   "mimetype": "text/x-python",
   "name": "python",
   "nbconvert_exporter": "python",
   "pygments_lexer": "ipython3",
   "version": "3.6.8"
  }
 },
 "nbformat": 4,
 "nbformat_minor": 2
}

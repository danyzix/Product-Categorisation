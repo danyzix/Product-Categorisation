{
 "cells": [
  {
   "cell_type": "code",
   "execution_count": 107,
   "metadata": {},
   "outputs": [],
   "source": [
    "from sklearn import model_selection, preprocessing, linear_model, naive_bayes, metrics, svm\n",
    "from sklearn.feature_extraction.text import TfidfVectorizer, CountVectorizer\n",
    "from sklearn import decomposition, ensemble\n",
    "from sklearn.model_selection import train_test_split\n",
    "\n",
    "import pandas as pd, mysql.connector, nltk\n",
    "import xgboost, numpy, textblob, string\n",
    "from keras.preprocessing import text, sequence\n",
    "from keras import layers, models, optimizers"
   ]
  },
  {
   "cell_type": "code",
   "execution_count": 2,
   "metadata": {},
   "outputs": [],
   "source": [
    "import numpy as np\n",
    "import matplotlib.pyplot as plt\n",
    "import seaborn as sns"
   ]
  },
  {
   "cell_type": "markdown",
   "metadata": {},
   "source": [
    "# 1. Data Preparation"
   ]
  },
  {
   "cell_type": "code",
   "execution_count": 31,
   "metadata": {},
   "outputs": [
    {
     "data": {
      "text/html": [
       "<div>\n",
       "<style scoped>\n",
       "    .dataframe tbody tr th:only-of-type {\n",
       "        vertical-align: middle;\n",
       "    }\n",
       "\n",
       "    .dataframe tbody tr th {\n",
       "        vertical-align: top;\n",
       "    }\n",
       "\n",
       "    .dataframe thead th {\n",
       "        text-align: right;\n",
       "    }\n",
       "</style>\n",
       "<table border=\"1\" class=\"dataframe\">\n",
       "  <thead>\n",
       "    <tr style=\"text-align: right;\">\n",
       "      <th></th>\n",
       "      <th>product_id</th>\n",
       "      <th>title</th>\n",
       "      <th>Categories</th>\n",
       "    </tr>\n",
       "  </thead>\n",
       "  <tbody>\n",
       "    <tr>\n",
       "      <th>0</th>\n",
       "      <td>400002</td>\n",
       "      <td>HP Photosmart eStation Printer</td>\n",
       "      <td>Printers and Multifunction | Inkjet All-in-One...</td>\n",
       "    </tr>\n",
       "    <tr>\n",
       "      <th>1</th>\n",
       "      <td>400004</td>\n",
       "      <td>HP LaserJet Pro M1217nfw Multifunction Printer</td>\n",
       "      <td>Printers and Multifunction | Laser Multifuncti...</td>\n",
       "    </tr>\n",
       "  </tbody>\n",
       "</table>\n",
       "</div>"
      ],
      "text/plain": [
       "   product_id                                           title  \\\n",
       "0      400002                  HP Photosmart eStation Printer   \n",
       "1      400004  HP LaserJet Pro M1217nfw Multifunction Printer   \n",
       "\n",
       "                                          Categories  \n",
       "0  Printers and Multifunction | Inkjet All-in-One...  \n",
       "1  Printers and Multifunction | Laser Multifuncti...  "
      ]
     },
     "execution_count": 31,
     "metadata": {},
     "output_type": "execute_result"
    }
   ],
   "source": [
    "# get the first file which has product titles and brand categoriws\n",
    "df1 = pd.read_csv('\\\\Users\\\\Dan\\\\Documents\\\\Python\\\\Data\\\\Flix_products\\\\product_title.csv', engine='python')\n",
    "df1.head(2)"
   ]
  },
  {
   "cell_type": "code",
   "execution_count": 30,
   "metadata": {},
   "outputs": [
    {
     "name": "stderr",
     "output_type": "stream",
     "text": [
      "C:\\Users\\Dan\\Anaconda3\\lib\\site-packages\\IPython\\core\\interactiveshell.py:2785: DtypeWarning: Columns (28) have mixed types. Specify dtype option on import or set low_memory=False.\n",
      "  interactivity=interactivity, compiler=compiler, result=result)\n"
     ]
    },
    {
     "data": {
      "text/html": [
       "<div>\n",
       "<style scoped>\n",
       "    .dataframe tbody tr th:only-of-type {\n",
       "        vertical-align: middle;\n",
       "    }\n",
       "\n",
       "    .dataframe tbody tr th {\n",
       "        vertical-align: top;\n",
       "    }\n",
       "\n",
       "    .dataframe thead th {\n",
       "        text-align: right;\n",
       "    }\n",
       "</style>\n",
       "<table border=\"1\" class=\"dataframe\">\n",
       "  <thead>\n",
       "    <tr style=\"text-align: right;\">\n",
       "      <th></th>\n",
       "      <th>product_id</th>\n",
       "      <th>product_title</th>\n",
       "      <th>mpn_list</th>\n",
       "      <th>manufacturer_id</th>\n",
       "      <th>brand_title</th>\n",
       "      <th>flix_parent_category</th>\n",
       "      <th>flix_subCategory1</th>\n",
       "      <th>flix_subCategory2</th>\n",
       "      <th>benchmark_category</th>\n",
       "      <th>benchmark_category2</th>\n",
       "    </tr>\n",
       "  </thead>\n",
       "  <tbody>\n",
       "    <tr>\n",
       "      <th>0</th>\n",
       "      <td>3</td>\n",
       "      <td>Crematic Coffee Maker</td>\n",
       "      <td>F8744338</td>\n",
       "      <td>53.0</td>\n",
       "      <td>Groupe SEB</td>\n",
       "      <td>Small Gadgets/Appliances</td>\n",
       "      <td>Drink Makers</td>\n",
       "      <td>Coffee/Espresso</td>\n",
       "      <td>Home Appliances</td>\n",
       "      <td>Drink Makers</td>\n",
       "    </tr>\n",
       "    <tr>\n",
       "      <th>1</th>\n",
       "      <td>4</td>\n",
       "      <td>Vitamin Plus 3-Tier Steamer</td>\n",
       "      <td>vc400415</td>\n",
       "      <td>4.0</td>\n",
       "      <td>Tefal</td>\n",
       "      <td>Small Gadgets/Appliances</td>\n",
       "      <td>Cooking</td>\n",
       "      <td>Steamers</td>\n",
       "      <td>Home Appliances</td>\n",
       "      <td>Steamers</td>\n",
       "    </tr>\n",
       "  </tbody>\n",
       "</table>\n",
       "</div>"
      ],
      "text/plain": [
       "   product_id                product_title  mpn_list  manufacturer_id  \\\n",
       "0           3        Crematic Coffee Maker  F8744338             53.0   \n",
       "1           4  Vitamin Plus 3-Tier Steamer  vc400415              4.0   \n",
       "\n",
       "  brand_title      flix_parent_category flix_subCategory1 flix_subCategory2  \\\n",
       "0  Groupe SEB  Small Gadgets/Appliances      Drink Makers   Coffee/Espresso   \n",
       "1       Tefal  Small Gadgets/Appliances           Cooking          Steamers   \n",
       "\n",
       "  benchmark_category benchmark_category2  \n",
       "0    Home Appliances        Drink Makers  \n",
       "1    Home Appliances            Steamers  "
      ]
     },
     "execution_count": 30,
     "metadata": {},
     "output_type": "execute_result"
    }
   ],
   "source": [
    "# load second product file and load only the necessary columns\n",
    "products_complete = pd.read_csv('\\\\Users\\\\Dan\\\\Documents\\\\Python\\\\Data\\\\Flix_products\\\\products.csv', sep='\\t')\n",
    "products= products_complete[['product_id','product_title','mpn_list','manufacturer_id', 'brand_title',\n",
    "                            'flix_parent_category', 'flix_subCategory1', 'flix_subCategory2',\n",
    "                            'benchmark_category', 'benchmark_category2']]\n",
    "products.head(2)"
   ]
  },
  {
   "cell_type": "code",
   "execution_count": 79,
   "metadata": {},
   "outputs": [
    {
     "data": {
      "text/html": [
       "<div>\n",
       "<style scoped>\n",
       "    .dataframe tbody tr th:only-of-type {\n",
       "        vertical-align: middle;\n",
       "    }\n",
       "\n",
       "    .dataframe tbody tr th {\n",
       "        vertical-align: top;\n",
       "    }\n",
       "\n",
       "    .dataframe thead th {\n",
       "        text-align: right;\n",
       "    }\n",
       "</style>\n",
       "<table border=\"1\" class=\"dataframe\">\n",
       "  <thead>\n",
       "    <tr style=\"text-align: right;\">\n",
       "      <th></th>\n",
       "      <th>product_id</th>\n",
       "      <th>product_title</th>\n",
       "      <th>mpn_list</th>\n",
       "      <th>manufacturer_id</th>\n",
       "      <th>brand_title</th>\n",
       "      <th>flix_parent_category</th>\n",
       "      <th>flix_subCategory1</th>\n",
       "      <th>flix_subCategory2</th>\n",
       "      <th>benchmark_category</th>\n",
       "      <th>benchmark_category2</th>\n",
       "      <th>title</th>\n",
       "      <th>Categories</th>\n",
       "    </tr>\n",
       "  </thead>\n",
       "  <tbody>\n",
       "    <tr>\n",
       "      <th>0</th>\n",
       "      <td>881868</td>\n",
       "      <td>HP EliteBook 840 G1 Notebook PC</td>\n",
       "      <td>J8Q77EA</td>\n",
       "      <td>28.0</td>\n",
       "      <td>HP</td>\n",
       "      <td>Computing/Gaming</td>\n",
       "      <td>Laptops/Notebook/Ebook/Ultrabook</td>\n",
       "      <td>Notebooks</td>\n",
       "      <td>Computing</td>\n",
       "      <td>Laptops</td>\n",
       "      <td>HP EliteBook 840 G1 Notebook PC</td>\n",
       "      <td>Laptops And Hybrids | Business Laptop PCs | HP...</td>\n",
       "    </tr>\n",
       "    <tr>\n",
       "      <th>1</th>\n",
       "      <td>876236</td>\n",
       "      <td>Speedlight SB-N7</td>\n",
       "      <td>FSA90901</td>\n",
       "      <td>1290.0</td>\n",
       "      <td>Nikon</td>\n",
       "      <td>Cameras</td>\n",
       "      <td>Camera Accessories</td>\n",
       "      <td>None</td>\n",
       "      <td>Cameras</td>\n",
       "      <td>Cameras Accessories</td>\n",
       "      <td>Speedlight SB-N7</td>\n",
       "      <td>Speedlights</td>\n",
       "    </tr>\n",
       "  </tbody>\n",
       "</table>\n",
       "</div>"
      ],
      "text/plain": [
       "   product_id                    product_title  mpn_list  manufacturer_id  \\\n",
       "0      881868  HP EliteBook 840 G1 Notebook PC   J8Q77EA             28.0   \n",
       "1      876236                 Speedlight SB-N7  FSA90901           1290.0   \n",
       "\n",
       "  brand_title flix_parent_category                 flix_subCategory1  \\\n",
       "0          HP     Computing/Gaming  Laptops/Notebook/Ebook/Ultrabook   \n",
       "1       Nikon              Cameras                Camera Accessories   \n",
       "\n",
       "  flix_subCategory2 benchmark_category  benchmark_category2  \\\n",
       "0         Notebooks          Computing              Laptops   \n",
       "1              None            Cameras  Cameras Accessories   \n",
       "\n",
       "                             title  \\\n",
       "0  HP EliteBook 840 G1 Notebook PC   \n",
       "1                 Speedlight SB-N7   \n",
       "\n",
       "                                          Categories  \n",
       "0  Laptops And Hybrids | Business Laptop PCs | HP...  \n",
       "1                                        Speedlights  "
      ]
     },
     "execution_count": 79,
     "metadata": {},
     "output_type": "execute_result"
    }
   ],
   "source": [
    "# merge the two products file with an inner join to keep only the common products from both\n",
    "products = pd.merge(products, df1, on='product_id', how='inner')\n",
    "products.head(2)"
   ]
  },
  {
   "cell_type": "code",
   "execution_count": 80,
   "metadata": {},
   "outputs": [
    {
     "data": {
      "text/plain": [
       "(3665, 0.05178455364964535)"
      ]
     },
     "execution_count": 80,
     "metadata": {},
     "output_type": "execute_result"
    }
   ],
   "source": [
    "# check how many products have unassigned categories\n",
    "products['benchmark_category2'].isna().sum(), products['benchmark_category2'].isna().sum()/len(products.index)"
   ]
  },
  {
   "cell_type": "code",
   "execution_count": 81,
   "metadata": {},
   "outputs": [],
   "source": [
    "# drop the unassugned category products\n",
    "products.dropna(subset=['benchmark_category2'], inplace=True)"
   ]
  },
  {
   "cell_type": "code",
   "execution_count": 82,
   "metadata": {},
   "outputs": [
    {
     "data": {
      "image/png": "[encoded data removed]",
      "text/plain": [
       "<Figure size 1080x360 with 1 Axes>"
      ]
     },
     "metadata": {},
     "output_type": "display_data"
    }
   ],
   "source": [
    "# let's look at the distribution of number of products and brands by product categories\n",
    "group_products = products.groupby('benchmark_category2')['product_id'].count()\n",
    "group_brand  = products.groupby('benchmark_category2')['brand_title'].nunique()\n",
    "plt.figure(figsize=(15,5))\n",
    "ax = sns.scatterplot(x=group_products, y=group_brand)"
   ]
  },
  {
   "cell_type": "code",
   "execution_count": 77,
   "metadata": {},
   "outputs": [
    {
     "data": {
      "text/plain": [
       "<matplotlib.axes._subplots.AxesSubplot at 0x1a3901d7b38>"
      ]
     },
     "execution_count": 77,
     "metadata": {},
     "output_type": "execute_result"
    },
    {
     "data": {
      "image/png": "[encoded data removed]",
      "text/plain": [
       "<Figure size 576x576 with 1 Axes>"
      ]
     },
     "metadata": {},
     "output_type": "display_data"
    }
   ],
   "source": [
    "# lets look at the top 30 categories by number of products\n",
    "products.groupby('benchmark_category2')['product_id'].count().sort_values().tail(30).plot.barh(figsize=(8,8), color='purple')"
   ]
  },
  {
   "cell_type": "code",
   "execution_count": 116,
   "metadata": {},
   "outputs": [
    {
     "name": "stdout",
     "output_type": "stream",
     "text": [
      "<class 'pandas.core.frame.DataFrame'>\n",
      "RangeIndex: 45819 entries, 0 to 45818\n",
      "Data columns (total 13 columns):\n",
      "index                   45819 non-null int64\n",
      "product_id              45819 non-null int64\n",
      "product_title           45280 non-null object\n",
      "mpn_list                45607 non-null object\n",
      "manufacturer_id         45819 non-null float64\n",
      "brand_title             45819 non-null object\n",
      "flix_parent_category    45819 non-null object\n",
      "flix_subCategory1       45819 non-null object\n",
      "flix_subCategory2       39525 non-null object\n",
      "benchmark_category      45819 non-null object\n",
      "benchmark_category2     45819 non-null object\n",
      "title                   45819 non-null object\n",
      "Categories              45819 non-null object\n",
      "dtypes: float64(1), int64(2), object(10)\n",
      "memory usage: 4.5+ MB\n"
     ]
    }
   ],
   "source": [
    "# lets subset by top 15 categories and use this data for further analysis\n",
    "top15cats = products.groupby('benchmark_category2')['product_id'].count().nlargest(15).keys()\n",
    "prod_15cats = products[products['benchmark_category2'].isin(top15cats)].reset_index()\n",
    "prod_15cats.info()"
   ]
  },
  {
   "cell_type": "markdown",
   "metadata": {},
   "source": [
    "# 2. Categorisation with product titles and categories"
   ]
  },
  {
   "cell_type": "code",
   "execution_count": 117,
   "metadata": {},
   "outputs": [
    {
     "data": {
      "text/plain": [
       "0    Laptops And Hybrids | Business Laptop PCs | HP...\n",
       "1                   Electrolux | NonStar | Cooker_Hood\n",
       "Name: Categories, dtype: object"
      ]
     },
     "execution_count": 117,
     "metadata": {},
     "output_type": "execute_result"
    }
   ],
   "source": [
    "prod_15cats['Categories'].head(2)"
   ]
  },
  {
   "cell_type": "code",
   "execution_count": 118,
   "metadata": {},
   "outputs": [
    {
     "data": {
      "text/plain": [
       "0    Laptops And Hybrids  Business Laptop PCs  HP E...\n",
       "1                     Electrolux  NonStar  Cooker_Hood\n",
       "Name: Categories, dtype: object"
      ]
     },
     "execution_count": 118,
     "metadata": {},
     "output_type": "execute_result"
    }
   ],
   "source": [
    "# Remove the pipes '|' in the Categories\n",
    "prod_15cats['Categories'] = prod_15cats['Categories'].str.replace('|', '')\n",
    "prod_15cats['Categories'].head(2)"
   ]
  },
  {
   "cell_type": "code",
   "execution_count": 120,
   "metadata": {},
   "outputs": [],
   "source": [
    "# lets concatenate the two columns : product titles and categories\n",
    "prod_15cats['title&cat'] = prod_15cats['product_title'] + '' + prod_15cats['Categories']"
   ]
  },
  {
   "cell_type": "code",
   "execution_count": 129,
   "metadata": {},
   "outputs": [
    {
     "data": {
      "text/html": [
       "<div>\n",
       "<style scoped>\n",
       "    .dataframe tbody tr th:only-of-type {\n",
       "        vertical-align: middle;\n",
       "    }\n",
       "\n",
       "    .dataframe tbody tr th {\n",
       "        vertical-align: top;\n",
       "    }\n",
       "\n",
       "    .dataframe thead th {\n",
       "        text-align: right;\n",
       "    }\n",
       "</style>\n",
       "<table border=\"1\" class=\"dataframe\">\n",
       "  <thead>\n",
       "    <tr style=\"text-align: right;\">\n",
       "      <th></th>\n",
       "      <th>index</th>\n",
       "      <th>product_id</th>\n",
       "      <th>product_title</th>\n",
       "      <th>mpn_list</th>\n",
       "      <th>manufacturer_id</th>\n",
       "      <th>brand_title</th>\n",
       "      <th>flix_parent_category</th>\n",
       "      <th>flix_subCategory1</th>\n",
       "      <th>flix_subCategory2</th>\n",
       "      <th>benchmark_category</th>\n",
       "      <th>title</th>\n",
       "      <th>title&amp;cat</th>\n",
       "    </tr>\n",
       "  </thead>\n",
       "  <tbody>\n",
       "    <tr>\n",
       "      <th>0</th>\n",
       "      <td>0</td>\n",
       "      <td>881868</td>\n",
       "      <td>HP EliteBook 840 G1 Notebook PC</td>\n",
       "      <td>J8Q77EA</td>\n",
       "      <td>28.0</td>\n",
       "      <td>HP</td>\n",
       "      <td>Computing/Gaming</td>\n",
       "      <td>Laptops/Notebook/Ebook/Ultrabook</td>\n",
       "      <td>Notebooks</td>\n",
       "      <td>Computing</td>\n",
       "      <td>HP EliteBook 840 G1 Notebook PC</td>\n",
       "      <td>HP EliteBook 840 G1 Notebook PCLaptops And Hyb...</td>\n",
       "    </tr>\n",
       "    <tr>\n",
       "      <th>1</th>\n",
       "      <td>2</td>\n",
       "      <td>888696</td>\n",
       "      <td>Electrolux EFC60465OX 60 cm Stainless Steel Ch...</td>\n",
       "      <td>EFC60465OX</td>\n",
       "      <td>1307.0</td>\n",
       "      <td>Electrolux Major</td>\n",
       "      <td>Home Appliances</td>\n",
       "      <td>Cooker Hoods</td>\n",
       "      <td>None</td>\n",
       "      <td>Home Appliances</td>\n",
       "      <td>Electrolux EFC60465OX Chimney Design Hood 60 c...</td>\n",
       "      <td>Electrolux EFC60465OX 60 cm Stainless Steel Ch...</td>\n",
       "    </tr>\n",
       "  </tbody>\n",
       "</table>\n",
       "</div>"
      ],
      "text/plain": [
       "   index  product_id                                      product_title  \\\n",
       "0      0      881868                    HP EliteBook 840 G1 Notebook PC   \n",
       "1      2      888696  Electrolux EFC60465OX 60 cm Stainless Steel Ch...   \n",
       "\n",
       "     mpn_list  manufacturer_id       brand_title flix_parent_category  \\\n",
       "0     J8Q77EA             28.0                HP     Computing/Gaming   \n",
       "1  EFC60465OX           1307.0  Electrolux Major      Home Appliances   \n",
       "\n",
       "                  flix_subCategory1 flix_subCategory2 benchmark_category  \\\n",
       "0  Laptops/Notebook/Ebook/Ultrabook         Notebooks          Computing   \n",
       "1                      Cooker Hoods              None    Home Appliances   \n",
       "\n",
       "                                               title  \\\n",
       "0                    HP EliteBook 840 G1 Notebook PC   \n",
       "1  Electrolux EFC60465OX Chimney Design Hood 60 c...   \n",
       "\n",
       "                                           title&cat  \n",
       "0  HP EliteBook 840 G1 Notebook PCLaptops And Hyb...  \n",
       "1  Electrolux EFC60465OX 60 cm Stainless Steel Ch...  "
      ]
     },
     "execution_count": 129,
     "metadata": {},
     "output_type": "execute_result"
    }
   ],
   "source": [
    "prod_15cats.head(2)"
   ]
  },
  {
   "cell_type": "code",
   "execution_count": 126,
   "metadata": {},
   "outputs": [],
   "source": [
    "# create train and test set with stratified sampling\n",
    "y = prod_15cats.pop('benchmark_category2')\n",
    "X = prod_15cats[['product_id','title&cat']]\n",
    "X_train, X_test, y_train, y_test = train_test_split( X, y, test_size=0.30, random_state=42, stratify=y)\n",
    "X_test.head()"
   ]
  },
  {
   "cell_type": "code",
   "execution_count": null,
   "metadata": {},
   "outputs": [],
   "source": []
  }
 ],
 "metadata": {
  "kernelspec": {
   "display_name": "Python 3",
   "language": "python",
   "name": "python3"
  },
  "language_info": {
   "codemirror_mode": {
    "name": "ipython",
    "version": 3
   },
   "file_extension": ".py",
   "mimetype": "text/x-python",
   "name": "python",
   "nbconvert_exporter": "python",
   "pygments_lexer": "ipython3",
   "version": "3.6.5"
  }
 },
 "nbformat": 4,
 "nbformat_minor": 2
}

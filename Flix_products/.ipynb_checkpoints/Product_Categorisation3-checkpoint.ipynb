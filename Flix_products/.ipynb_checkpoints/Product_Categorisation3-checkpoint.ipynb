{
 "cells": [
  {
   "cell_type": "code",
   "execution_count": 1,
   "metadata": {},
   "outputs": [
    {
     "name": "stderr",
     "output_type": "stream",
     "text": [
      "Using TensorFlow backend.\n"
     ]
    }
   ],
   "source": [
    "from sklearn import model_selection, preprocessing, linear_model, naive_bayes, metrics, svm\n",
    "from sklearn.feature_extraction.text import TfidfVectorizer, CountVectorizer\n",
    "from sklearn import decomposition, ensemble\n",
    "from sklearn.model_selection import train_test_split\n",
    "\n",
    "import pandas as pd, mysql.connector, nltk\n",
    "import xgboost, numpy, textblob, string\n",
    "from keras.preprocessing import text, sequence\n",
    "from keras import layers, models, optimizers\n",
    "from nltk.corpus import stopwords\n",
    "import string\n",
    "from collections import Counter"
   ]
  },
  {
   "cell_type": "code",
   "execution_count": 2,
   "metadata": {},
   "outputs": [],
   "source": [
    "import numpy as np\n",
    "import matplotlib.pyplot as plt\n",
    "import seaborn as sns"
   ]
  },
  {
   "cell_type": "markdown",
   "metadata": {},
   "source": [
    "# 1. Data Preparation"
   ]
  },
  {
   "cell_type": "code",
   "execution_count": 4,
   "metadata": {},
   "outputs": [
    {
     "data": {
      "text/html": [
       "<div>\n",
       "<style scoped>\n",
       "    .dataframe tbody tr th:only-of-type {\n",
       "        vertical-align: middle;\n",
       "    }\n",
       "\n",
       "    .dataframe tbody tr th {\n",
       "        vertical-align: top;\n",
       "    }\n",
       "\n",
       "    .dataframe thead th {\n",
       "        text-align: right;\n",
       "    }\n",
       "</style>\n",
       "<table border=\"1\" class=\"dataframe\">\n",
       "  <thead>\n",
       "    <tr style=\"text-align: right;\">\n",
       "      <th></th>\n",
       "      <th>product_id</th>\n",
       "      <th>title</th>\n",
       "      <th>Categories</th>\n",
       "    </tr>\n",
       "  </thead>\n",
       "  <tbody>\n",
       "    <tr>\n",
       "      <th>0</th>\n",
       "      <td>400002</td>\n",
       "      <td>HP Photosmart eStation Printer</td>\n",
       "      <td>Printers and Multifunction | Inkjet All-in-One...</td>\n",
       "    </tr>\n",
       "    <tr>\n",
       "      <th>1</th>\n",
       "      <td>400004</td>\n",
       "      <td>HP LaserJet Pro M1217nfw Multifunction Printer</td>\n",
       "      <td>Printers and Multifunction | Laser Multifuncti...</td>\n",
       "    </tr>\n",
       "  </tbody>\n",
       "</table>\n",
       "</div>"
      ],
      "text/plain": [
       "   product_id                                           title  \\\n",
       "0      400002                  HP Photosmart eStation Printer   \n",
       "1      400004  HP LaserJet Pro M1217nfw Multifunction Printer   \n",
       "\n",
       "                                          Categories  \n",
       "0  Printers and Multifunction | Inkjet All-in-One...  \n",
       "1  Printers and Multifunction | Laser Multifuncti...  "
      ]
     },
     "execution_count": 4,
     "metadata": {},
     "output_type": "execute_result"
    }
   ],
   "source": [
    "# get the first file which has product titles and brand categoriws\n",
    "df1 = pd.read_csv('\\\\Users\\\\Daniel\\\\Python\\\\Data\\\\Flix_products\\\\product_title.csv', engine='python')\n",
    "df1.head(2)"
   ]
  },
  {
   "cell_type": "code",
   "execution_count": 6,
   "metadata": {},
   "outputs": [
    {
     "name": "stderr",
     "output_type": "stream",
     "text": [
      "C:\\Users\\Daniel\\AppData\\Local\\Continuum\\anaconda3\\lib\\site-packages\\IPython\\core\\interactiveshell.py:3044: DtypeWarning: Columns (28) have mixed types. Specify dtype option on import or set low_memory=False.\n",
      "  interactivity=interactivity, compiler=compiler, result=result)\n"
     ]
    },
    {
     "data": {
      "text/html": [
       "<div>\n",
       "<style scoped>\n",
       "    .dataframe tbody tr th:only-of-type {\n",
       "        vertical-align: middle;\n",
       "    }\n",
       "\n",
       "    .dataframe tbody tr th {\n",
       "        vertical-align: top;\n",
       "    }\n",
       "\n",
       "    .dataframe thead th {\n",
       "        text-align: right;\n",
       "    }\n",
       "</style>\n",
       "<table border=\"1\" class=\"dataframe\">\n",
       "  <thead>\n",
       "    <tr style=\"text-align: right;\">\n",
       "      <th></th>\n",
       "      <th>product_id</th>\n",
       "      <th>product_title</th>\n",
       "      <th>mpn_list</th>\n",
       "      <th>manufacturer_id</th>\n",
       "      <th>brand_title</th>\n",
       "      <th>flix_parent_category</th>\n",
       "      <th>flix_subCategory1</th>\n",
       "      <th>flix_subCategory2</th>\n",
       "      <th>benchmark_category</th>\n",
       "      <th>benchmark_category2</th>\n",
       "    </tr>\n",
       "  </thead>\n",
       "  <tbody>\n",
       "    <tr>\n",
       "      <th>0</th>\n",
       "      <td>3</td>\n",
       "      <td>Crematic Coffee Maker</td>\n",
       "      <td>F8744338</td>\n",
       "      <td>53.0</td>\n",
       "      <td>Groupe SEB</td>\n",
       "      <td>Small Gadgets/Appliances</td>\n",
       "      <td>Drink Makers</td>\n",
       "      <td>Coffee/Espresso</td>\n",
       "      <td>Home Appliances</td>\n",
       "      <td>Drink Makers</td>\n",
       "    </tr>\n",
       "    <tr>\n",
       "      <th>1</th>\n",
       "      <td>4</td>\n",
       "      <td>Vitamin Plus 3-Tier Steamer</td>\n",
       "      <td>vc400415</td>\n",
       "      <td>4.0</td>\n",
       "      <td>Tefal</td>\n",
       "      <td>Small Gadgets/Appliances</td>\n",
       "      <td>Cooking</td>\n",
       "      <td>Steamers</td>\n",
       "      <td>Home Appliances</td>\n",
       "      <td>Steamers</td>\n",
       "    </tr>\n",
       "  </tbody>\n",
       "</table>\n",
       "</div>"
      ],
      "text/plain": [
       "   product_id                product_title  mpn_list  manufacturer_id  \\\n",
       "0           3        Crematic Coffee Maker  F8744338             53.0   \n",
       "1           4  Vitamin Plus 3-Tier Steamer  vc400415              4.0   \n",
       "\n",
       "  brand_title      flix_parent_category flix_subCategory1 flix_subCategory2  \\\n",
       "0  Groupe SEB  Small Gadgets/Appliances      Drink Makers   Coffee/Espresso   \n",
       "1       Tefal  Small Gadgets/Appliances           Cooking          Steamers   \n",
       "\n",
       "  benchmark_category benchmark_category2  \n",
       "0    Home Appliances        Drink Makers  \n",
       "1    Home Appliances            Steamers  "
      ]
     },
     "execution_count": 6,
     "metadata": {},
     "output_type": "execute_result"
    }
   ],
   "source": [
    "# load second product file and load only the necessary columns\n",
    "products_complete = pd.read_csv('\\\\Users\\\\Daniel\\\\Python\\\\Data\\\\Flix_products\\\\products.csv', sep='\\t')\n",
    "products= products_complete[['product_id','product_title','mpn_list','manufacturer_id', 'brand_title',\n",
    "                            'flix_parent_category', 'flix_subCategory1', 'flix_subCategory2',\n",
    "                            'benchmark_category', 'benchmark_category2']]\n",
    "products.head(2)"
   ]
  },
  {
   "cell_type": "code",
   "execution_count": 7,
   "metadata": {},
   "outputs": [
    {
     "data": {
      "text/html": [
       "<div>\n",
       "<style scoped>\n",
       "    .dataframe tbody tr th:only-of-type {\n",
       "        vertical-align: middle;\n",
       "    }\n",
       "\n",
       "    .dataframe tbody tr th {\n",
       "        vertical-align: top;\n",
       "    }\n",
       "\n",
       "    .dataframe thead th {\n",
       "        text-align: right;\n",
       "    }\n",
       "</style>\n",
       "<table border=\"1\" class=\"dataframe\">\n",
       "  <thead>\n",
       "    <tr style=\"text-align: right;\">\n",
       "      <th></th>\n",
       "      <th>product_id</th>\n",
       "      <th>product_title</th>\n",
       "      <th>mpn_list</th>\n",
       "      <th>manufacturer_id</th>\n",
       "      <th>brand_title</th>\n",
       "      <th>flix_parent_category</th>\n",
       "      <th>flix_subCategory1</th>\n",
       "      <th>flix_subCategory2</th>\n",
       "      <th>benchmark_category</th>\n",
       "      <th>benchmark_category2</th>\n",
       "      <th>title</th>\n",
       "      <th>Categories</th>\n",
       "    </tr>\n",
       "  </thead>\n",
       "  <tbody>\n",
       "    <tr>\n",
       "      <th>0</th>\n",
       "      <td>881868</td>\n",
       "      <td>HP EliteBook 840 G1 Notebook PC</td>\n",
       "      <td>J8Q77EA</td>\n",
       "      <td>28.0</td>\n",
       "      <td>HP</td>\n",
       "      <td>Computing/Gaming</td>\n",
       "      <td>Laptops/Notebook/Ebook/Ultrabook</td>\n",
       "      <td>Notebooks</td>\n",
       "      <td>Computing</td>\n",
       "      <td>Laptops</td>\n",
       "      <td>HP EliteBook 840 G1 Notebook PC</td>\n",
       "      <td>Laptops And Hybrids | Business Laptop PCs | HP...</td>\n",
       "    </tr>\n",
       "    <tr>\n",
       "      <th>1</th>\n",
       "      <td>876236</td>\n",
       "      <td>Speedlight SB-N7</td>\n",
       "      <td>FSA90901</td>\n",
       "      <td>1290.0</td>\n",
       "      <td>Nikon</td>\n",
       "      <td>Cameras</td>\n",
       "      <td>Camera Accessories</td>\n",
       "      <td>None</td>\n",
       "      <td>Cameras</td>\n",
       "      <td>Cameras Accessories</td>\n",
       "      <td>Speedlight SB-N7</td>\n",
       "      <td>Speedlights</td>\n",
       "    </tr>\n",
       "  </tbody>\n",
       "</table>\n",
       "</div>"
      ],
      "text/plain": [
       "   product_id                    product_title  mpn_list  manufacturer_id  \\\n",
       "0      881868  HP EliteBook 840 G1 Notebook PC   J8Q77EA             28.0   \n",
       "1      876236                 Speedlight SB-N7  FSA90901           1290.0   \n",
       "\n",
       "  brand_title flix_parent_category                 flix_subCategory1  \\\n",
       "0          HP     Computing/Gaming  Laptops/Notebook/Ebook/Ultrabook   \n",
       "1       Nikon              Cameras                Camera Accessories   \n",
       "\n",
       "  flix_subCategory2 benchmark_category  benchmark_category2  \\\n",
       "0         Notebooks          Computing              Laptops   \n",
       "1              None            Cameras  Cameras Accessories   \n",
       "\n",
       "                             title  \\\n",
       "0  HP EliteBook 840 G1 Notebook PC   \n",
       "1                 Speedlight SB-N7   \n",
       "\n",
       "                                          Categories  \n",
       "0  Laptops And Hybrids | Business Laptop PCs | HP...  \n",
       "1                                        Speedlights  "
      ]
     },
     "execution_count": 7,
     "metadata": {},
     "output_type": "execute_result"
    }
   ],
   "source": [
    "# merge the two products file with an inner join to keep only the common products from both\n",
    "products = pd.merge(products, df1, on='product_id', how='inner')\n",
    "products.head(2)"
   ]
  },
  {
   "cell_type": "code",
   "execution_count": 8,
   "metadata": {},
   "outputs": [
    {
     "data": {
      "text/plain": [
       "(1680, 0.023105805333590065)"
      ]
     },
     "execution_count": 8,
     "metadata": {},
     "output_type": "execute_result"
    }
   ],
   "source": [
    "# check how many products have unassigned categories\n",
    "products['benchmark_category2'].isna().sum(), products['benchmark_category2'].isna().sum()/len(products.index)"
   ]
  },
  {
   "cell_type": "code",
   "execution_count": 9,
   "metadata": {},
   "outputs": [],
   "source": [
    "# drop the unassugned category products\n",
    "products.dropna(subset=['benchmark_category2'], inplace=True)"
   ]
  },
  {
   "cell_type": "code",
   "execution_count": 10,
   "metadata": {},
   "outputs": [
    {
     "data": {
      "text/plain": [
       "Text(0.5, 0, '# of products')"
      ]
     },
     "execution_count": 10,
     "metadata": {},
     "output_type": "execute_result"
    },
    {
     "data": {
      "image/png": "[encoded data removed]",
      "text/plain": [
       "<Figure size 1080x360 with 1 Axes>"
      ]
     },
     "metadata": {
      "needs_background": "light"
     },
     "output_type": "display_data"
    }
   ],
   "source": [
    "# let's look at the distribution of number of products and brands by product categories\n",
    "group_products = products.groupby('benchmark_category2')['product_id'].count()\n",
    "group_brand  = products.groupby('benchmark_category2')['brand_title'].nunique()\n",
    "plt.figure(figsize=(15,5))\n",
    "ax = sns.scatterplot(x=group_products, y=group_brand)\n",
    "ax.set_ylabel('# of brands')\n",
    "ax.set_xlabel('# of products')"
   ]
  },
  {
   "cell_type": "code",
   "execution_count": 11,
   "metadata": {},
   "outputs": [
    {
     "data": {
      "text/plain": [
       "<matplotlib.axes._subplots.AxesSubplot at 0x1fac822b518>"
      ]
     },
     "execution_count": 11,
     "metadata": {},
     "output_type": "execute_result"
    },
    {
     "data": {
      "image/png": "[encoded data removed]",
      "text/plain": [
       "<Figure size 576x576 with 1 Axes>"
      ]
     },
     "metadata": {
      "needs_background": "light"
     },
     "output_type": "display_data"
    }
   ],
   "source": [
    "# lets look at the top 30 categories by number of products\n",
    "products.groupby('benchmark_category2')['product_id'].count().sort_values().tail(30).plot.barh(figsize=(8,8), color='purple')"
   ]
  },
  {
   "cell_type": "code",
   "execution_count": 361,
   "metadata": {},
   "outputs": [
    {
     "name": "stdout",
     "output_type": "stream",
     "text": [
      "<class 'pandas.core.frame.DataFrame'>\n",
      "RangeIndex: 63349 entries, 0 to 63348\n",
      "Data columns (total 17 columns):\n",
      "index                   63349 non-null int64\n",
      "product_id              63349 non-null int64\n",
      "product_title           62578 non-null object\n",
      "mpn_list                62811 non-null object\n",
      "manufacturer_id         63349 non-null float64\n",
      "brand_title             63349 non-null object\n",
      "flix_parent_category    63349 non-null object\n",
      "flix_subCategory1       63349 non-null object\n",
      "flix_subCategory2       53778 non-null object\n",
      "benchmark_category      63349 non-null object\n",
      "benchmark_category2     63349 non-null object\n",
      "title_x                 63349 non-null object\n",
      "Categories_x            63349 non-null object\n",
      "title_y                 63349 non-null object\n",
      "Categories_y            63349 non-null object\n",
      "title                   63349 non-null object\n",
      "Categories              63349 non-null object\n",
      "dtypes: float64(1), int64(2), object(14)\n",
      "memory usage: 8.2+ MB\n"
     ]
    }
   ],
   "source": [
    "# lets subset by top 15 categories and use this data for further analysis\n",
    "top15cats = products.groupby('benchmark_category2')['product_id'].count().nlargest(50).keys()\n",
    "prod_15cats = products[products['benchmark_category2'].isin(top15cats)].reset_index()\n",
    "prod_15cats.info()"
   ]
  },
  {
   "cell_type": "markdown",
   "metadata": {},
   "source": [
    "# 2. Categorisation with product titles and categories"
   ]
  },
  {
   "cell_type": "code",
   "execution_count": 362,
   "metadata": {},
   "outputs": [
    {
     "data": {
      "text/plain": [
       "0    Laptops And Hybrids | Business Laptop PCs | HP...\n",
       "1                                          Speedlights\n",
       "Name: Categories, dtype: object"
      ]
     },
     "execution_count": 362,
     "metadata": {},
     "output_type": "execute_result"
    }
   ],
   "source": [
    "prod_15cats['Categories'].head(2)"
   ]
  },
  {
   "cell_type": "code",
   "execution_count": 363,
   "metadata": {},
   "outputs": [
    {
     "data": {
      "text/plain": [
       "0    Laptops And Hybrids  Business Laptop PCs  HP E...\n",
       "1                                          Speedlights\n",
       "Name: Categories, dtype: object"
      ]
     },
     "execution_count": 363,
     "metadata": {},
     "output_type": "execute_result"
    }
   ],
   "source": [
    "# Remove the pipes '|' in the Categories\n",
    "prod_15cats['Categories'] = prod_15cats['Categories'].str.replace('|', '')\n",
    "prod_15cats['Categories'].head(2)"
   ]
  },
  {
   "cell_type": "code",
   "execution_count": 364,
   "metadata": {},
   "outputs": [],
   "source": [
    "# lets concatenate the two columns : product titles and categories\n",
    "prod_15cats['title&cat']=np.nan\n",
    "for i in range(len(prod_15cats)):\n",
    "    if pd.isna(prod_15cats.loc[i, 'product_title']):\n",
    "        prod_15cats.loc[i, 'title&cat'] =  prod_15cats.loc[i, 'title'] + ' ' + prod_15cats.loc[i, 'Categories']\n",
    "    else:\n",
    "        prod_15cats.loc[i,'title&cat'] =  prod_15cats.loc[i, 'product_title'] + ' ' + prod_15cats.loc[i, 'Categories']"
   ]
  },
  {
   "cell_type": "code",
   "execution_count": 365,
   "metadata": {},
   "outputs": [],
   "source": [
    "prod_15cats.to_csv('prod_15cats.csv', sep='\\t', encoding='utf-8', index=False)"
   ]
  },
  {
   "cell_type": "code",
   "execution_count": 366,
   "metadata": {},
   "outputs": [],
   "source": [
    "prod_15cats = pd.read_csv('prod_15cats.csv', sep='\\t')"
   ]
  },
  {
   "cell_type": "code",
   "execution_count": 367,
   "metadata": {},
   "outputs": [],
   "source": [
    "# check for empty strings in the two columns \n",
    "#prod_15cats[prod_15cats[['product_title','Categories']].isnull().values.any(1)]"
   ]
  },
  {
   "cell_type": "markdown",
   "metadata": {},
   "source": [
    "# Bags of Word model"
   ]
  },
  {
   "cell_type": "code",
   "execution_count": 368,
   "metadata": {},
   "outputs": [],
   "source": [
    "# functions to tokenize the whole doc and form a vocabulary\n",
    "\n",
    "# clean texts\n",
    "def tokenize_doc(doc):\n",
    "    # split into tokens by white space\n",
    "    tokens = doc.split()\n",
    "    # remove punctuation from each token\n",
    "    table = str.maketrans('', '', string.punctuation)\n",
    "    tokens = [w.translate(table) for w in tokens]\n",
    "    tokens = [w.lower() for w in tokens]\n",
    "    # remove remaining tokens that are not alphabetic\n",
    "    tokens = [word for word in tokens if word.isalpha()]\n",
    "    # filter out stop words\n",
    "    stop_words = set(stopwords.words('english'))\n",
    "    tokens = [w for w in tokens if not w in stop_words]\n",
    "    # filter out short tokens\n",
    "    tokens = [word for word in tokens if len(word) > 1]\n",
    "    return tokens\n",
    "\n",
    "# load text and add to vocab\n",
    "def add_to_vocab(column, vocab):\n",
    "    for i in range(len(column)):\n",
    "        tokens = tokenize_doc(column[i])\n",
    "        vocab.update(tokens)  "
   ]
  },
  {
   "cell_type": "code",
   "execution_count": 369,
   "metadata": {},
   "outputs": [],
   "source": [
    "#create the vocabulary after tokenization of the whole doc\n",
    "vocab = Counter()\n",
    "add_to_vocab(prod_15cats['title&cat'], vocab)"
   ]
  },
  {
   "cell_type": "code",
   "execution_count": 370,
   "metadata": {},
   "outputs": [
    {
     "name": "stdout",
     "output_type": "stream",
     "text": [
      "[('hp', 81516), ('pc', 34871), ('notebook', 24464), ('series', 20676), ('pavilion', 11978), ('home', 9793), ('desktop', 9730), ('pcs', 9598), ('workstation', 7968), ('compaq', 7286), ('mobile', 7160), ('philips', 7101), ('consumer', 6220), ('tv', 6122), ('ink', 5807), ('elitebook', 5680), ('led', 5631), ('probook', 5555), ('printer', 5503), ('cartridges', 4748)]\n"
     ]
    },
    {
     "data": {
      "text/plain": [
       "(11832, None)"
      ]
     },
     "execution_count": 370,
     "metadata": {},
     "output_type": "execute_result"
    }
   ],
   "source": [
    "# length of the vocab and the most occuring words\n",
    "len(vocab), print(vocab.most_common(20))\n",
    "#print(vocab.most_common()[:len(vocab)-100:-1])  # to obtain the lower list"
   ]
  },
  {
   "cell_type": "code",
   "execution_count": 371,
   "metadata": {},
   "outputs": [
    {
     "name": "stdout",
     "output_type": "stream",
     "text": [
      "Vocabulary size: 7373\n"
     ]
    }
   ],
   "source": [
    "# remove tokens with just one occurence to reduce the vocab size\n",
    "tokens = [k for k,c in vocab.items() if c > 1]\n",
    "print('Vocabulary size: {}'.format( len(tokens)))"
   ]
  },
  {
   "cell_type": "code",
   "execution_count": 372,
   "metadata": {},
   "outputs": [],
   "source": [
    "# save the vocabulary to a file\n",
    "def save_vocab(lines, filename):\n",
    "    # convert lines to a single blob of text\n",
    "    data = '\\n'.join(lines)\n",
    "    # open file\n",
    "    file = open(filename, 'w', encoding=\"utf-8\")\n",
    "    file.write(data)\n",
    "    file.close()\n",
    "    \n",
    "# save the vocabulary\n",
    "save_vocab(tokens, 'vocab.txt')"
   ]
  },
  {
   "cell_type": "code",
   "execution_count": 373,
   "metadata": {},
   "outputs": [],
   "source": [
    "# function to tokenize each row\n",
    "def tokenize_row(column, vocab):\n",
    "    tokenz = []\n",
    "    for i in range(len(column)):\n",
    "        tokens = tokenize_doc(column[i])\n",
    "        tokens = [w for w in tokens if w in vocab]\n",
    "        tokenz.append(tokens)\n",
    "    return tokenz"
   ]
  },
  {
   "cell_type": "code",
   "execution_count": 374,
   "metadata": {},
   "outputs": [
    {
     "data": {
      "text/plain": [
       "0    [hp, elitebook, notebook, pc, laptops, hybrids...\n",
       "1                            [speedlight, speedlights]\n",
       "2    [electrolux, cm, stainless, steel, chimney, de...\n",
       "3    [electrolux, cm, stainless, steel, chimney, de...\n",
       "4                    [oven, electrolux, nonstar, oven]\n",
       "Name: tokens, dtype: object"
      ]
     },
     "execution_count": 374,
     "metadata": {},
     "output_type": "execute_result"
    }
   ],
   "source": [
    "# tokenize each row\n",
    "prod_15cats['tokens'] = tokenize_row(prod_15cats['title&cat'], vocab)\n",
    "prod_15cats['tokens'].head()"
   ]
  },
  {
   "cell_type": "code",
   "execution_count": 381,
   "metadata": {},
   "outputs": [
    {
     "data": {
      "text/plain": [
       "0    h p   e l i t e b o o k   n o t e b o o k   p ...\n",
       "1          s p e e d l i g h t   s p e e d l i g h t s\n",
       "2    e l e c t r o l u x   c m   s t a i n l e s s ...\n",
       "3    e l e c t r o l u x   c m   s t a i n l e s s ...\n",
       "4    o v e n   e l e c t r o l u x   n o n s t a r ...\n",
       "Name: tokens, dtype: object"
      ]
     },
     "execution_count": 381,
     "metadata": {},
     "output_type": "execute_result"
    }
   ],
   "source": [
    "# convert tokens in the list to texts\n",
    "prod_15cats['tokens']=[\" \".join(tokens) for tokens in prod_15cats['tokens'].values]\n",
    "prod_15cats['tokens'].head()"
   ]
  },
  {
   "cell_type": "code",
   "execution_count": 389,
   "metadata": {},
   "outputs": [
    {
     "data": {
      "text/plain": [
       "<matplotlib.axes._subplots.AxesSubplot at 0x1a3a7190a20>"
      ]
     },
     "execution_count": 389,
     "metadata": {},
     "output_type": "execute_result"
    },
    {
     "data": {
      "image/png": "[encoded data removed]",
      "text/plain": [
       "<Figure size 864x432 with 1 Axes>"
      ]
     },
     "metadata": {},
     "output_type": "display_data"
    }
   ],
   "source": [
    "# lets look at the top 30 categories by number of products\n",
    "prod_15cats.groupby('benchmark_category2')['product_id'].count().nlargest(50).plot.bar(figsize=(12,6), color='purple')"
   ]
  },
  {
   "cell_type": "code",
   "execution_count": 391,
   "metadata": {},
   "outputs": [],
   "source": [
    "# create train and test set with stratified sampling\n",
    "model_data = prod_15cats.copy()\n",
    "y = model_data.pop('benchmark_category2')\n",
    "x = model_data['tokens']\n",
    "x_train, x_test, y_train, y_test = train_test_split( x, y, test_size=0.30, random_state=42, stratify=y)"
   ]
  },
  {
   "cell_type": "markdown",
   "metadata": {},
   "source": [
    "# TF-IDF Vectors as features"
   ]
  },
  {
   "cell_type": "code",
   "execution_count": 392,
   "metadata": {},
   "outputs": [],
   "source": [
    "# label encode the target variable \n",
    "encoder = preprocessing.LabelEncoder()\n",
    "y_train = encoder.fit_transform(y_train)\n",
    "y_test = encoder.fit_transform(y_test)"
   ]
  },
  {
   "cell_type": "code",
   "execution_count": 396,
   "metadata": {},
   "outputs": [],
   "source": [
    "# word level TF-IDF\n",
    "tfidf_vect = TfidfVectorizer(analyzer='word', token_pattern=r'\\w{1,}')\n",
    "tfidf_vect.fit(model_data['tokens'])\n",
    "x_train_tfidf =  tfidf_vect.transform(x_train)\n",
    "x_test_tfidf =  tfidf_vect.transform(x_test)"
   ]
  },
  {
   "cell_type": "code",
   "execution_count": 397,
   "metadata": {},
   "outputs": [
    {
     "data": {
      "text/plain": [
       "(457, (44344, 457))"
      ]
     },
     "execution_count": 397,
     "metadata": {},
     "output_type": "execute_result"
    }
   ],
   "source": [
    "len(tfidf_vect.vocabulary_), x_train_tfidf.shape"
   ]
  },
  {
   "cell_type": "code",
   "execution_count": 386,
   "metadata": {},
   "outputs": [
    {
     "data": {
      "text/plain": [
       "array([[0.21719457, 0.15437558, 0.24132097, 0.        , 0.30011411,\n",
       "        0.        , 0.        , 0.        , 0.16474511, 0.        ,\n",
       "        0.16287132, 0.        , 0.14256363, 0.11133038, 0.52804417,\n",
       "        0.36790168, 0.38631351, 0.26928191, 0.21515217, 0.10990874,\n",
       "        0.        , 0.        , 0.        , 0.        , 0.        ,\n",
       "        0.        , 0.        , 0.        , 0.        , 0.        ,\n",
       "        0.        , 0.        , 0.        , 0.        , 0.        ,\n",
       "        0.        , 0.        , 0.        , 0.        , 0.        ,\n",
       "        0.        , 0.        , 0.        , 0.        , 0.        ,\n",
       "        0.        , 0.        , 0.        , 0.        , 0.        ,\n",
       "        0.        , 0.        , 0.        , 0.        , 0.        ,\n",
       "        0.        , 0.        , 0.        , 0.        , 0.        ,\n",
       "        0.        , 0.        , 0.        , 0.        , 0.        ,\n",
       "        0.        , 0.        , 0.        , 0.        , 0.        ,\n",
       "        0.        , 0.        , 0.        , 0.        , 0.        ,\n",
       "        0.        , 0.        , 0.        , 0.        , 0.        ,\n",
       "        0.        , 0.        , 0.        , 0.        , 0.        ,\n",
       "        0.        , 0.        , 0.        , 0.        , 0.        ,\n",
       "        0.        , 0.        , 0.        , 0.        , 0.        ,\n",
       "        0.        , 0.        , 0.        , 0.        , 0.        ,\n",
       "        0.        , 0.        , 0.        , 0.        , 0.        ,\n",
       "        0.        , 0.        , 0.        , 0.        , 0.        ,\n",
       "        0.        , 0.        , 0.        , 0.        , 0.        ,\n",
       "        0.        , 0.        , 0.        , 0.        , 0.        ,\n",
       "        0.        , 0.        , 0.        , 0.        , 0.        ,\n",
       "        0.        , 0.        , 0.        , 0.        , 0.        ,\n",
       "        0.        , 0.        , 0.        , 0.        , 0.        ,\n",
       "        0.        , 0.        , 0.        , 0.        , 0.        ,\n",
       "        0.        , 0.        , 0.        , 0.        , 0.        ,\n",
       "        0.        , 0.        , 0.        , 0.        , 0.        ]])"
      ]
     },
     "execution_count": 386,
     "metadata": {},
     "output_type": "execute_result"
    }
   ],
   "source": [
    "# a look at one row of data\n",
    "x_train_tfidf[1,:150].toarray()"
   ]
  },
  {
   "cell_type": "markdown",
   "metadata": {},
   "source": [
    "# Linear models"
   ]
  },
  {
   "cell_type": "code",
   "execution_count": 387,
   "metadata": {},
   "outputs": [
    {
     "data": {
      "text/plain": [
       "0.3219679031833728"
      ]
     },
     "execution_count": 387,
     "metadata": {},
     "output_type": "execute_result"
    }
   ],
   "source": [
    "# Naive Bayes on Word Level TF-IDF Vectors\n",
    "NB_clf = naive_bayes.MultinomialNB().fit(x_train_tfidf, y_train)\n",
    "predicted = NB_clf.predict(x_test_tfidf)\n",
    "np.mean(predicted == y_test)"
   ]
  },
  {
   "cell_type": "code",
   "execution_count": 388,
   "metadata": {},
   "outputs": [
    {
     "data": {
      "text/plain": [
       "0.7059194948697711"
      ]
     },
     "execution_count": 388,
     "metadata": {},
     "output_type": "execute_result"
    }
   ],
   "source": [
    "LR_clf = linear_model.LogisticRegression().fit(x_train_tfidf, y_train)\n",
    "predicted = LR_clf.predict(x_test_tfidf)\n",
    "np.mean(predicted == y_test)"
   ]
  },
  {
   "cell_type": "code",
   "execution_count": 359,
   "metadata": {},
   "outputs": [
    {
     "data": {
      "text/plain": [
       "0.25336927223719674"
      ]
     },
     "execution_count": 359,
     "metadata": {},
     "output_type": "execute_result"
    }
   ],
   "source": [
    "SVM_clf = svm.SVC().fit(x_train_tfidf, y_train)\n",
    "predicted = SVM_clf.predict(x_test_tfidf)\n",
    "np.mean(predicted == y_test)"
   ]
  },
  {
   "cell_type": "code",
   "execution_count": 360,
   "metadata": {},
   "outputs": [
    {
     "data": {
      "text/plain": [
       "0.9760868062754855"
      ]
     },
     "execution_count": 360,
     "metadata": {},
     "output_type": "execute_result"
    }
   ],
   "source": [
    "RF_clf = ensemble.RandomForestClassifier().fit(x_train_tfidf, y_train)\n",
    "predicted = RF_clf.predict(x_test_tfidf)\n",
    "np.mean(predicted == y_test)"
   ]
  }
 ],
 "metadata": {
  "kernelspec": {
   "display_name": "Python 3",
   "language": "python",
   "name": "python3"
  },
  "language_info": {
   "codemirror_mode": {
    "name": "ipython",
    "version": 3
   },
   "file_extension": ".py",
   "mimetype": "text/x-python",
   "name": "python",
   "nbconvert_exporter": "python",
   "pygments_lexer": "ipython3",
   "version": "3.6.5"
  }
 },
 "nbformat": 4,
 "nbformat_minor": 2
}

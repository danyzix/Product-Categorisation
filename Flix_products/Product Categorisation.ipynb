{
 "cells": [
  {
   "cell_type": "code",
   "execution_count": 2,
   "metadata": {},
   "outputs": [],
   "source": [
    "import pandas as pd\n",
    "from collections import Counter\n",
    "import warnings, os\n",
    "import numpy as np\n",
    "import matplotlib.pyplot as plt\n",
    "%matplotlib inline\n",
    "import seaborn as sns\n",
    "\n",
    "from sklearn import model_selection, preprocessing, linear_model, naive_bayes, metrics, svm\n",
    "from sklearn.feature_extraction.text import TfidfVectorizer, CountVectorizer\n",
    "from sklearn import decomposition, ensemble\n",
    "from sklearn.model_selection import train_test_split\n",
    "from sklearn.metrics import confusion_matrix\n",
    "from sklearn.metrics import classification_report\n",
    "\n",
    "import keras\n",
    "from keras.layers import Embedding, Flatten, Dense, GlobalMaxPool1D, Dropout\n",
    "from keras.models import Sequential\n",
    "from keras.preprocessing.text import Tokenizer\n",
    "from keras.preprocessing.sequence import pad_sequences\n",
    "from keras.preprocessing import text, sequence\n",
    "from keras import layers, models, optimizers\n",
    "\n",
    "import nltk\n",
    "from nltk.corpus import stopwords\n",
    "import string\n",
    "import gensim\n",
    "from gensim import corpora\n",
    "from gensim import matutils, models\n",
    "import scipy.sparse\n",
    "import pyLDAvis\n",
    "import pyLDAvis.gensim  "
   ]
  },
  {
   "cell_type": "markdown",
   "metadata": {},
   "source": [
    "# 1. Data Preparation"
   ]
  },
  {
   "cell_type": "markdown",
   "metadata": {},
   "source": [
    "The texts for this analysis are prepared by joining two datasets which contains certain information about products. I will be concatenating two columns - titles and categories - for each product to form the corpus. \n",
    "The analysis will use this corpus to perform a classification task to assign the product categories (benchark_category_2)."
   ]
  },
  {
   "cell_type": "code",
   "execution_count": 30,
   "metadata": {},
   "outputs": [
    {
     "data": {
      "text/html": [
       "<div>\n",
       "<style scoped>\n",
       "    .dataframe tbody tr th:only-of-type {\n",
       "        vertical-align: middle;\n",
       "    }\n",
       "\n",
       "    .dataframe tbody tr th {\n",
       "        vertical-align: top;\n",
       "    }\n",
       "\n",
       "    .dataframe thead th {\n",
       "        text-align: right;\n",
       "    }\n",
       "</style>\n",
       "<table border=\"1\" class=\"dataframe\">\n",
       "  <thead>\n",
       "    <tr style=\"text-align: right;\">\n",
       "      <th></th>\n",
       "      <th>product_id</th>\n",
       "      <th>title</th>\n",
       "      <th>Categories</th>\n",
       "    </tr>\n",
       "  </thead>\n",
       "  <tbody>\n",
       "    <tr>\n",
       "      <th>0</th>\n",
       "      <td>400002</td>\n",
       "      <td>HP Photosmart eStation Printer</td>\n",
       "      <td>Printers and Multifunction | Inkjet All-in-One...</td>\n",
       "    </tr>\n",
       "    <tr>\n",
       "      <th>1</th>\n",
       "      <td>400004</td>\n",
       "      <td>HP LaserJet Pro M1217nfw Multifunction Printer</td>\n",
       "      <td>Printers and Multifunction | Laser Multifuncti...</td>\n",
       "    </tr>\n",
       "  </tbody>\n",
       "</table>\n",
       "</div>"
      ],
      "text/plain": [
       "   product_id                                           title  \\\n",
       "0      400002                  HP Photosmart eStation Printer   \n",
       "1      400004  HP LaserJet Pro M1217nfw Multifunction Printer   \n",
       "\n",
       "                                          Categories  \n",
       "0  Printers and Multifunction | Inkjet All-in-One...  \n",
       "1  Printers and Multifunction | Laser Multifuncti...  "
      ]
     },
     "execution_count": 30,
     "metadata": {},
     "output_type": "execute_result"
    }
   ],
   "source": [
    "# get the first file which has product titles and categories\n",
    "df1 = pd.read_csv('\\\\Users\\\\Dan\\\\Documents\\\\Python\\\\Data\\\\Flix_products\\\\product_title.csv', engine='python')\n",
    "df1.head(2)"
   ]
  },
  {
   "cell_type": "code",
   "execution_count": 31,
   "metadata": {},
   "outputs": [
    {
     "name": "stderr",
     "output_type": "stream",
     "text": [
      "C:\\Users\\Dan\\Anaconda3\\lib\\site-packages\\IPython\\core\\interactiveshell.py:3049: DtypeWarning: Columns (28) have mixed types. Specify dtype option on import or set low_memory=False.\n",
      "  interactivity=interactivity, compiler=compiler, result=result)\n"
     ]
    },
    {
     "data": {
      "text/html": [
       "<div>\n",
       "<style scoped>\n",
       "    .dataframe tbody tr th:only-of-type {\n",
       "        vertical-align: middle;\n",
       "    }\n",
       "\n",
       "    .dataframe tbody tr th {\n",
       "        vertical-align: top;\n",
       "    }\n",
       "\n",
       "    .dataframe thead th {\n",
       "        text-align: right;\n",
       "    }\n",
       "</style>\n",
       "<table border=\"1\" class=\"dataframe\">\n",
       "  <thead>\n",
       "    <tr style=\"text-align: right;\">\n",
       "      <th></th>\n",
       "      <th>product_id</th>\n",
       "      <th>product_title</th>\n",
       "      <th>brand_title</th>\n",
       "      <th>benchmark_category2</th>\n",
       "    </tr>\n",
       "  </thead>\n",
       "  <tbody>\n",
       "    <tr>\n",
       "      <th>0</th>\n",
       "      <td>3</td>\n",
       "      <td>Crematic Coffee Maker</td>\n",
       "      <td>Groupe SEB</td>\n",
       "      <td>Drink Makers</td>\n",
       "    </tr>\n",
       "    <tr>\n",
       "      <th>1</th>\n",
       "      <td>4</td>\n",
       "      <td>Vitamin Plus 3-Tier Steamer</td>\n",
       "      <td>Tefal</td>\n",
       "      <td>Steamers</td>\n",
       "    </tr>\n",
       "  </tbody>\n",
       "</table>\n",
       "</div>"
      ],
      "text/plain": [
       "   product_id                product_title brand_title benchmark_category2\n",
       "0           3        Crematic Coffee Maker  Groupe SEB        Drink Makers\n",
       "1           4  Vitamin Plus 3-Tier Steamer       Tefal            Steamers"
      ]
     },
     "execution_count": 31,
     "metadata": {},
     "output_type": "execute_result"
    }
   ],
   "source": [
    "# get second product file with only the necessary columns. benchark_category_2 is the product categories to be predicted\n",
    "products_complete = pd.read_csv('\\\\Users\\\\Dan\\\\Documents\\\\Python\\\\Data\\\\Flix_products\\\\products.csv', sep='\\t')\n",
    "products= products_complete[['product_id','product_title', 'brand_title', 'benchmark_category2']]\n",
    "products.head(2)"
   ]
  },
  {
   "cell_type": "code",
   "execution_count": 32,
   "metadata": {},
   "outputs": [
    {
     "data": {
      "text/html": [
       "<div>\n",
       "<style scoped>\n",
       "    .dataframe tbody tr th:only-of-type {\n",
       "        vertical-align: middle;\n",
       "    }\n",
       "\n",
       "    .dataframe tbody tr th {\n",
       "        vertical-align: top;\n",
       "    }\n",
       "\n",
       "    .dataframe thead th {\n",
       "        text-align: right;\n",
       "    }\n",
       "</style>\n",
       "<table border=\"1\" class=\"dataframe\">\n",
       "  <thead>\n",
       "    <tr style=\"text-align: right;\">\n",
       "      <th></th>\n",
       "      <th>product_id</th>\n",
       "      <th>product_title</th>\n",
       "      <th>brand_title</th>\n",
       "      <th>benchmark_category2</th>\n",
       "      <th>title</th>\n",
       "      <th>Categories</th>\n",
       "    </tr>\n",
       "  </thead>\n",
       "  <tbody>\n",
       "    <tr>\n",
       "      <th>0</th>\n",
       "      <td>881868</td>\n",
       "      <td>HP EliteBook 840 G1 Notebook PC</td>\n",
       "      <td>HP</td>\n",
       "      <td>Laptops</td>\n",
       "      <td>HP EliteBook 840 G1 Notebook PC</td>\n",
       "      <td>Laptops And Hybrids | Business Laptop PCs | HP...</td>\n",
       "    </tr>\n",
       "    <tr>\n",
       "      <th>1</th>\n",
       "      <td>876236</td>\n",
       "      <td>Speedlight SB-N7</td>\n",
       "      <td>Nikon</td>\n",
       "      <td>Cameras Accessories</td>\n",
       "      <td>Speedlight SB-N7</td>\n",
       "      <td>Speedlights</td>\n",
       "    </tr>\n",
       "    <tr>\n",
       "      <th>2</th>\n",
       "      <td>888696</td>\n",
       "      <td>Electrolux EFC60465OX 60 cm Stainless Steel Ch...</td>\n",
       "      <td>Electrolux Major</td>\n",
       "      <td>Cookers/Ovens</td>\n",
       "      <td>Electrolux EFC60465OX Chimney Design Hood 60 c...</td>\n",
       "      <td>Electrolux | NonStar | Cooker_Hood</td>\n",
       "    </tr>\n",
       "    <tr>\n",
       "      <th>3</th>\n",
       "      <td>888693</td>\n",
       "      <td>Electrolux EFC90468OX 90 cm Stainless Steel Ch...</td>\n",
       "      <td>Electrolux Major</td>\n",
       "      <td>Cookers/Ovens</td>\n",
       "      <td>Electrolux EFC90468OX Chimney Design Hood 90 c...</td>\n",
       "      <td>Electrolux | NonStar | Cooker_Hood</td>\n",
       "    </tr>\n",
       "    <tr>\n",
       "      <th>4</th>\n",
       "      <td>888664</td>\n",
       "      <td>Oven EVY9841AOX</td>\n",
       "      <td>Electrolux Major</td>\n",
       "      <td>Cookers/Ovens</td>\n",
       "      <td>Electrolux EVY9841AOX Steam Cooking Built-in C...</td>\n",
       "      <td>Electrolux | NonStar | Oven</td>\n",
       "    </tr>\n",
       "  </tbody>\n",
       "</table>\n",
       "</div>"
      ],
      "text/plain": [
       "   product_id                                      product_title  \\\n",
       "0      881868                    HP EliteBook 840 G1 Notebook PC   \n",
       "1      876236                                   Speedlight SB-N7   \n",
       "2      888696  Electrolux EFC60465OX 60 cm Stainless Steel Ch...   \n",
       "3      888693  Electrolux EFC90468OX 90 cm Stainless Steel Ch...   \n",
       "4      888664                                    Oven EVY9841AOX   \n",
       "\n",
       "        brand_title  benchmark_category2  \\\n",
       "0                HP              Laptops   \n",
       "1             Nikon  Cameras Accessories   \n",
       "2  Electrolux Major        Cookers/Ovens   \n",
       "3  Electrolux Major        Cookers/Ovens   \n",
       "4  Electrolux Major        Cookers/Ovens   \n",
       "\n",
       "                                               title  \\\n",
       "0                    HP EliteBook 840 G1 Notebook PC   \n",
       "1                                   Speedlight SB-N7   \n",
       "2  Electrolux EFC60465OX Chimney Design Hood 60 c...   \n",
       "3  Electrolux EFC90468OX Chimney Design Hood 90 c...   \n",
       "4  Electrolux EVY9841AOX Steam Cooking Built-in C...   \n",
       "\n",
       "                                          Categories  \n",
       "0  Laptops And Hybrids | Business Laptop PCs | HP...  \n",
       "1                                        Speedlights  \n",
       "2                 Electrolux | NonStar | Cooker_Hood  \n",
       "3                 Electrolux | NonStar | Cooker_Hood  \n",
       "4                        Electrolux | NonStar | Oven  "
      ]
     },
     "execution_count": 32,
     "metadata": {},
     "output_type": "execute_result"
    }
   ],
   "source": [
    "# merge the two products file with an inner join to keep only the common products\n",
    "products = pd.merge(products, df1, on='product_id', how='inner')\n",
    "products.head()"
   ]
  },
  {
   "cell_type": "markdown",
   "metadata": {},
   "source": [
    "# 2. Exploratory Data Analysis"
   ]
  },
  {
   "cell_type": "markdown",
   "metadata": {},
   "source": [
    "Now that the dataset is ready, I need to perform some exploration of the dataset to understand it better."
   ]
  },
  {
   "cell_type": "code",
   "execution_count": 35,
   "metadata": {},
   "outputs": [
    {
     "name": "stdout",
     "output_type": "stream",
     "text": [
      "<class 'pandas.core.frame.DataFrame'>\n",
      "Int64Index: 70774 entries, 0 to 70773\n",
      "Data columns (total 6 columns):\n",
      "product_id             70774 non-null int64\n",
      "product_title          69909 non-null object\n",
      "brand_title            70773 non-null object\n",
      "benchmark_category2    67109 non-null object\n",
      "title                  70774 non-null object\n",
      "Categories             70774 non-null object\n",
      "dtypes: int64(1), object(5)\n",
      "memory usage: 3.8+ MB\n"
     ]
    }
   ],
   "source": [
    "# let's look at the summary of the dataframe\n",
    "products.info()"
   ]
  },
  {
   "cell_type": "code",
   "execution_count": 36,
   "metadata": {},
   "outputs": [
    {
     "name": "stdout",
     "output_type": "stream",
     "text": [
      "3665\n",
      "percentage of products with no categories: 0.05178455364964535\n"
     ]
    }
   ],
   "source": [
    "# check how many products have unassigned categories\n",
    "print(products['benchmark_category2'].isna().sum()),\n",
    "print('percentage of products with no categories: {}'.format(products['benchmark_category2'].isna().sum()/len(products.index)))"
   ]
  },
  {
   "cell_type": "code",
   "execution_count": 37,
   "metadata": {},
   "outputs": [],
   "source": [
    "# lets drop the unassugned category products as they are of no use\n",
    "products.dropna(subset=['benchmark_category2'], inplace=True)"
   ]
  },
  {
   "cell_type": "code",
   "execution_count": 38,
   "metadata": {},
   "outputs": [
    {
     "data": {
      "text/plain": [
       "Text(0.5, 0, 'number of products')"
      ]
     },
     "execution_count": 38,
     "metadata": {},
     "output_type": "execute_result"
    },
    {
     "data": {
      "image/png": "[encoded data removed]",
      "text/plain": [
       "<Figure size 1080x360 with 1 Axes>"
      ]
     },
     "metadata": {
      "needs_background": "light"
     },
     "output_type": "display_data"
    }
   ],
   "source": [
    "# let's look at the number of products and brand distribution for the categories\n",
    "group_products = products.groupby('benchmark_category2')['product_id'].count()\n",
    "group_brand  = products.groupby('benchmark_category2')['brand_title'].nunique()\n",
    "plt.figure(figsize=(15,5))\n",
    "ax = sns.scatterplot(x=group_products, y=group_brand)\n",
    "ax.set_ylabel('number of brands')\n",
    "ax.set_xlabel('number of products')"
   ]
  },
  {
   "cell_type": "markdown",
   "metadata": {},
   "source": [
    "Seems like there are few categories which has a lot of products, however, they seem to be concentrated below 2000 products"
   ]
  },
  {
   "cell_type": "code",
   "execution_count": 39,
   "metadata": {},
   "outputs": [
    {
     "data": {
      "text/plain": [
       "103"
      ]
     },
     "execution_count": 39,
     "metadata": {},
     "output_type": "execute_result"
    }
   ],
   "source": [
    "# lets look at the number of unique categories in the dataset\n",
    "len(set(products['benchmark_category2']))"
   ]
  },
  {
   "cell_type": "code",
   "execution_count": 40,
   "metadata": {},
   "outputs": [
    {
     "data": {
      "text/plain": [
       "<matplotlib.axes._subplots.AxesSubplot at 0x2672043c160>"
      ]
     },
     "execution_count": 40,
     "metadata": {},
     "output_type": "execute_result"
    },
    {
     "data": {
      "image/png": "[encoded data removed]",
      "text/plain": [
       "<Figure size 576x576 with 1 Axes>"
      ]
     },
     "metadata": {
      "needs_background": "light"
     },
     "output_type": "display_data"
    }
   ],
   "source": [
    "# lets look at the top 30 categories by number of products\n",
    "products.groupby('benchmark_category2')['product_id'].count().sort_values().tail(30).plot.barh(figsize=(8,8), color='purple')"
   ]
  },
  {
   "cell_type": "markdown",
   "metadata": {},
   "source": [
    "It seems the products distribution is quite ueneven across the categories and it seem to have a long tail as we approach the lower end of the distribution. For the sake of the analysis I'll consider only the top 50 categories by product count as running a classification task on too many classes is not ideal."
   ]
  },
  {
   "cell_type": "code",
   "execution_count": 41,
   "metadata": {},
   "outputs": [
    {
     "name": "stdout",
     "output_type": "stream",
     "text": [
      "<class 'pandas.core.frame.DataFrame'>\n",
      "RangeIndex: 63349 entries, 0 to 63348\n",
      "Data columns (total 6 columns):\n",
      "product_id             63349 non-null int64\n",
      "product_title          62578 non-null object\n",
      "brand_title            63349 non-null object\n",
      "benchmark_category2    63349 non-null object\n",
      "title                  63349 non-null object\n",
      "Categories             63349 non-null object\n",
      "dtypes: int64(1), object(5)\n",
      "memory usage: 2.9+ MB\n"
     ]
    }
   ],
   "source": [
    "# lets subset by top 50 categories and use this data for further analysis\n",
    "top_Ncats = products.groupby('benchmark_category2')['product_id'].count().nlargest(50).keys()\n",
    "prod_Ncats = products[products['benchmark_category2'].isin(top_Ncats)].reset_index(drop=True)\n",
    "prod_Ncats.info()"
   ]
  },
  {
   "cell_type": "code",
   "execution_count": 42,
   "metadata": {},
   "outputs": [
    {
     "data": {
      "text/plain": [
       "94.39717474556318"
      ]
     },
     "execution_count": 42,
     "metadata": {},
     "output_type": "execute_result"
    }
   ],
   "source": [
    "# portion of overall data in the top 50 categories\n",
    "len(prod_Ncats)/len(products)*100"
   ]
  },
  {
   "cell_type": "markdown",
   "metadata": {},
   "source": [
    "As we see the top 50 categories has 94% of the total products which is good enough for this analysis.\n",
    "\n",
    "Lastly, we'll do one last step of data preparation : concatenate title and categories"
   ]
  },
  {
   "cell_type": "code",
   "execution_count": 45,
   "metadata": {},
   "outputs": [
    {
     "data": {
      "text/plain": [
       "0    Laptops And Hybrids  Business Laptop PCs  HP E...\n",
       "1                                          Speedlights\n",
       "Name: Categories, dtype: object"
      ]
     },
     "execution_count": 45,
     "metadata": {},
     "output_type": "execute_result"
    }
   ],
   "source": [
    "# the Categories column has a pipe symbol which is used as a delimeter for taxonomy in the company database\n",
    "prod_Ncats['Categories'].head(2)"
   ]
  },
  {
   "cell_type": "code",
   "execution_count": 44,
   "metadata": {},
   "outputs": [
    {
     "data": {
      "text/plain": [
       "0    Laptops And Hybrids  Business Laptop PCs  HP E...\n",
       "1                                          Speedlights\n",
       "Name: Categories, dtype: object"
      ]
     },
     "execution_count": 44,
     "metadata": {},
     "output_type": "execute_result"
    }
   ],
   "source": [
    "# Remove the pipes '|' in the Categories\n",
    "prod_Ncats['Categories'] = prod_Ncats['Categories'].str.replace('|', '')\n",
    "prod_Ncats['Categories'].head(2)"
   ]
  },
  {
   "cell_type": "code",
   "execution_count": 46,
   "metadata": {},
   "outputs": [],
   "source": [
    "# lets concatenate the two columns - product titles and categories - to a new column 'title&cat'\n",
    "prod_Ncats['title&cat']=np.nan\n",
    "for i in range(len(prod_Ncats)):\n",
    "    if pd.isna(prod_Ncats.loc[i, 'product_title']):\n",
    "        prod_Ncats.loc[i, 'title&cat'] =  prod_Ncats.loc[i, 'title'] + ' ' + prod_Ncats.loc[i, 'Categories']\n",
    "    else:\n",
    "        prod_Ncats.loc[i,'title&cat'] =  prod_Ncats.loc[i, 'product_title'] + ' ' + prod_Ncats.loc[i, 'Categories']"
   ]
  },
  {
   "cell_type": "code",
   "execution_count": 177,
   "metadata": {},
   "outputs": [
    {
     "data": {
      "text/html": [
       "<div>\n",
       "<style scoped>\n",
       "    .dataframe tbody tr th:only-of-type {\n",
       "        vertical-align: middle;\n",
       "    }\n",
       "\n",
       "    .dataframe tbody tr th {\n",
       "        vertical-align: top;\n",
       "    }\n",
       "\n",
       "    .dataframe thead th {\n",
       "        text-align: right;\n",
       "    }\n",
       "</style>\n",
       "<table border=\"1\" class=\"dataframe\">\n",
       "  <thead>\n",
       "    <tr style=\"text-align: right;\">\n",
       "      <th></th>\n",
       "      <th>product_id</th>\n",
       "      <th>brand_title</th>\n",
       "      <th>benchmark_category2</th>\n",
       "      <th>title&amp;cat</th>\n",
       "    </tr>\n",
       "  </thead>\n",
       "  <tbody>\n",
       "    <tr>\n",
       "      <th>0</th>\n",
       "      <td>881868</td>\n",
       "      <td>HP</td>\n",
       "      <td>Laptops</td>\n",
       "      <td>HP EliteBook 840 G1 Notebook PC Laptops And Hy...</td>\n",
       "    </tr>\n",
       "    <tr>\n",
       "      <th>1</th>\n",
       "      <td>876236</td>\n",
       "      <td>Nikon</td>\n",
       "      <td>Cameras Accessories</td>\n",
       "      <td>Speedlight SB-N7 Speedlights</td>\n",
       "    </tr>\n",
       "    <tr>\n",
       "      <th>2</th>\n",
       "      <td>888696</td>\n",
       "      <td>Electrolux Major</td>\n",
       "      <td>Cookers/Ovens</td>\n",
       "      <td>Electrolux EFC60465OX 60 cm Stainless Steel Ch...</td>\n",
       "    </tr>\n",
       "    <tr>\n",
       "      <th>3</th>\n",
       "      <td>888693</td>\n",
       "      <td>Electrolux Major</td>\n",
       "      <td>Cookers/Ovens</td>\n",
       "      <td>Electrolux EFC90468OX 90 cm Stainless Steel Ch...</td>\n",
       "    </tr>\n",
       "    <tr>\n",
       "      <th>4</th>\n",
       "      <td>888664</td>\n",
       "      <td>Electrolux Major</td>\n",
       "      <td>Cookers/Ovens</td>\n",
       "      <td>Oven EVY9841AOX Electrolux  NonStar  Oven</td>\n",
       "    </tr>\n",
       "  </tbody>\n",
       "</table>\n",
       "</div>"
      ],
      "text/plain": [
       "   product_id       brand_title  benchmark_category2  \\\n",
       "0      881868                HP              Laptops   \n",
       "1      876236             Nikon  Cameras Accessories   \n",
       "2      888696  Electrolux Major        Cookers/Ovens   \n",
       "3      888693  Electrolux Major        Cookers/Ovens   \n",
       "4      888664  Electrolux Major        Cookers/Ovens   \n",
       "\n",
       "                                           title&cat  \n",
       "0  HP EliteBook 840 G1 Notebook PC Laptops And Hy...  \n",
       "1                       Speedlight SB-N7 Speedlights  \n",
       "2  Electrolux EFC60465OX 60 cm Stainless Steel Ch...  \n",
       "3  Electrolux EFC90468OX 90 cm Stainless Steel Ch...  \n",
       "4          Oven EVY9841AOX Electrolux  NonStar  Oven  "
      ]
     },
     "execution_count": 177,
     "metadata": {},
     "output_type": "execute_result"
    }
   ],
   "source": [
    "prod_Ncats.iloc[:,[0,2,3,6]].head()"
   ]
  },
  {
   "cell_type": "markdown",
   "metadata": {},
   "source": [
    "# 3. Bag of Words "
   ]
  },
  {
   "cell_type": "markdown",
   "metadata": {},
   "source": [
    "Next step is to develop a Bag of Words from the entire document. To do so I need to tokenize the texts and do a bit of cleaning. Once the tokenization is complete, the entire vocabulary is ready to be used for various modelling techniques based on Bag of Words"
   ]
  },
  {
   "cell_type": "code",
   "execution_count": 47,
   "metadata": {},
   "outputs": [],
   "source": [
    "# functions to clean and tokenize the whole doc and form a vocabulary\n",
    "\n",
    "# clean texts\n",
    "def tokenize_doc(doc):\n",
    "    # split into tokens by white space\n",
    "    tokens = doc.split()\n",
    "    # remove punctuation from each token\n",
    "    table = str.maketrans('', '', string.punctuation)\n",
    "    tokens = [w.translate(table) for w in tokens]\n",
    "    # change to lower case\n",
    "    tokens = [w.lower() for w in tokens]\n",
    "    # remove remaining tokens that are not alphanumeric\n",
    "    tokens = [word for word in tokens if word.isalpha()]\n",
    "    # filter out stop words in English (not sure how effective this has been)\n",
    "    stop_words = set(stopwords.words('english'))\n",
    "    tokens = [w for w in tokens if not w in stop_words]\n",
    "    # filter out short tokens\n",
    "    tokens = [word for word in tokens if len(word) > 1]\n",
    "    return tokens\n",
    "\n",
    "# load text and add to vocab\n",
    "def add_to_vocab(column, vocab):\n",
    "    for i in range(len(column)):\n",
    "        tokens = tokenize_doc(column[i])\n",
    "        vocab.update(tokens)  "
   ]
  },
  {
   "cell_type": "code",
   "execution_count": 48,
   "metadata": {},
   "outputs": [],
   "source": [
    "# first tokenization process: create a vocabulary from the texts of 'title&cat' column.\n",
    "vocab = Counter()\n",
    "add_to_vocab(prod_Ncats['title&cat'], vocab)"
   ]
  },
  {
   "cell_type": "markdown",
   "metadata": {},
   "source": [
    "The vocabulary created above is a dictionary which has every word and count of times it appears in the entire corpus. "
   ]
  },
  {
   "cell_type": "code",
   "execution_count": 55,
   "metadata": {},
   "outputs": [
    {
     "name": "stdout",
     "output_type": "stream",
     "text": [
      "[('hp', 81516), ('pc', 34871), ('notebook', 24464), ('series', 20676), ('pavilion', 11978), ('home', 9793), ('desktop', 9730), ('pcs', 9598), ('workstation', 7968), ('compaq', 7286), ('mobile', 7160), ('philips', 7101), ('consumer', 6220), ('tv', 6122), ('ink', 5807), ('elitebook', 5680), ('led', 5631), ('probook', 5555), ('printer', 5503), ('cartridges', 4748)]\n",
      "Vocabulary size: 11832\n"
     ]
    }
   ],
   "source": [
    "# lets look at the length of the vocab and 20 most occuring words\n",
    "print(vocab.most_common(20)) \n",
    "print('Vocabulary size: {}'.format(len(vocab)))"
   ]
  },
  {
   "cell_type": "code",
   "execution_count": 49,
   "metadata": {},
   "outputs": [
    {
     "data": {
      "text/plain": [
       "0    HP EliteBook 840 G1 Notebook PC Laptops And Hy...\n",
       "1                         Speedlight SB-N7 Speedlights\n",
       "2    Electrolux EFC60465OX 60 cm Stainless Steel Ch...\n",
       "3    Electrolux EFC90468OX 90 cm Stainless Steel Ch...\n",
       "4            Oven EVY9841AOX Electrolux  NonStar  Oven\n",
       "Name: title&cat, dtype: object"
      ]
     },
     "execution_count": 49,
     "metadata": {},
     "output_type": "execute_result"
    }
   ],
   "source": [
    "# let's look at the 'title&cat' column of the dataframe from which the vocabulary is built\n",
    "prod_Ncats['title&cat'].head()"
   ]
  },
  {
   "cell_type": "markdown",
   "metadata": {},
   "source": [
    "We have go through another step of tokenization which will remove words which occur just once in the entire corpus. This should remove the vocabulary size without much affecting in the future modelling outcomes."
   ]
  },
  {
   "cell_type": "code",
   "execution_count": 53,
   "metadata": {},
   "outputs": [
    {
     "name": "stdout",
     "output_type": "stream",
     "text": [
      "Vocabulary size: 7373\n"
     ]
    }
   ],
   "source": [
    "# remove tokens with just one occurence to reduce the vocab size\n",
    "tokens = [k for k,c in vocab.items() if c > 1]\n",
    "print('Vocabulary size: {}'.format( len(tokens)))"
   ]
  },
  {
   "cell_type": "markdown",
   "metadata": {},
   "source": [
    "As we see above the word count has shrunk significantly from 11,832 to 7,373.\n",
    "The second process of tokinization will be preformed on each row of data so I keep only the words which are in the new vocabulary named as 'tokens'."
   ]
  },
  {
   "cell_type": "code",
   "execution_count": 56,
   "metadata": {},
   "outputs": [],
   "source": [
    "# function to tokenize each row\n",
    "def tokenize_row(column, vocab):\n",
    "    tokenz = []\n",
    "    for i in range(len(column)):\n",
    "        words = tokenize_doc(column[i])\n",
    "        words = [w for w in words if w in tokens]\n",
    "        tokenz.append(words)\n",
    "    return tokenz"
   ]
  },
  {
   "cell_type": "code",
   "execution_count": 57,
   "metadata": {},
   "outputs": [
    {
     "data": {
      "text/plain": [
       "0    [hp, elitebook, notebook, pc, laptops, hybrids...\n",
       "1                            [speedlight, speedlights]\n",
       "2    [electrolux, cm, stainless, steel, chimney, de...\n",
       "3    [electrolux, cm, stainless, steel, chimney, de...\n",
       "4                    [oven, electrolux, nonstar, oven]\n",
       "Name: tokens, dtype: object"
      ]
     },
     "execution_count": 57,
     "metadata": {},
     "output_type": "execute_result"
    }
   ],
   "source": [
    "# tokenize each row and add them as a new column in the dataframe\n",
    "prod_Ncats['tokens'] = tokenize_row(prod_Ncats['title&cat'], vocab)\n",
    "prod_Ncats['tokens'].head()"
   ]
  },
  {
   "cell_type": "code",
   "execution_count": 58,
   "metadata": {},
   "outputs": [
    {
     "data": {
      "text/plain": [
       "<matplotlib.axes._subplots.AxesSubplot at 0x26732977b38>"
      ]
     },
     "execution_count": 58,
     "metadata": {},
     "output_type": "execute_result"
    },
    {
     "data": {
      "image/png": "[encoded data removed]",
      "text/plain": [
       "<Figure size 720x360 with 1 Axes>"
      ]
     },
     "metadata": {
      "needs_background": "light"
     },
     "output_type": "display_data"
    }
   ],
   "source": [
    "# histogram of token lengths per product\n",
    "token_length = []\n",
    "for i in range(len(prod_Ncats['tokens'])):\n",
    "    token_length.append(len(prod_Ncats['tokens'][i]))\n",
    "    \n",
    "plt.figure(figsize=(10,5))   \n",
    "sns.distplot(token_length, bins=50, kde=False, rug=True)"
   ]
  },
  {
   "cell_type": "markdown",
   "metadata": {},
   "source": [
    "We can see from the histogram that majority of the token lengths of the products are quite short. It'll be interesting to find out if such short texts per product are good enough for a text classification task.\n",
    "\n",
    "Finally, we need to convert the tokens of each product to a vectiorization friendly list."
   ]
  },
  {
   "cell_type": "code",
   "execution_count": 59,
   "metadata": {},
   "outputs": [
    {
     "data": {
      "text/plain": [
       "0    hp elitebook notebook pc laptops hybrids busin...\n",
       "1                               speedlight speedlights\n",
       "2    electrolux cm stainless steel chimney design h...\n",
       "3    electrolux cm stainless steel chimney design h...\n",
       "4                         oven electrolux nonstar oven\n",
       "Name: tokens, dtype: object"
      ]
     },
     "execution_count": 59,
     "metadata": {},
     "output_type": "execute_result"
    }
   ],
   "source": [
    "# convert tokens in the list to texts to make it vectorizing freindly\n",
    "prod_Ncats['tokens']=[\" \".join(tokens) for tokens in prod_Ncats['tokens'].values]\n",
    "prod_Ncats['tokens'].head()"
   ]
  },
  {
   "cell_type": "markdown",
   "metadata": {},
   "source": [
    "Before starting the modelling process, lets take a look a the distribution of products by the categories"
   ]
  },
  {
   "cell_type": "markdown",
   "metadata": {},
   "source": [
    "We can see the classes in this dataset are highly uneven. This is an important step to take into account before starting to build any classification models."
   ]
  },
  {
   "cell_type": "markdown",
   "metadata": {},
   "source": [
    "# 4. Train and Test data split with stratified sampling"
   ]
  },
  {
   "cell_type": "markdown",
   "metadata": {},
   "source": [
    "For any kind of classification process its a good strategy to first look at the class balance"
   ]
  },
  {
   "cell_type": "code",
   "execution_count": 60,
   "metadata": {},
   "outputs": [],
   "source": [
    "# function to plot bar-chart of groupby agg counts\n",
    "def bar_plot(df,group_column, agg):\n",
    "    df.groupby(group_column)[agg].count().sort_values(ascending=False).plot.bar(figsize=(12,6), color='purple')"
   ]
  },
  {
   "cell_type": "code",
   "execution_count": 61,
   "metadata": {},
   "outputs": [
    {
     "data": {
      "image/png": "[encoded data removed]",
      "text/plain": [
       "<Figure size 864x432 with 1 Axes>"
      ]
     },
     "metadata": {
      "needs_background": "light"
     },
     "output_type": "display_data"
    }
   ],
   "source": [
    "# plot the count of products by categories\n",
    "bar_plot(prod_Ncats, 'benchmark_category2' ,'product_id')"
   ]
  },
  {
   "cell_type": "markdown",
   "metadata": {},
   "source": [
    "As we see from above, we have huge imbalance in the classes. To have the a similar distribution among the classes in both test and train datasets we need to use stratified sampling while dividing the data."
   ]
  },
  {
   "cell_type": "code",
   "execution_count": 62,
   "metadata": {},
   "outputs": [],
   "source": [
    "# create train and test set with stratified sampling, keep 30% of the entire for testing\n",
    "model_data = prod_Ncats.copy()\n",
    "y = model_data.pop('benchmark_category2')\n",
    "x = model_data['tokens']\n",
    "x_train, x_test, y_train, y_test = train_test_split( x, y, test_size=0.30, random_state=42, stratify=y)"
   ]
  },
  {
   "cell_type": "markdown",
   "metadata": {},
   "source": [
    "# 5. Feature Engineering"
   ]
  },
  {
   "cell_type": "markdown",
   "metadata": {},
   "source": [
    "With the Bag of Words modelling, I use two set of features based on two of the most common feature engineering techniques used in NLP : TF-IDF and CountVectors."
   ]
  },
  {
   "cell_type": "markdown",
   "metadata": {},
   "source": [
    "TF-IDF Vectors as features:  "
   ]
  },
  {
   "cell_type": "code",
   "execution_count": 63,
   "metadata": {},
   "outputs": [],
   "source": [
    "# label encode the target variable \n",
    "encoder = preprocessing.LabelEncoder()\n",
    "y_train = encoder.fit_transform(y_train)\n",
    "y_test = encoder.fit_transform(y_test)"
   ]
  },
  {
   "cell_type": "code",
   "execution_count": 65,
   "metadata": {},
   "outputs": [],
   "source": [
    "# generate the TF-IDF features and transform the train and test datasets\n",
    "tfidf_vect = TfidfVectorizer(analyzer='word', token_pattern=r'\\w{2,}', stop_words='english', max_features=7000)\n",
    "tfidf_vect.fit(prod_Ncats['tokens'])\n",
    "x_train_tfidf =  tfidf_vect.transform(x_train)\n",
    "x_test_tfidf =  tfidf_vect.transform(x_test)"
   ]
  },
  {
   "cell_type": "code",
   "execution_count": 185,
   "metadata": {},
   "outputs": [
    {
     "data": {
      "text/plain": [
       "array([[0., 0., 0., 0., 0., 0., 0., 0., 0., 0., 0., 0., 0., 0., 0., 0.,\n",
       "        0., 0., 0., 0., 0., 0., 0., 0., 0., 0., 0., 0., 0., 0., 0., 0.,\n",
       "        0., 0., 0., 0., 0., 0., 0., 0., 0., 0., 0., 0., 0., 0., 0., 0.,\n",
       "        0., 0., 0., 0., 0., 0., 0., 0., 0., 0., 0., 0., 0., 0., 0., 0.,\n",
       "        0., 0., 0., 0., 0., 0., 0., 0., 0., 0., 0., 0., 0., 0., 0., 0.,\n",
       "        0., 0., 0., 0., 0., 0., 0., 0., 0., 0., 0., 0., 0., 0., 0., 0.,\n",
       "        0., 0., 0., 0., 0., 0., 0., 0., 0., 0., 0., 0., 0., 0., 0., 0.,\n",
       "        0., 0., 0., 0., 0., 0., 0., 0., 0., 0., 0., 0., 0., 0., 0., 0.,\n",
       "        0., 0., 0., 0., 0., 0., 0., 0., 0., 0., 0., 0., 0., 0., 0., 0.,\n",
       "        0., 0., 0., 0., 0., 0., 0., 0., 0., 0., 0., 0., 0., 0., 0., 0.,\n",
       "        0., 0., 0., 0., 0., 0., 0., 0., 0., 0., 0., 0., 0., 0., 0., 0.,\n",
       "        0., 0., 0., 0., 0., 0., 0., 0., 0., 0., 0., 0., 0., 0., 0., 0.,\n",
       "        0., 0., 0., 0., 0., 0., 0., 0.]])"
      ]
     },
     "execution_count": 185,
     "metadata": {},
     "output_type": "execute_result"
    }
   ],
   "source": [
    "# lets look at one of the tran dataset transformation\n",
    "x_train_tfidf[10,:200].toarray()"
   ]
  },
  {
   "cell_type": "markdown",
   "metadata": {},
   "source": [
    "One hot-encoding - CountVector as features"
   ]
  },
  {
   "cell_type": "code",
   "execution_count": 70,
   "metadata": {},
   "outputs": [],
   "source": [
    "# generate the CountVector features and transform the tran and test datasets\n",
    "count_vect = CountVectorizer(analyzer='word')\n",
    "count_vect.fit(prod_Ncats['tokens'])\n",
    "x_train_CV =  count_vect.transform(x_train)\n",
    "x_test_CV =  count_vect.transform(x_test)"
   ]
  },
  {
   "cell_type": "markdown",
   "metadata": {},
   "source": [
    "# 6. Prediction Models on Bag of Words"
   ]
  },
  {
   "cell_type": "code",
   "execution_count": 75,
   "metadata": {},
   "outputs": [],
   "source": [
    "# a class to train a classification model an extract key stats of each model\n",
    "class train_model():\n",
    "    def __init__(self,classifier, train_data, test_data):\n",
    "        self.train = classifier.fit(train_data, y_train)\n",
    "        self.predict = classifier.predict(test_data)\n",
    "        self.cm = confusion_matrix(y_test, self.predict)\n",
    "        self.precision = np.diag(self.cm) / np.sum(self.cm, axis = 0)\n",
    "        self.recall = np.diag(self.cm) / np.sum(self.cm, axis = 1)  \n",
    "        \n",
    "    def return_metrics(self):\n",
    "        print('Accuracy: {}'.format(metrics.accuracy_score(self.predict, y_test)))\n",
    "        print('Average Precision: {}'.format(np.average(self.precision)))\n",
    "        print('Average Recall: {}'.format(np.average(self.recall)))\n",
    "    \n",
    "    def return_predictions(self):\n",
    "        return self.predict        "
   ]
  },
  {
   "cell_type": "markdown",
   "metadata": {},
   "source": [
    "The prediction task is defined by a Class function which returns Accuracy and average Precision and Recall of the model.\n",
    "\n",
    "I've also written a function to plot the wrong categories predicted for each of the model."
   ]
  },
  {
   "cell_type": "code",
   "execution_count": 83,
   "metadata": {},
   "outputs": [],
   "source": [
    "# function to plot the count of wrong predictions by categories\n",
    "def plot_wrong_predictions(model):\n",
    "    # extract the predictions\n",
    "    predicted = model.return_predictions()\n",
    "    # subset the training data rows from the main dataframe\n",
    "    train_data = prod_Ncats.iloc[list(x_test.index.values),:]\n",
    "    # add the predicted columns to the train_data\n",
    "    train_data['predicted'] = encoder.inverse_transform(predicted)\n",
    "    # extract the wrong predictions\n",
    "    wrong_predictions = train_data[train_data['benchmark_category2'] != train_data['predicted']]\n",
    "    # plot a count of the wrong categories\n",
    "    #bar_plot(wrong_predictions, 'benchmark_category2' ,'product_id')  \n",
    "    ax = wrong_predictions.groupby('benchmark_category2')['product_id'].nunique().sort_values(ascending=False).plot.bar(color='purple')\n",
    "    ax.set_xlabel('categories')\n",
    "    ax.set_ylabel('number of products')\n",
    "    "
   ]
  },
  {
   "cell_type": "markdown",
   "metadata": {},
   "source": [
    "TF-IDF Featureset Predictons\n",
    "\n",
    "Here I'm using three classification models - Naive Bayes, Logistic Regression and Random Forests - to compare the results."
   ]
  },
  {
   "cell_type": "code",
   "execution_count": 79,
   "metadata": {},
   "outputs": [],
   "source": [
    "# train models on the TF-IDF features\n",
    "# NB_tfidf = train_model(naive_bayes.MultinomialNB(), x_train_tfidf, x_test_tfidf)   # Naive Bayes\n",
    "LR_tfidf = train_model(linear_model.LogisticRegression(), x_train_tfidf, x_test_tfidf)  # Logistic Regression\n",
    "RF_tfidf = train_model(ensemble.RandomForestClassifier(), x_train_tfidf, x_test_tfidf)  # Random Forests"
   ]
  },
  {
   "cell_type": "code",
   "execution_count": 77,
   "metadata": {},
   "outputs": [
    {
     "name": "stdout",
     "output_type": "stream",
     "text": [
      "Accuracy: 0.8852407261247041\n",
      "Average Precision: nan\n",
      "Average Recall: 0.7512788223593599\n",
      "Accuracy: 0.931544330439358\n",
      "Average Precision: 0.908306129890538\n",
      "Average Recall: 0.8734228936342536\n",
      "Accuracy: 0.9385951065509076\n",
      "Average Precision: 0.9085553653931351\n",
      "Average Recall: 0.8953669172610235\n"
     ]
    }
   ],
   "source": [
    "# measure the predictions\n",
    "NB_tfidf.return_metrics()\n",
    "LR_tfidf.return_metrics()\n",
    "RF_tfidf.return_metrics()"
   ]
  },
  {
   "cell_type": "markdown",
   "metadata": {},
   "source": [
    "We can see that my classification models do a fantastic job with Logistic Regression and the Random Forest models achieving more than 93% accuracy and very good numbers of average Precision and Recall.\n",
    "\n",
    "Lets now look at the wrong predictions and compare the worse performing model -Naive Bayes with one of the better performing model - Random Forest."
   ]
  },
  {
   "cell_type": "code",
   "execution_count": 84,
   "metadata": {},
   "outputs": [
    {
     "data": {
      "text/plain": [
       "Text(0.5, 1.0, 'RF_tfidf wrong prdictions')"
      ]
     },
     "execution_count": 84,
     "metadata": {},
     "output_type": "execute_result"
    },
    {
     "data": {
      "image/png": "[encoded data removed]",
      "text/plain": [
       "<Figure size 1296x432 with 2 Axes>"
      ]
     },
     "metadata": {
      "needs_background": "light"
     },
     "output_type": "display_data"
    }
   ],
   "source": [
    "# compare the wrong predictions between two models\n",
    "f, axs = plt.subplots(1,2,figsize=(18,6))\n",
    "plt.subplot(1,2,1)\n",
    "plot_wrong_predictions(NB_tfidf)\n",
    "plt.title('NB_tfidf wrong prdictions')\n",
    "\n",
    "plt.subplot(1,2,2)\n",
    "plot_wrong_predictions(RF_tfidf)\n",
    "plt.title('RF_tfidf wrong prdictions')"
   ]
  },
  {
   "cell_type": "markdown",
   "metadata": {},
   "source": [
    "From a comparison of the two graphs above, it seems like the Naive Bayes model did a worse job at predicting Desktops, Commercial Printers and Tablets than the Random Forest model."
   ]
  },
  {
   "cell_type": "markdown",
   "metadata": {},
   "source": [
    "CountVector Featurest Predictions"
   ]
  },
  {
   "cell_type": "code",
   "execution_count": 85,
   "metadata": {},
   "outputs": [],
   "source": [
    "# train models on the CountVector features\n",
    "NB_CV = train_model(naive_bayes.MultinomialNB(), x_train_CV, x_test_CV)   # Naive Bayes\n",
    "LR_CV = train_model(linear_model.LogisticRegression(), x_train_CV, x_test_CV)  # Logistic Regression\n",
    "RF_CV = train_model(ensemble.RandomForestClassifier(), x_train_CV, x_test_CV)  # Random Forests"
   ]
  },
  {
   "cell_type": "code",
   "execution_count": 86,
   "metadata": {},
   "outputs": [
    {
     "name": "stdout",
     "output_type": "stream",
     "text": [
      "Accuracy: 0.9147066561431202\n",
      "Average Precision: 0.8911286514501086\n",
      "Average Recall: 0.8423734475096124\n",
      "Accuracy: 0.9396474611944226\n",
      "Average Precision: 0.9153726168313553\n",
      "Average Recall: 0.8924982471929165\n",
      "Accuracy: 0.9359116022099447\n",
      "Average Precision: 0.9038959311657717\n",
      "Average Recall: 0.8890849760298155\n"
     ]
    }
   ],
   "source": [
    "# measure the predictions\n",
    "NB_CV.return_metrics()\n",
    "LR_CV.return_metrics()\n",
    "RF_CV.return_metrics()"
   ]
  },
  {
   "cell_type": "markdown",
   "metadata": {},
   "source": [
    "Once we look at the prediction results, the Naive Bayes model has improved using the CountVector featureset and perform very close to the other two models. The overall performance of the best performing model - Logistic Regression with 93.96% accuracy - isn't a significant improvement from the 93.85% accuracy of the Random Forest model with TF-IDF featureset."
   ]
  },
  {
   "cell_type": "markdown",
   "metadata": {},
   "source": [
    "Now lets compare the wrong predictions of the Logistic Regression and Random Forest"
   ]
  },
  {
   "cell_type": "code",
   "execution_count": 87,
   "metadata": {},
   "outputs": [
    {
     "data": {
      "text/plain": [
       "Text(0.5, 1.0, 'RF_CV wrong prdictions')"
      ]
     },
     "execution_count": 87,
     "metadata": {},
     "output_type": "execute_result"
    },
    {
     "data": {
      "image/png": "[encoded data removed]",
      "text/plain": [
       "<Figure size 1296x432 with 2 Axes>"
      ]
     },
     "metadata": {
      "needs_background": "light"
     },
     "output_type": "display_data"
    }
   ],
   "source": [
    "# compare the wrong predictions between two models\n",
    "f, axs = plt.subplots(1,2,figsize=(18,6))\n",
    "plt.subplot(1,2,1)\n",
    "plot_wrong_predictions(LR_CV)\n",
    "plt.title('LR_CV wrong prdictions')\n",
    "\n",
    "plt.subplot(1,2,2)\n",
    "plot_wrong_predictions(RF_CV)\n",
    "plt.title('RF_CV wrong prdictions')"
   ]
  },
  {
   "cell_type": "markdown",
   "metadata": {},
   "source": [
    "We can see that both the models did a very similar job at predicting the wrong categories.\n",
    "\n",
    "Future improvements in the classification task can be achieved by applying more data cleaning techniques as well as improviving the original product categories itself. Performing further cleaning and re-categorisation of the dataset is beyond the scope of this project and I'll leave the predictions at its current state."
   ]
  },
  {
   "cell_type": "markdown",
   "metadata": {},
   "source": [
    "# 7. Word Embeddings"
   ]
  },
  {
   "cell_type": "markdown",
   "metadata": {},
   "source": [
    "Word embeddings is another approach in NLP to perform various types of analysis. Here, I use this method for the classification of product categories.\n",
    "Keras is the package used for training the Neural Netoworks which will perform the classification task.\n",
    "\n",
    "The first step declare certain parameters which will be used in the modelling procedure."
   ]
  },
  {
   "cell_type": "code",
   "execution_count": 18,
   "metadata": {},
   "outputs": [],
   "source": [
    "# declare a cut-off length of words for each product document\n",
    "maxlen = 30  \n",
    "# trains on 70% of the samples\n",
    "training_samples = round(0.7 * len(prod_50cats['tokens']))  \n",
    "# considers only the top 7,000 words in the dataset\n",
    "max_words = 7000    "
   ]
  },
  {
   "cell_type": "markdown",
   "metadata": {},
   "source": [
    "Tokenization with Keras, keeping not more than 30 words per product document.\n",
    "Then store the words as number index."
   ]
  },
  {
   "cell_type": "code",
   "execution_count": 19,
   "metadata": {},
   "outputs": [],
   "source": [
    "# converts each description to a list of integers considering only the max_words\n",
    "tokenizer = Tokenizer(num_words=max_words)\n",
    "tokenizer.fit_on_texts(prod_50cats['title&cat'])\n",
    "# store the words as numbers\n",
    "sequences = tokenizer.texts_to_sequences(prod_50cats['title&cat'])  "
   ]
  },
  {
   "cell_type": "code",
   "execution_count": 20,
   "metadata": {},
   "outputs": [
    {
     "data": {
      "text/plain": [
       "array([  0,   1,  20, 327, 113,   3,   2,  42,   6,  58,  26,  31,   9,\n",
       "         1,  20, 156,   3,   9,   1,  20, 327,   3,   2,   4,   1,  20,\n",
       "       327, 113,   3,   2])"
      ]
     },
     "execution_count": 20,
     "metadata": {},
     "output_type": "execute_result"
    }
   ],
   "source": [
    "# each tokenized product document is cut to maxlen (30 words or padded 0 if less)\n",
    "data = pad_sequences(sequences, maxlen=maxlen)   \n",
    "data[0]"
   ]
  },
  {
   "cell_type": "code",
   "execution_count": 21,
   "metadata": {},
   "outputs": [
    {
     "name": "stdout",
     "output_type": "stream",
     "text": [
      "Found 44614 unique tokens.\n"
     ]
    },
    {
     "data": {
      "text/plain": [
       "[('hp', 1), ('pc', 2), ('notebook', 3), ('series', 4), ('pavilion', 5)]"
      ]
     },
     "execution_count": 21,
     "metadata": {},
     "output_type": "execute_result"
    }
   ],
   "source": [
    "# lets look at the word-index of number of words being stored\n",
    "word_index = tokenizer.word_index\n",
    "print('Found %s unique tokens.' % len(word_index))\n",
    "list(word_index.items())[:5]"
   ]
  },
  {
   "cell_type": "markdown",
   "metadata": {},
   "source": [
    "Once the tokenization and word indexing is done, we need to encode the categorical category classes to a numerical index."
   ]
  },
  {
   "cell_type": "code",
   "execution_count": 22,
   "metadata": {},
   "outputs": [
    {
     "data": {
      "text/plain": [
       "50"
      ]
     },
     "execution_count": 22,
     "metadata": {},
     "output_type": "execute_result"
    }
   ],
   "source": [
    "# encode the target labels\n",
    "encoder = preprocessing.LabelEncoder()\n",
    "encoded_labels = encoder.fit_transform(prod_50cats['benchmark_category2'])\n",
    "len(set(encoded_labels))"
   ]
  },
  {
   "cell_type": "markdown",
   "metadata": {},
   "source": [
    "The classes or encoded labels futher needs to be transformed to a Keras format where each classes will be assigned 1 from a vector of length 50."
   ]
  },
  {
   "cell_type": "code",
   "execution_count": 23,
   "metadata": {},
   "outputs": [
    {
     "data": {
      "text/plain": [
       "(63349, 50)"
      ]
     },
     "execution_count": 23,
     "metadata": {},
     "output_type": "execute_result"
    }
   ],
   "source": [
    "labels = keras.utils.to_categorical(encoded_labels)\n",
    "labels.shape"
   ]
  },
  {
   "cell_type": "code",
   "execution_count": 24,
   "metadata": {},
   "outputs": [
    {
     "data": {
      "text/plain": [
       "array([0., 0., 0., 1., 0., 0., 0., 0., 0., 0., 0., 0., 0., 0., 0., 0., 0.,\n",
       "       0., 0., 0., 0., 0., 0., 0., 0., 0., 0., 0., 0., 0., 0., 0., 0., 0.,\n",
       "       0., 0., 0., 0., 0., 0., 0., 0., 0., 0., 0., 0., 0., 0., 0., 0.],\n",
       "      dtype=float32)"
      ]
     },
     "execution_count": 24,
     "metadata": {},
     "output_type": "execute_result"
    }
   ],
   "source": [
    "# for example, the label[1] is represented in a vector of 50 units with just one of them assigned the value 1\n",
    "labels[1]"
   ]
  },
  {
   "cell_type": "code",
   "execution_count": 25,
   "metadata": {},
   "outputs": [
    {
     "name": "stdout",
     "output_type": "stream",
     "text": [
      "Shape of data tensor: (63349, 30)\n",
      "Shape of label tensor: (63349, 50)\n"
     ]
    }
   ],
   "source": [
    "# now lets look at the shape of the tokenized texts and the label classes\n",
    "labels = np.asarray(labels)\n",
    "print('Shape of data tensor:', data.shape)\n",
    "print('Shape of label tensor:', labels.shape)"
   ]
  },
  {
   "cell_type": "code",
   "execution_count": 26,
   "metadata": {},
   "outputs": [],
   "source": [
    "# lets shuffle the data\n",
    "indices = np.arange(data.shape[0])  \n",
    "np.random.shuffle(indices)\n",
    "data = data[indices]\n",
    "labels = labels[indices]"
   ]
  },
  {
   "cell_type": "code",
   "execution_count": 27,
   "metadata": {},
   "outputs": [],
   "source": [
    "# divide train and test datasets\n",
    "x_train = data[:training_samples]\n",
    "y_train = labels[:training_samples]\n",
    "x_test = data[training_samples: ]\n",
    "y_test = labels[training_samples: ]"
   ]
  },
  {
   "cell_type": "markdown",
   "metadata": {},
   "source": [
    "Once we have the data encoding is complete, it's time to build the Neural Network model.\n",
    "\n",
    "We start by first defining the model architechture. Here we are using a 3 layer model - input layer, hidden layer and an output layer. In this model we are also training the word embeddings from our own corpus rather than using pre-trained embeddings. "
   ]
  },
  {
   "cell_type": "code",
   "execution_count": 28,
   "metadata": {},
   "outputs": [
    {
     "name": "stdout",
     "output_type": "stream",
     "text": [
      "WARNING:tensorflow:From C:\\Users\\Daniel\\AppData\\Local\\Continuum\\anaconda3\\lib\\site-packages\\tensorflow\\python\\framework\\op_def_library.py:263: colocate_with (from tensorflow.python.framework.ops) is deprecated and will be removed in a future version.\n",
      "Instructions for updating:\n",
      "Colocations handled automatically by placer.\n",
      "_________________________________________________________________\n",
      "Layer (type)                 Output Shape              Param #   \n",
      "=================================================================\n",
      "embedding_1 (Embedding)      (None, 30, 30)            210000    \n",
      "_________________________________________________________________\n",
      "flatten_1 (Flatten)          (None, 900)               0         \n",
      "_________________________________________________________________\n",
      "dense_1 (Dense)              (None, 64)                57664     \n",
      "_________________________________________________________________\n",
      "dense_2 (Dense)              (None, 50)                3250      \n",
      "=================================================================\n",
      "Total params: 270,914\n",
      "Trainable params: 270,914\n",
      "Non-trainable params: 0\n",
      "_________________________________________________________________\n"
     ]
    }
   ],
   "source": [
    "# Training the same model without pretrained word embeddings\n",
    "from keras.models import Sequential\n",
    "from keras.layers import Embedding, Flatten, Dense\n",
    "\n",
    "embedding_dim = 30\n",
    "model = Sequential()\n",
    "model.add(Embedding(max_words, embedding_dim, input_length=maxlen))\n",
    "model.add(Flatten())\n",
    "model.add(Dense(64, activation='relu'))\n",
    "model.add(Dense(50, activation='softmax'))\n",
    "model.summary()"
   ]
  },
  {
   "cell_type": "markdown",
   "metadata": {},
   "source": [
    "Here I train the Neural Network on the training data and predict on the test data."
   ]
  },
  {
   "cell_type": "code",
   "execution_count": 29,
   "metadata": {},
   "outputs": [
    {
     "name": "stdout",
     "output_type": "stream",
     "text": [
      "WARNING:tensorflow:From C:\\Users\\Daniel\\AppData\\Local\\Continuum\\anaconda3\\lib\\site-packages\\tensorflow\\python\\ops\\math_ops.py:3066: to_int32 (from tensorflow.python.ops.math_ops) is deprecated and will be removed in a future version.\n",
      "Instructions for updating:\n",
      "Use tf.cast instead.\n",
      "Train on 44344 samples, validate on 19005 samples\n",
      "Epoch 1/10\n",
      "44344/44344 [==============================] - 10s 225us/step - loss: 1.1154 - acc: 0.7415 - val_loss: 0.4161 - val_acc: 0.8998\n",
      "Epoch 2/10\n",
      "44344/44344 [==============================] - 9s 206us/step - loss: 0.3432 - acc: 0.9179 - val_loss: 0.3069 - val_acc: 0.9268\n",
      "Epoch 3/10\n",
      "44344/44344 [==============================] - 9s 211us/step - loss: 0.2657 - acc: 0.9364 - val_loss: 0.2864 - val_acc: 0.9335\n",
      "Epoch 4/10\n",
      "44344/44344 [==============================] - 10s 224us/step - loss: 0.2277 - acc: 0.9456 - val_loss: 0.2815 - val_acc: 0.9375\n",
      "Epoch 5/10\n",
      "44344/44344 [==============================] - 9s 206us/step - loss: 0.2037 - acc: 0.9499 - val_loss: 0.2817 - val_acc: 0.9371\n",
      "Epoch 6/10\n",
      "44344/44344 [==============================] - 10s 215us/step - loss: 0.1845 - acc: 0.9551 - val_loss: 0.2902 - val_acc: 0.9383\n",
      "Epoch 7/10\n",
      "44344/44344 [==============================] - 9s 205us/step - loss: 0.1689 - acc: 0.9587 - val_loss: 0.3068 - val_acc: 0.9379\n",
      "Epoch 8/10\n",
      "44344/44344 [==============================] - 10s 216us/step - loss: 0.1588 - acc: 0.9613 - val_loss: 0.3138 - val_acc: 0.9369\n",
      "Epoch 9/10\n",
      "44344/44344 [==============================] - 10s 217us/step - loss: 0.1503 - acc: 0.9635 - val_loss: 0.3191 - val_acc: 0.9360\n",
      "Epoch 10/10\n",
      "44344/44344 [==============================] - 10s 225us/step - loss: 0.1445 - acc: 0.9660 - val_loss: 0.3303 - val_acc: 0.9374\n"
     ]
    }
   ],
   "source": [
    "model.compile(optimizer='rmsprop',\n",
    "              loss='categorical_crossentropy',\n",
    "              metrics=['accuracy'])\n",
    "history = model.fit(x_train, y_train,\n",
    "                    epochs=10,\n",
    "                    batch_size=32,\n",
    "                    validation_data=(x_test, y_test))\n",
    "model.save_weights('from scratch_model1')"
   ]
  },
  {
   "cell_type": "code",
   "execution_count": 30,
   "metadata": {},
   "outputs": [
    {
     "data": {
      "text/plain": [
       "dict_keys(['val_loss', 'val_acc', 'loss', 'acc'])"
      ]
     },
     "execution_count": 30,
     "metadata": {},
     "output_type": "execute_result"
    }
   ],
   "source": [
    "# model.fit() returns a History object which has a member history - a dictionary containing data for everything that happened\n",
    "history_dict = history.history\n",
    "history_dict.keys()"
   ]
  },
  {
   "cell_type": "markdown",
   "metadata": {},
   "source": [
    "Neural Networks if not inspected properly tend to overfit. So it's essential to compare perfromance of the model on the training and testing datasets"
   ]
  },
  {
   "cell_type": "code",
   "execution_count": 31,
   "metadata": {},
   "outputs": [
    {
     "data": {
      "image/png": "[encoded data removed]",
      "text/plain": [
       "<Figure size 432x288 with 1 Axes>"
      ]
     },
     "metadata": {
      "needs_background": "light"
     },
     "output_type": "display_data"
    }
   ],
   "source": [
    "# plotting the training and testing loss\n",
    "\n",
    "history_dict = history.history\n",
    "loss_values = history_dict['loss']\n",
    "val_loss_values = history_dict['val_loss']\n",
    "\n",
    "epochs = range(1, len(history_dict['acc']) + 1)\n",
    "\n",
    "plt.plot(epochs, loss_values, 'bo', label='Training loss')\n",
    "plt.plot(epochs, val_loss_values, 'b', label='Validation loss')\n",
    "plt.title('Training and validation loss')\n",
    "plt.xlabel('Epochs')\n",
    "plt.ylabel('Loss')\n",
    "plt.legend()\n",
    "\n",
    "plt.show()"
   ]
  },
  {
   "cell_type": "code",
   "execution_count": 32,
   "metadata": {},
   "outputs": [
    {
     "data": {
      "image/png": "[encoded data removed]",
      "text/plain": [
       "<Figure size 432x288 with 1 Axes>"
      ]
     },
     "metadata": {
      "needs_background": "light"
     },
     "output_type": "display_data"
    }
   ],
   "source": [
    "# plotting the training and validation accuracy\n",
    "plt.clf()  # clears the figure\n",
    "acc_values = history_dict['acc']\n",
    "val_acc_values = history_dict['val_acc']\n",
    "\n",
    "plt.plot(epochs, acc_values, 'bo', label='Training acc')\n",
    "plt.plot(epochs, val_acc_values, 'b', label='Validation acc')\n",
    "plt.title('Training and validation accuracy')\n",
    "plt.xlabel('Epochs')\n",
    "plt.ylabel('Accuracy')\n",
    "plt.legend()\n",
    "\n",
    "plt.show()"
   ]
  },
  {
   "cell_type": "markdown",
   "metadata": {},
   "source": [
    "From both the graphs we can see that after the 3rd epoch, the network starts to overfit. So that's the optimum we should implement. We should also notice that the accuracy of the prediction is very similar to the other classification models we built earlier."
   ]
  },
  {
   "cell_type": "markdown",
   "metadata": {},
   "source": [
    "# Topic Modelling "
   ]
  },
  {
   "cell_type": "markdown",
   "metadata": {},
   "source": [
    "Topic modelling is the NLP technique of clustering similar documents. This form of unsupervised learining helps in validating a classification task as it helps us understand the similarity between diffrent classes. As we saw in my earlier classification task above, I have too many categories. By performing topic modelling on the same data I can reduce the number of classes by grouping similar classes, thereby, reducing the number of classes to predict.\n",
    "\n",
    "Here I use Gensim library to perform this task and its starts with vectorising the texts in the corpus."
   ]
  },
  {
   "cell_type": "code",
   "execution_count": 158,
   "metadata": {},
   "outputs": [
    {
     "data": {
      "text/html": [
       "<div>\n",
       "<style scoped>\n",
       "    .dataframe tbody tr th:only-of-type {\n",
       "        vertical-align: middle;\n",
       "    }\n",
       "\n",
       "    .dataframe tbody tr th {\n",
       "        vertical-align: top;\n",
       "    }\n",
       "\n",
       "    .dataframe thead th {\n",
       "        text-align: right;\n",
       "    }\n",
       "</style>\n",
       "<table border=\"1\" class=\"dataframe\">\n",
       "  <thead>\n",
       "    <tr style=\"text-align: right;\">\n",
       "      <th></th>\n",
       "      <th>aa</th>\n",
       "      <th>aaa</th>\n",
       "      <th>aab</th>\n",
       "      <th>aac</th>\n",
       "      <th>ab</th>\n",
       "      <th>aba</th>\n",
       "      <th>abdeckung</th>\n",
       "      <th>abelia</th>\n",
       "      <th>abhol</th>\n",
       "      <th>abs</th>\n",
       "      <th>...</th>\n",
       "      <th>전용</th>\n",
       "      <th>정품</th>\n",
       "      <th>카트리지</th>\n",
       "      <th>컬러</th>\n",
       "      <th>토너</th>\n",
       "      <th>포토</th>\n",
       "      <th>포토용지</th>\n",
       "      <th>프리미엄</th>\n",
       "      <th>프린터</th>\n",
       "      <th>플러스</th>\n",
       "    </tr>\n",
       "  </thead>\n",
       "  <tbody>\n",
       "    <tr>\n",
       "      <th>0</th>\n",
       "      <td>0</td>\n",
       "      <td>0</td>\n",
       "      <td>0</td>\n",
       "      <td>0</td>\n",
       "      <td>0</td>\n",
       "      <td>0</td>\n",
       "      <td>0</td>\n",
       "      <td>0</td>\n",
       "      <td>0</td>\n",
       "      <td>0</td>\n",
       "      <td>...</td>\n",
       "      <td>0</td>\n",
       "      <td>0</td>\n",
       "      <td>0</td>\n",
       "      <td>0</td>\n",
       "      <td>0</td>\n",
       "      <td>0</td>\n",
       "      <td>0</td>\n",
       "      <td>0</td>\n",
       "      <td>0</td>\n",
       "      <td>0</td>\n",
       "    </tr>\n",
       "    <tr>\n",
       "      <th>1</th>\n",
       "      <td>0</td>\n",
       "      <td>0</td>\n",
       "      <td>0</td>\n",
       "      <td>0</td>\n",
       "      <td>0</td>\n",
       "      <td>0</td>\n",
       "      <td>0</td>\n",
       "      <td>0</td>\n",
       "      <td>0</td>\n",
       "      <td>0</td>\n",
       "      <td>...</td>\n",
       "      <td>0</td>\n",
       "      <td>0</td>\n",
       "      <td>0</td>\n",
       "      <td>0</td>\n",
       "      <td>0</td>\n",
       "      <td>0</td>\n",
       "      <td>0</td>\n",
       "      <td>0</td>\n",
       "      <td>0</td>\n",
       "      <td>0</td>\n",
       "    </tr>\n",
       "    <tr>\n",
       "      <th>2</th>\n",
       "      <td>0</td>\n",
       "      <td>0</td>\n",
       "      <td>0</td>\n",
       "      <td>0</td>\n",
       "      <td>0</td>\n",
       "      <td>0</td>\n",
       "      <td>0</td>\n",
       "      <td>0</td>\n",
       "      <td>0</td>\n",
       "      <td>0</td>\n",
       "      <td>...</td>\n",
       "      <td>0</td>\n",
       "      <td>0</td>\n",
       "      <td>0</td>\n",
       "      <td>0</td>\n",
       "      <td>0</td>\n",
       "      <td>0</td>\n",
       "      <td>0</td>\n",
       "      <td>0</td>\n",
       "      <td>0</td>\n",
       "      <td>0</td>\n",
       "    </tr>\n",
       "    <tr>\n",
       "      <th>3</th>\n",
       "      <td>0</td>\n",
       "      <td>0</td>\n",
       "      <td>0</td>\n",
       "      <td>0</td>\n",
       "      <td>0</td>\n",
       "      <td>0</td>\n",
       "      <td>0</td>\n",
       "      <td>0</td>\n",
       "      <td>0</td>\n",
       "      <td>0</td>\n",
       "      <td>...</td>\n",
       "      <td>0</td>\n",
       "      <td>0</td>\n",
       "      <td>0</td>\n",
       "      <td>0</td>\n",
       "      <td>0</td>\n",
       "      <td>0</td>\n",
       "      <td>0</td>\n",
       "      <td>0</td>\n",
       "      <td>0</td>\n",
       "      <td>0</td>\n",
       "    </tr>\n",
       "    <tr>\n",
       "      <th>4</th>\n",
       "      <td>0</td>\n",
       "      <td>0</td>\n",
       "      <td>0</td>\n",
       "      <td>0</td>\n",
       "      <td>0</td>\n",
       "      <td>0</td>\n",
       "      <td>0</td>\n",
       "      <td>0</td>\n",
       "      <td>0</td>\n",
       "      <td>0</td>\n",
       "      <td>...</td>\n",
       "      <td>0</td>\n",
       "      <td>0</td>\n",
       "      <td>0</td>\n",
       "      <td>0</td>\n",
       "      <td>0</td>\n",
       "      <td>0</td>\n",
       "      <td>0</td>\n",
       "      <td>0</td>\n",
       "      <td>0</td>\n",
       "      <td>0</td>\n",
       "    </tr>\n",
       "  </tbody>\n",
       "</table>\n",
       "<p>5 rows × 7373 columns</p>\n",
       "</div>"
      ],
      "text/plain": [
       "   aa  aaa  aab  aac  ab  aba  abdeckung  abelia  abhol  abs  ...  전용  정품  \\\n",
       "0   0    0    0    0   0    0          0       0      0    0  ...   0   0   \n",
       "1   0    0    0    0   0    0          0       0      0    0  ...   0   0   \n",
       "2   0    0    0    0   0    0          0       0      0    0  ...   0   0   \n",
       "3   0    0    0    0   0    0          0       0      0    0  ...   0   0   \n",
       "4   0    0    0    0   0    0          0       0      0    0  ...   0   0   \n",
       "\n",
       "   카트리지  컬러  토너  포토  포토용지  프리미엄  프린터  플러스  \n",
       "0     0   0   0   0     0     0    0    0  \n",
       "1     0   0   0   0     0     0    0    0  \n",
       "2     0   0   0   0     0     0    0    0  \n",
       "3     0   0   0   0     0     0    0    0  \n",
       "4     0   0   0   0     0     0    0    0  \n",
       "\n",
       "[5 rows x 7373 columns]"
      ]
     },
     "execution_count": 158,
     "metadata": {},
     "output_type": "execute_result"
    }
   ],
   "source": [
    "# create a Term Matrix with CountVectorizer\n",
    "cv = CountVectorizer()\n",
    "data_cv = cv.fit_transform(prod_Ncats['tokens'])\n",
    "# a dataframe is created which maps each word to a number and each product document is represented as a count of each word\n",
    "data_dtm = pd.DataFrame(data_cv.toarray(), columns=cv.get_feature_names())\n",
    "# lets add the original words and visualise how the term matrix looks like\n",
    "data_dtm.index = prod_Ncats.index\n",
    "data_dtm.head()"
   ]
  },
  {
   "cell_type": "code",
   "execution_count": 161,
   "metadata": {},
   "outputs": [
    {
     "data": {
      "text/html": [
       "<div>\n",
       "<style scoped>\n",
       "    .dataframe tbody tr th:only-of-type {\n",
       "        vertical-align: middle;\n",
       "    }\n",
       "\n",
       "    .dataframe tbody tr th {\n",
       "        vertical-align: top;\n",
       "    }\n",
       "\n",
       "    .dataframe thead th {\n",
       "        text-align: right;\n",
       "    }\n",
       "</style>\n",
       "<table border=\"1\" class=\"dataframe\">\n",
       "  <thead>\n",
       "    <tr style=\"text-align: right;\">\n",
       "      <th></th>\n",
       "      <th>0</th>\n",
       "      <th>1</th>\n",
       "      <th>2</th>\n",
       "      <th>3</th>\n",
       "      <th>4</th>\n",
       "      <th>5</th>\n",
       "      <th>6</th>\n",
       "      <th>7</th>\n",
       "      <th>8</th>\n",
       "      <th>9</th>\n",
       "      <th>...</th>\n",
       "      <th>63339</th>\n",
       "      <th>63340</th>\n",
       "      <th>63341</th>\n",
       "      <th>63342</th>\n",
       "      <th>63343</th>\n",
       "      <th>63344</th>\n",
       "      <th>63345</th>\n",
       "      <th>63346</th>\n",
       "      <th>63347</th>\n",
       "      <th>63348</th>\n",
       "    </tr>\n",
       "  </thead>\n",
       "  <tbody>\n",
       "    <tr>\n",
       "      <th>aa</th>\n",
       "      <td>0</td>\n",
       "      <td>0</td>\n",
       "      <td>0</td>\n",
       "      <td>0</td>\n",
       "      <td>0</td>\n",
       "      <td>0</td>\n",
       "      <td>0</td>\n",
       "      <td>0</td>\n",
       "      <td>0</td>\n",
       "      <td>0</td>\n",
       "      <td>...</td>\n",
       "      <td>0</td>\n",
       "      <td>0</td>\n",
       "      <td>0</td>\n",
       "      <td>0</td>\n",
       "      <td>0</td>\n",
       "      <td>0</td>\n",
       "      <td>0</td>\n",
       "      <td>0</td>\n",
       "      <td>0</td>\n",
       "      <td>0</td>\n",
       "    </tr>\n",
       "    <tr>\n",
       "      <th>aaa</th>\n",
       "      <td>0</td>\n",
       "      <td>0</td>\n",
       "      <td>0</td>\n",
       "      <td>0</td>\n",
       "      <td>0</td>\n",
       "      <td>0</td>\n",
       "      <td>0</td>\n",
       "      <td>0</td>\n",
       "      <td>0</td>\n",
       "      <td>0</td>\n",
       "      <td>...</td>\n",
       "      <td>0</td>\n",
       "      <td>0</td>\n",
       "      <td>0</td>\n",
       "      <td>0</td>\n",
       "      <td>0</td>\n",
       "      <td>0</td>\n",
       "      <td>0</td>\n",
       "      <td>0</td>\n",
       "      <td>0</td>\n",
       "      <td>0</td>\n",
       "    </tr>\n",
       "    <tr>\n",
       "      <th>aab</th>\n",
       "      <td>0</td>\n",
       "      <td>0</td>\n",
       "      <td>0</td>\n",
       "      <td>0</td>\n",
       "      <td>0</td>\n",
       "      <td>0</td>\n",
       "      <td>0</td>\n",
       "      <td>0</td>\n",
       "      <td>0</td>\n",
       "      <td>0</td>\n",
       "      <td>...</td>\n",
       "      <td>0</td>\n",
       "      <td>0</td>\n",
       "      <td>0</td>\n",
       "      <td>0</td>\n",
       "      <td>0</td>\n",
       "      <td>0</td>\n",
       "      <td>0</td>\n",
       "      <td>0</td>\n",
       "      <td>0</td>\n",
       "      <td>0</td>\n",
       "    </tr>\n",
       "    <tr>\n",
       "      <th>aac</th>\n",
       "      <td>0</td>\n",
       "      <td>0</td>\n",
       "      <td>0</td>\n",
       "      <td>0</td>\n",
       "      <td>0</td>\n",
       "      <td>0</td>\n",
       "      <td>0</td>\n",
       "      <td>0</td>\n",
       "      <td>0</td>\n",
       "      <td>0</td>\n",
       "      <td>...</td>\n",
       "      <td>0</td>\n",
       "      <td>0</td>\n",
       "      <td>0</td>\n",
       "      <td>0</td>\n",
       "      <td>0</td>\n",
       "      <td>0</td>\n",
       "      <td>0</td>\n",
       "      <td>0</td>\n",
       "      <td>0</td>\n",
       "      <td>0</td>\n",
       "    </tr>\n",
       "    <tr>\n",
       "      <th>ab</th>\n",
       "      <td>0</td>\n",
       "      <td>0</td>\n",
       "      <td>0</td>\n",
       "      <td>0</td>\n",
       "      <td>0</td>\n",
       "      <td>0</td>\n",
       "      <td>0</td>\n",
       "      <td>0</td>\n",
       "      <td>0</td>\n",
       "      <td>0</td>\n",
       "      <td>...</td>\n",
       "      <td>0</td>\n",
       "      <td>0</td>\n",
       "      <td>0</td>\n",
       "      <td>0</td>\n",
       "      <td>0</td>\n",
       "      <td>0</td>\n",
       "      <td>0</td>\n",
       "      <td>0</td>\n",
       "      <td>0</td>\n",
       "      <td>0</td>\n",
       "    </tr>\n",
       "  </tbody>\n",
       "</table>\n",
       "<p>5 rows × 63349 columns</p>\n",
       "</div>"
      ],
      "text/plain": [
       "     0      1      2      3      4      5      6      7      8      9      \\\n",
       "aa       0      0      0      0      0      0      0      0      0      0   \n",
       "aaa      0      0      0      0      0      0      0      0      0      0   \n",
       "aab      0      0      0      0      0      0      0      0      0      0   \n",
       "aac      0      0      0      0      0      0      0      0      0      0   \n",
       "ab       0      0      0      0      0      0      0      0      0      0   \n",
       "\n",
       "     ...  63339  63340  63341  63342  63343  63344  63345  63346  63347  63348  \n",
       "aa   ...      0      0      0      0      0      0      0      0      0      0  \n",
       "aaa  ...      0      0      0      0      0      0      0      0      0      0  \n",
       "aab  ...      0      0      0      0      0      0      0      0      0      0  \n",
       "aac  ...      0      0      0      0      0      0      0      0      0      0  \n",
       "ab   ...      0      0      0      0      0      0      0      0      0      0  \n",
       "\n",
       "[5 rows x 63349 columns]"
      ]
     },
     "execution_count": 161,
     "metadata": {},
     "output_type": "execute_result"
    }
   ],
   "source": [
    "# now transpose the Term Matrix to a Term-Document Matrix\n",
    "tdm = data_dtm.transpose()\n",
    "tdm.head()"
   ]
  },
  {
   "cell_type": "code",
   "execution_count": 162,
   "metadata": {},
   "outputs": [],
   "source": [
    "# turn the Term-Document Matrix into a gensim format corpus by first converting the dataframe to a sparse matrix for optimal performance\n",
    "sparse_counts = scipy.sparse.csr_matrix(tdm)\n",
    "corpus = matutils.Sparse2Corpus(sparse_counts)"
   ]
  },
  {
   "cell_type": "code",
   "execution_count": 163,
   "metadata": {},
   "outputs": [
    {
     "name": "stdout",
     "output_type": "stream",
     "text": [
      "[[(785, 1), (1967, 4), (2926, 4), (2964, 1), (3420, 1), (3423, 1), (4293, 4), (4542, 3), (4553, 2), (5512, 1)], [(5850, 1), (5851, 1)]]\n"
     ]
    }
   ],
   "source": [
    "# lets look at first two documents of the gensim corpus\n",
    "print(list(corpus)[0:2])"
   ]
  },
  {
   "cell_type": "code",
   "execution_count": 164,
   "metadata": {},
   "outputs": [],
   "source": [
    "# now I create a gensim Dictionary of the unique words with the  in the corpus\n",
    "dictionary = corpora.Dictionary([line.split() for line in prod_Ncats['tokens']])"
   ]
  },
  {
   "cell_type": "code",
   "execution_count": 166,
   "metadata": {},
   "outputs": [
    {
     "name": "stdout",
     "output_type": "stream",
     "text": [
      "[[('business', 1), ('elitebook', 4), ('hp', 4), ('hybrids', 1), ('laptop', 1), ('laptops', 1), ('notebook', 4), ('pc', 3), ('pcs', 2), ('series', 1)]]\n"
     ]
    }
   ],
   "source": [
    "# Lets look at word-value mapping of the first two documents of the corpus\n",
    "print([[(id2word[id], freq) for id, freq in cp] for cp in list(corpus)[:1]])"
   ]
  },
  {
   "cell_type": "code",
   "execution_count": 167,
   "metadata": {
    "scrolled": true
   },
   "outputs": [
    {
     "data": {
      "text/plain": [
       "[(0,\n",
       "  '0.230*\"tionic\" + 0.103*\"abs\" + 0.091*\"choice\" + 0.063*\"munkanapokon\" + 0.051*\"perfectkolor\" + 0.050*\"primadonna\" + 0.042*\"icona\" + 0.037*\"retrofits\" + 0.036*\"pendant\" + 0.033*\"bianco\"'),\n",
       " (1,\n",
       "  '0.030*\"ushaped\" + 0.020*\"mediasuite\" + 0.020*\"planning\" + 0.019*\"pendant\" + 0.018*\"form\" + 0.015*\"bgn\" + 0.013*\"stanice\" + 0.013*\"mobiele\" + 0.012*\"category\" + 0.011*\"posterpapier\"'),\n",
       " (2,\n",
       "  '0.037*\"tionic\" + 0.036*\"knife\" + 0.035*\"elettrico\" + 0.033*\"etui\" + 0.033*\"프리미엄\" + 0.032*\"recipes\" + 0.030*\"smb\" + 0.030*\"canon\" + 0.028*\"icona\" + 0.027*\"e복합기\"'),\n",
       " (3,\n",
       "  '0.119*\"tionic\" + 0.098*\"csvc\" + 0.070*\"choice\" + 0.069*\"odezva\" + 0.048*\"munkanapokon\" + 0.046*\"icona\" + 0.031*\"pendant\" + 0.030*\"dunetop\" + 0.023*\"centre\" + 0.022*\"noodle\"'),\n",
       " (4,\n",
       "  '0.042*\"exstream\" + 0.029*\"appliances\" + 0.021*\"colección\" + 0.021*\"fixe\" + 0.021*\"ultraplat\" + 0.020*\"hdcf\" + 0.020*\"attilio\" + 0.018*\"tionic\" + 0.016*\"lp\" + 0.016*\"vita\"')]"
      ]
     },
     "execution_count": 167,
     "metadata": {},
     "output_type": "execute_result"
    }
   ],
   "source": [
    "# now I build a Latent Derelict Allocation model to detect topics from the corpus.\n",
    "# since this is just an experimentation, I build a 5 topic model with 5 passes or iteration to change the weights\n",
    "lda_5 = models.LdaModel(corpus=corpus, id2word=dictionary, num_topics=5, passes=5)\n",
    "warnings.filterwarnings('ignore')\n",
    "lda_5.print_topics()"
   ]
  },
  {
   "cell_type": "markdown",
   "metadata": {},
   "source": [
    "# Visualisation of the Topics"
   ]
  },
  {
   "cell_type": "markdown",
   "metadata": {},
   "source": [
    "To visualise this we need to run the code as somehow the plot do not show up on a Jupyter notbook like the other plots. I've added a screenshot of how the visualisation looks like in my report."
   ]
  },
  {
   "cell_type": "code",
   "execution_count": 168,
   "metadata": {},
   "outputs": [
    {
     "data": {
      "text/html": [
       "\n",
       "<link rel=\"stylesheet\" type=\"text/css\" href=\"https://cdn.rawgit.com/bmabey/pyLDAvis/files/ldavis.v1.0.0.css\">\n",
       "\n",
       "\n",
       "<div id=\"ldavis_el232802642230482768437655808\"></div>\n",
       "<script type=\"text/javascript\">\n",
       "\n",
       "var ldavis_el232802642230482768437655808_data = {\"mdsDat\": {\"x\": [0.2770553330367241, -0.2879276167949285, -0.25585137799561974, 0.1871537697876518, 0.07956989196617201], \"y\": [-0.312626573439313, -0.02805933829563202, -0.06708067978673284, 0.26888018545811027, 0.1388864060635675], \"topics\": [1, 2, 3, 4, 5], \"cluster\": [1, 1, 1, 1, 1], \"Freq\": [28.8640193939209, 23.49554443359375, 18.684669494628906, 15.505306243896484, 13.450448036193848]}, \"tinfo\": {\"Category\": [\"Default\", \"Default\", \"Default\", \"Default\", \"Default\", \"Default\", \"Default\", \"Default\", \"Default\", \"Default\", \"Default\", \"Default\", \"Default\", \"Default\", \"Default\", \"Default\", \"Default\", \"Default\", \"Default\", \"Default\", \"Default\", \"Default\", \"Default\", \"Default\", \"Default\", \"Default\", \"Default\", \"Default\", \"Default\", \"Default\", \"Topic1\", \"Topic1\", \"Topic1\", \"Topic1\", \"Topic1\", \"Topic1\", \"Topic1\", \"Topic1\", \"Topic1\", \"Topic1\", \"Topic1\", \"Topic1\", \"Topic1\", \"Topic1\", \"Topic1\", \"Topic1\", \"Topic1\", \"Topic1\", \"Topic1\", \"Topic1\", \"Topic1\", \"Topic1\", \"Topic1\", \"Topic1\", \"Topic1\", \"Topic1\", \"Topic1\", \"Topic1\", \"Topic1\", \"Topic1\", \"Topic1\", \"Topic1\", \"Topic1\", \"Topic1\", \"Topic1\", \"Topic1\", \"Topic2\", \"Topic2\", \"Topic2\", \"Topic2\", \"Topic2\", \"Topic2\", \"Topic2\", \"Topic2\", \"Topic2\", \"Topic2\", \"Topic2\", \"Topic2\", \"Topic2\", \"Topic2\", \"Topic2\", \"Topic2\", \"Topic2\", \"Topic2\", \"Topic2\", \"Topic2\", \"Topic2\", \"Topic2\", \"Topic2\", \"Topic2\", \"Topic2\", \"Topic2\", \"Topic2\", \"Topic2\", \"Topic2\", \"Topic2\", \"Topic2\", \"Topic2\", \"Topic2\", \"Topic2\", \"Topic2\", \"Topic2\", \"Topic2\", \"Topic2\", \"Topic2\", \"Topic2\", \"Topic2\", \"Topic2\", \"Topic2\", \"Topic2\", \"Topic3\", \"Topic3\", \"Topic3\", \"Topic3\", \"Topic3\", \"Topic3\", \"Topic3\", \"Topic3\", \"Topic3\", \"Topic3\", \"Topic3\", \"Topic3\", \"Topic3\", \"Topic3\", \"Topic3\", \"Topic3\", \"Topic3\", \"Topic3\", \"Topic3\", \"Topic3\", \"Topic3\", \"Topic3\", \"Topic3\", \"Topic3\", \"Topic3\", \"Topic3\", \"Topic3\", \"Topic3\", \"Topic3\", \"Topic3\", \"Topic3\", \"Topic3\", \"Topic3\", \"Topic3\", \"Topic3\", \"Topic3\", \"Topic3\", \"Topic3\", \"Topic3\", \"Topic3\", \"Topic3\", \"Topic3\", \"Topic3\", \"Topic3\", \"Topic4\", \"Topic4\", \"Topic4\", \"Topic4\", \"Topic4\", \"Topic4\", \"Topic4\", \"Topic4\", \"Topic4\", \"Topic4\", \"Topic4\", \"Topic4\", \"Topic4\", \"Topic4\", \"Topic4\", \"Topic4\", \"Topic4\", \"Topic4\", \"Topic4\", \"Topic4\", \"Topic4\", \"Topic4\", \"Topic4\", \"Topic4\", \"Topic4\", \"Topic4\", \"Topic4\", \"Topic4\", \"Topic4\", \"Topic4\", \"Topic4\", \"Topic4\", \"Topic4\", \"Topic4\", \"Topic4\", \"Topic4\", \"Topic4\", \"Topic4\", \"Topic4\", \"Topic5\", \"Topic5\", \"Topic5\", \"Topic5\", \"Topic5\", \"Topic5\", \"Topic5\", \"Topic5\", \"Topic5\", \"Topic5\", \"Topic5\", \"Topic5\", \"Topic5\", \"Topic5\", \"Topic5\", \"Topic5\", \"Topic5\", \"Topic5\", \"Topic5\", \"Topic5\", \"Topic5\", \"Topic5\", \"Topic5\", \"Topic5\", \"Topic5\", \"Topic5\", \"Topic5\", \"Topic5\", \"Topic5\", \"Topic5\", \"Topic5\", \"Topic5\", \"Topic5\", \"Topic5\", \"Topic5\", \"Topic5\", \"Topic5\", \"Topic5\", \"Topic5\", \"Topic5\"], \"Freq\": [64382.0, 18618.0, 14018.0, 26493.0, 9886.0, 18234.0, 9172.0, 9067.0, 9757.0, 6601.0, 5987.0, 18057.0, 6567.0, 5044.0, 3633.0, 3804.0, 4256.0, 3424.0, 3386.0, 7686.0, 3276.0, 15209.0, 3104.0, 3099.0, 4522.0, 4496.0, 2734.0, 6177.0, 3773.0, 4323.0, 6566.67138671875, 4521.72900390625, 4322.1201171875, 3889.79638671875, 3385.748291015625, 2927.18505859375, 2818.330810546875, 2753.408203125, 2381.840087890625, 2232.6884765625, 2021.6256103515625, 2037.51123046875, 2041.126953125, 1991.103515625, 1859.398193359375, 1745.6453857421875, 1730.71435546875, 1735.777587890625, 1676.8895263671875, 1627.65966796875, 1603.7938232421875, 1456.4056396484375, 1399.40673828125, 1385.4483642578125, 1302.942626953125, 1266.083251953125, 1217.5516357421875, 1216.990234375, 1153.4425048828125, 1130.0479736328125, 1958.4501953125, 2191.66259765625, 2322.94873046875, 2064.218994140625, 2026.99755859375, 4299.8818359375, 18617.529296875, 9171.228515625, 9066.2314453125, 6600.35205078125, 5986.02587890625, 5043.84912109375, 3772.422607421875, 3122.802490234375, 2184.788818359375, 1089.5555419921875, 999.4134521484375, 915.4476318359375, 880.0643920898438, 509.38714599609375, 346.98858642578125, 305.8006591796875, 270.06451416015625, 264.14581298828125, 233.31466674804688, 202.1681671142578, 184.21307373046875, 188.86056518554688, 187.60411071777344, 147.85833740234375, 147.76699829101562, 146.90350341796875, 134.51385498046875, 109.53431701660156, 125.97173309326172, 111.30573272705078, 678.4623413085938, 2320.763427734375, 41406.86328125, 16469.599609375, 11331.076171875, 867.3729248046875, 2010.7476806640625, 4477.15625, 4704.84912109375, 7646.6533203125, 6502.349609375, 3113.911865234375, 2247.3369140625, 278.9123840332031, 14017.02734375, 9885.435546875, 4255.04296875, 3043.3818359375, 2672.765869140625, 2511.106689453125, 1376.4095458984375, 1278.267333984375, 1212.0947265625, 957.5101928710938, 860.18994140625, 791.0222778320312, 837.3427734375, 768.6177978515625, 779.250244140625, 783.1446533203125, 685.2691040039062, 686.7449340820312, 602.45947265625, 582.7471313476562, 466.9920654296875, 457.1814880371094, 456.3496398925781, 501.4789733886719, 407.085205078125, 399.3712158203125, 400.9450988769531, 423.50946044921875, 374.31304931640625, 352.3619689941406, 1688.00537109375, 2465.185546875, 3320.537109375, 10023.1611328125, 6902.2607421875, 17071.341796875, 3061.26904296875, 6638.89892578125, 3208.433837890625, 741.0069580078125, 4406.78564453125, 1454.198486328125, 1162.3895263671875, 1054.048583984375, 2539.529296875, 2523.69287109375, 2479.113525390625, 2424.02001953125, 1868.9027099609375, 1865.5377197265625, 1684.8486328125, 1673.0745849609375, 1659.913818359375, 1341.3599853515625, 1254.0303955078125, 1245.5665283203125, 1271.2288818359375, 1224.018798828125, 1102.039794921875, 1077.0860595703125, 1008.29833984375, 947.6713256835938, 897.0634155273438, 900.0104370117188, 883.5269165039062, 1543.689697265625, 818.4872436523438, 802.6849975585938, 772.60009765625, 865.3465576171875, 706.13671875, 706.6302490234375, 703.1572875976562, 690.1935424804688, 2342.252197265625, 742.2655639648438, 1753.8482666015625, 1320.24853515625, 3476.759765625, 4937.54443359375, 1136.4425048828125, 2094.262939453125, 1055.5772705078125, 3632.070556640625, 3423.099365234375, 3385.86962890625, 3275.2666015625, 3103.301513671875, 3098.492431640625, 2733.498779296875, 2051.312255859375, 1721.0438232421875, 1555.392333984375, 1460.2381591796875, 1452.5035400390625, 1209.921630859375, 1153.552978515625, 1162.8902587890625, 1122.5224609375, 993.8699951171875, 969.7840576171875, 934.76318359375, 700.7578125, 702.1095581054688, 663.4544677734375, 661.9750366210938, 641.6690673828125, 640.56884765625, 614.6473999023438, 619.1262817382812, 566.1856689453125, 591.1981201171875, 504.5013122558594, 1076.3170166015625, 3682.680419921875, 785.246826171875, 1426.0113525390625, 713.7806396484375, 752.294677734375, 2884.935546875, 3810.1328125, 985.7842407226562, 773.1817016601562], \"Term\": [\"tionic\", \"abs\", \"csvc\", \"choice\", \"odezva\", \"munkanapokon\", \"perfectkolor\", \"primadonna\", \"exstream\", \"retrofits\", \"bianco\", \"icona\", \"ushaped\", \"thin\", \"elettrico\", \"knife\", \"dunetop\", \"etui\", \"\\ud504\\ub9ac\\ubbf8\\uc5c4\", \"noodle\", \"recipes\", \"pendant\", \"smb\", \"canon\", \"mediasuite\", \"appliances\", \"e\\ubcf5\\ud569\\uae30\", \"projectors\", \"zap\", \"planning\", \"ushaped\", \"mediasuite\", \"planning\", \"form\", \"bgn\", \"stanice\", \"mobiele\", \"category\", \"posterpapier\", \"cableskvm\", \"dial\", \"exclude\", \"cruzer\", \"wf\", \"qled\", \"gr\\u00e1ficos\", \"lounge\", \"mains\", \"together\", \"hiiri\", \"texstyle\", \"toolkit\", \"function\", \"gr\\u00e1fica\", \"expansi\\u00f3n\", \"nomad\", \"controllers\", \"multicharger\", \"casserole\", \"puts\", \"voltaire\", \"point\", \"feature\", \"surroundcook\", \"slimfit\", \"pendant\", \"abs\", \"perfectkolor\", \"primadonna\", \"retrofits\", \"bianco\", \"thin\", \"zap\", \"venezia\", \"gen\", \"burghley\", \"grass\", \"liftoff\", \"pan\", \"headphonesaccessories\", \"boombar\", \"reversible\", \"kannettava\", \"trifold\", \"feedertray\", \"feeders\", \"\\u0637\\u0628\\u0627\\u0639\\u0629\", \"kozo\", \"hifi\", \"dimms\", \"emea\", \"vapor\", \"platsen\", \"idp\", \"balm\", \"exprelia\", \"sale\", \"dxa\", \"tionic\", \"choice\", \"munkanapokon\", \"nex\", \"hdx\", \"noodle\", \"exstream\", \"icona\", \"pendant\", \"projectors\", \"centre\", \"solution\", \"csvc\", \"odezva\", \"dunetop\", \"originales\", \"\\u0446\\u0435\\u043b\\u0435\\u0439\", \"noteszg\\u00e9p\", \"clario\", \"scan\", \"recline\", \"elsa\", \"modelo\", \"splashproof\", \"dashcam\", \"minihdmi\", \"thermoresist\", \"commercialdisplay\", \"afc\", \"layout\", \"pipe\", \"mah\", \"browser\", \"rts\", \"moss\", \"\\u5c0f\\u65f6\\u5145\\u7535\", \"sobretens\\u00e3o\", \"duplexer\", \"internet\", \"ryos\", \"porter\", \"recovery\", \"gor\", \"stedet\", \"centre\", \"choice\", \"munkanapokon\", \"tionic\", \"projectors\", \"icona\", \"noodle\", \"sfm\", \"pendant\", \"glissette\", \"soho\", \"blackcyanmagentayellow\", \"colecci\\u00f3n\", \"fixe\", \"ultraplat\", \"hdcf\", \"lp\", \"vita\", \"interchangeablelens\", \"mixed\", \"included\", \"batterie\", \"ltf\", \"qline\", \"trim\", \"pivoting\", \"thunderbolt\", \"kegs\", \"\\u043c\\u043e\\u0431\\u0438\\u043b\\u044c\\u043d\\u0430\\u044f\", \"silvervision\", \"wake\", \"lifx\", \"pendantschandeliers\", \"woods\", \"de\", \"galileo\", \"masticating\", \"site\", \"garment\", \"walnut\", \"ultranarrow\", \"health\", \"attilio\", \"bateria\", \"echo\", \"exch\", \"appliances\", \"exstream\", \"scuba\", \"tionic\", \"tesco\", \"elettrico\", \"etui\", \"\\ud504\\ub9ac\\ubbf8\\uc5c4\", \"recipes\", \"smb\", \"canon\", \"e\\ubcf5\\ud569\\uae30\", \"kablosuz\", \"max\", \"globe\", \"sim\", \"client\", \"reflex\", \"sp\\u00e9ciale\", \"professionelt\", \"calculators\", \"roboticsdefault\", \"bdr\", \"dmr\", \"lab\", \"banks\", \"pad\", \"highresolution\", \"stripe\", \"gbr\", \"indesitdefault\", \"hidden\", \"polarising\", \"routers\", \"muis\", \"\\u5347\\u7ea7\\u53cc\\u5c42\\u5200\\u7247\\u6d6e\\u52a8\\u5200\\u5934\", \"knife\", \"traditional\", \"appenabled\", \"hintergrundbeleuchtung\", \"promo\", \"icona\", \"tionic\", \"soho\", \"tesco\"], \"Total\": [64382.0, 18618.0, 14018.0, 26493.0, 9886.0, 18234.0, 9172.0, 9067.0, 9757.0, 6601.0, 5987.0, 18057.0, 6567.0, 5044.0, 3633.0, 3804.0, 4256.0, 3424.0, 3386.0, 7686.0, 3276.0, 15209.0, 3104.0, 3099.0, 4522.0, 4496.0, 2734.0, 6177.0, 3773.0, 4323.0, 6567.77001953125, 4522.8310546875, 4323.2197265625, 3890.91064453125, 3386.8466796875, 2928.286376953125, 2819.43212890625, 2754.516845703125, 2382.942138671875, 2233.80224609375, 2022.7237548828125, 2038.619140625, 2042.2381591796875, 1992.206787109375, 1860.497802734375, 1746.74365234375, 1731.81396484375, 1736.888916015625, 1678.0003662109375, 1628.7625732421875, 1604.89697265625, 1457.5040283203125, 1400.5047607421875, 1386.5494384765625, 1304.0423583984375, 1267.1851806640625, 1218.6510009765625, 1218.093994140625, 1154.5445556640625, 1131.1480712890625, 2009.8487548828125, 2456.095458984375, 2843.435302734375, 2662.001953125, 2591.659912109375, 15209.6005859375, 18618.548828125, 9172.2529296875, 9067.2529296875, 6601.37548828125, 5987.048828125, 5044.8701171875, 3773.444091796875, 3123.822998046875, 2185.8173828125, 1090.5972900390625, 1000.4447631835938, 916.4697265625, 881.0858154296875, 510.526123046875, 348.01953125, 306.85968017578125, 271.08831787109375, 265.1866760253906, 234.33670043945312, 203.19186401367188, 185.2397003173828, 189.9285125732422, 188.67327880859375, 148.88478088378906, 148.7931671142578, 147.93984985351562, 135.5349578857422, 110.55531311035156, 127.26775360107422, 112.46076965332031, 706.9655151367188, 2877.19677734375, 64382.76953125, 26493.517578125, 18234.08984375, 1088.13916015625, 3010.610107421875, 7686.3447265625, 9757.29296875, 18057.7265625, 15209.6005859375, 6177.685546875, 5568.62890625, 343.1787109375, 14018.033203125, 9886.4443359375, 4256.04833984375, 3044.38720703125, 2673.777587890625, 2512.112060546875, 1377.431396484375, 1279.2808837890625, 1213.1978759765625, 958.5743408203125, 861.1949462890625, 792.0274047851562, 838.4320678710938, 769.6317749023438, 780.2849731445312, 784.2081298828125, 686.2793579101562, 687.8336181640625, 603.474365234375, 583.7659301757812, 468.00079345703125, 458.2068786621094, 457.37896728515625, 502.6723327636719, 408.0887756347656, 400.3747253417969, 401.9779968261719, 424.6522216796875, 375.33282470703125, 353.3670349121094, 1972.239501953125, 3106.883056640625, 5568.62890625, 26493.517578125, 18234.08984375, 64382.76953125, 6177.685546875, 18057.7265625, 7686.3447265625, 924.7619018554688, 15209.6005859375, 2843.388671875, 2148.86083984375, 2261.3779296875, 2540.5390625, 2524.701904296875, 2480.12060546875, 2425.043212890625, 1869.910888671875, 1866.5474853515625, 1685.8594970703125, 1674.0960693359375, 1660.9354248046875, 1342.369140625, 1255.0386962890625, 1246.57421875, 1272.2598876953125, 1225.0272216796875, 1103.0521240234375, 1078.0968017578125, 1009.3087158203125, 948.6785888671875, 898.0724487304688, 901.0427856445312, 884.5440063476562, 1545.505859375, 819.4945678710938, 803.6925659179688, 773.607666015625, 866.5792236328125, 707.1458129882812, 707.6426391601562, 704.1756591796875, 691.2008666992188, 2355.021728515625, 743.394287109375, 1797.5958251953125, 1443.17822265625, 4496.69091796875, 9757.29296875, 1766.93994140625, 64382.76953125, 3727.30029296875, 3633.025390625, 3424.054931640625, 3386.826416015625, 3276.2294921875, 3104.25732421875, 3099.44873046875, 2734.465087890625, 2052.266845703125, 1722.002197265625, 1556.3480224609375, 1461.1934814453125, 1453.465576171875, 1210.8939208984375, 1154.5076904296875, 1163.87548828125, 1123.4793701171875, 994.826416015625, 970.7385864257812, 935.75244140625, 701.71435546875, 703.0762939453125, 664.4212036132812, 662.9451904296875, 642.6235961914062, 641.5233154296875, 615.6060180664062, 620.1017456054688, 567.1410522460938, 592.2588500976562, 505.4580993652344, 1078.6656494140625, 3804.217041015625, 797.3598022460938, 1548.148193359375, 776.9119262695312, 870.4088134765625, 18057.7265625, 64382.76953125, 2148.86083984375, 3727.30029296875], \"loglift\": [30.0, 29.0, 28.0, 27.0, 26.0, 25.0, 24.0, 23.0, 22.0, 21.0, 20.0, 19.0, 18.0, 17.0, 16.0, 15.0, 14.0, 13.0, 12.0, 11.0, 10.0, 9.0, 8.0, 7.0, 6.0, 5.0, 4.0, 3.0, 2.0, 1.0, 1.242400050163269, 1.242300033569336, 1.242300033569336, 1.242300033569336, 1.2422000169754028, 1.2422000169754028, 1.2422000169754028, 1.2422000169754028, 1.2421000003814697, 1.2421000003814697, 1.2419999837875366, 1.2419999837875366, 1.2419999837875366, 1.2419999837875366, 1.2419999837875366, 1.2418999671936035, 1.2418999671936035, 1.2418999671936035, 1.2418999671936035, 1.2418999671936035, 1.2418999671936035, 1.2417999505996704, 1.2417999505996704, 1.2417999505996704, 1.2417000532150269, 1.2417000532150269, 1.2417000532150269, 1.2417000532150269, 1.2416000366210938, 1.2416000366210938, 1.2166999578475952, 1.1287000179290771, 1.0404000282287598, 0.9882000088691711, 0.9968000054359436, -0.020800000056624413, 1.4483000040054321, 1.448199987411499, 1.448199987411499, 1.448199987411499, 1.448199987411499, 1.448199987411499, 1.448099970817566, 1.4479999542236328, 1.4479000568389893, 1.4473999738693237, 1.4472999572753906, 1.4471999406814575, 1.4471999406814575, 1.4460999965667725, 1.4453999996185303, 1.4449000358581543, 1.444599986076355, 1.4443999528884888, 1.444000005722046, 1.4433000087738037, 1.4428000450134277, 1.4427000284194946, 1.4427000284194946, 1.4414000511169434, 1.4414000511169434, 1.4413000345230103, 1.4407999515533447, 1.4391000270843506, 1.438099980354309, 1.437999963760376, 1.4071999788284302, 1.2333999872207642, 1.0069999694824219, 0.9729999899864197, 0.972599983215332, 1.22160005569458, 1.044700026512146, 0.9078999757766724, 0.7189000248908997, 0.5891000032424927, 0.5985999703407288, 0.7633000016212463, 0.5410000085830688, 1.2410000562667847, 1.67739999294281, 1.67739999294281, 1.6771999597549438, 1.6770999431610107, 1.6770999431610107, 1.6770999431610107, 1.6766999959945679, 1.6766999959945679, 1.6765999794006348, 1.6763999462127686, 1.676300048828125, 1.676200032234192, 1.676200032234192, 1.6761000156402588, 1.6761000156402588, 1.6761000156402588, 1.6759999990463257, 1.6758999824523926, 1.6757999658584595, 1.6756999492645264, 1.6753000020980835, 1.6751999855041504, 1.6751999855041504, 1.6750999689102173, 1.6749999523162842, 1.6749999523162842, 1.6749000549316406, 1.6748000383377075, 1.6747000217437744, 1.6746000051498413, 1.5218000411987305, 1.4460999965667725, 1.1604000329971313, 0.7055000066757202, 0.7059999704360962, 0.3499999940395355, 0.9753999710083008, 0.676800012588501, 0.8037999868392944, 1.455899953842163, 0.43869999051094055, 1.0068999528884888, 1.062999963760376, 0.9140999913215637, 1.8636000156402588, 1.8636000156402588, 1.8636000156402588, 1.8636000156402588, 1.8633999824523926, 1.8633999824523926, 1.8633999824523926, 1.8633999824523926, 1.8633999824523926, 1.8631999492645264, 1.8631999492645264, 1.8631999492645264, 1.8631999492645264, 1.8631999492645264, 1.8631000518798828, 1.8630000352859497, 1.8630000352859497, 1.8629000186920166, 1.8629000186920166, 1.8628000020980835, 1.8628000020980835, 1.8628000020980835, 1.8628000020980835, 1.8626999855041504, 1.8626999855041504, 1.8625999689102173, 1.8625999689102173, 1.8625999689102173, 1.8624999523162842, 1.8624999523162842, 1.8586000204086304, 1.8624999523162842, 1.839400053024292, 1.774999976158142, 1.6066999435424805, 1.182800054550171, 1.4226000308990479, -1.5616999864578247, 0.602400004863739, 2.0058999061584473, 2.0058999061584473, 2.0058999061584473, 2.0058999061584473, 2.0058000087738037, 2.0058000087738037, 2.0058000087738037, 2.00570011138916, 2.0055999755859375, 2.005500078201294, 2.005500078201294, 2.005500078201294, 2.0053999423980713, 2.0053000450134277, 2.0053000450134277, 2.0053000450134277, 2.005199909210205, 2.005199909210205, 2.0051000118255615, 2.0048000812530518, 2.0048000812530518, 2.004699945449829, 2.004699945449829, 2.004699945449829, 2.004699945449829, 2.0046000480651855, 2.0046000480651855, 2.004499912261963, 2.0044000148773193, 2.004300117492676, 2.003999948501587, 1.9737000465393066, 1.9908000230789185, 1.9240000247955322, 1.9213999509811401, 1.8602999448776245, 0.1720999926328659, -0.8209999799728394, 1.2268999814987183, 0.43320000171661377], \"logprob\": [30.0, 29.0, 28.0, 27.0, 26.0, 25.0, 24.0, 23.0, 22.0, 21.0, 20.0, 19.0, 18.0, 17.0, 16.0, 15.0, 14.0, 13.0, 12.0, 11.0, 10.0, 9.0, 8.0, 7.0, 6.0, 5.0, 4.0, 3.0, 2.0, 1.0, -3.5176000595092773, -3.890700101852417, -3.935800075531006, -4.041200160980225, -4.179999828338623, -4.325500011444092, -4.363399982452393, -4.38670015335083, -4.531700134277344, -4.596399784088135, -4.695700168609619, -4.68779993057251, -4.686100006103516, -4.710899829864502, -4.779300212860107, -4.84250020980835, -4.85099983215332, -4.848100185394287, -4.882599830627441, -4.912399768829346, -4.927199840545654, -5.023600101470947, -5.063499927520752, -5.073599815368652, -5.135000228881836, -5.163599967956543, -5.202700138092041, -5.203199863433838, -5.256800174713135, -5.277299880981445, -4.727399826049805, -4.6149001121521, -4.556700229644775, -4.674799919128418, -4.692999839782715, -3.940999984741211, -2.269700050354004, -2.9776999950408936, -2.9892001152038574, -3.3066999912261963, -3.404400110244751, -3.5755999088287354, -3.8661000728607178, -4.055099964141846, -4.412300109863281, -5.107999801635742, -5.194399833679199, -5.282100200653076, -5.321599960327148, -5.868299961090088, -6.252299785614014, -6.378600120544434, -6.502900123596191, -6.525000095367432, -6.649199962615967, -6.792399883270264, -6.885499954223633, -6.860499858856201, -6.867199897766113, -7.105299949645996, -7.105899810791016, -7.111800193786621, -7.199900150299072, -7.405300140380859, -7.265500068664551, -7.3892998695373535, -5.581699848175049, -4.351900100708008, -1.4702999591827393, -2.3922998905181885, -2.766200065612793, -5.336100101470947, -4.495299816131592, -3.6947999000549316, -3.64520001411438, -3.1594998836517334, -3.3215999603271484, -4.0578999519348145, -4.383999824523926, -6.470600128173828, -2.324399948120117, -2.6735999584198, -3.5165998935699463, -3.8517000675201416, -3.981600046157837, -4.044000148773193, -4.645199775695801, -4.719200134277344, -4.772299766540527, -5.0081000328063965, -5.115300178527832, -5.199100017547607, -5.142199993133545, -5.227799892425537, -5.214099884033203, -5.209099769592285, -5.342599868774414, -5.3404998779296875, -5.471399784088135, -5.504700183868408, -5.726099967956543, -5.747399806976318, -5.749199867248535, -5.654900074005127, -5.863399982452393, -5.882500171661377, -5.878600120544434, -5.82390022277832, -5.947299957275391, -6.007800102233887, -4.441100120544434, -4.062399864196777, -3.7646000385284424, -2.6598000526428223, -3.0327999591827393, -2.1273000240325928, -3.845900058746338, -3.071700096130371, -3.7988998889923096, -5.264400005340576, -3.4814999103546143, -4.590199947357178, -4.814199924468994, -4.9120001792907715, -3.8461999893188477, -3.852400064468384, -3.870300054550171, -3.892699956893921, -4.1528000831604, -4.154600143432617, -4.256499767303467, -4.263500213623047, -4.271399974822998, -4.484499931335449, -4.551799774169922, -4.558599948883057, -4.5381999015808105, -4.576000213623047, -4.681000232696533, -4.70389986038208, -4.769899845123291, -4.831900119781494, -4.8867998123168945, -4.883500099182129, -4.9019999504089355, -4.343999862670898, -4.978499889373779, -4.998000144958496, -5.036200046539307, -4.922800064086914, -5.126100063323975, -5.125400066375732, -5.130300045013428, -5.148900032043457, -3.9270999431610107, -5.076200008392334, -4.216400146484375, -4.50029993057251, -3.532099962234497, -3.181299924850464, -4.650300025939941, -4.039000034332275, -4.724100112915039, -3.3461999893188477, -3.405400037765503, -3.4163999557495117, -3.4495999813079834, -3.503499984741211, -3.5051000118255615, -3.6303999423980713, -3.9175000190734863, -4.093100070953369, -4.194300174713135, -4.257400035858154, -4.262700080871582, -4.445400238037109, -4.493100166320801, -4.485099792480469, -4.520400047302246, -4.642099857330322, -4.6666998863220215, -4.703499794006348, -4.991600036621094, -4.989699840545654, -5.046299934387207, -5.048500061035156, -5.079699993133545, -5.081399917602539, -5.122700214385986, -5.1153998374938965, -5.204800128936768, -5.161600112915039, -5.320199966430664, -4.562399864196777, -3.33240008354187, -4.877799987792969, -4.281099796295166, -4.973199844360352, -4.920599937438965, -3.5764999389648438, -3.29830002784729, -4.650300025939941, -4.893199920654297]}, \"token.table\": {\"Topic\": [2, 3, 1, 5, 1, 3, 4, 5, 1, 4, 2, 5, 4, 4, 5, 1, 2, 1, 3, 2, 3, 2, 1, 5, 5, 1, 1, 2, 3, 2, 3, 3, 5, 4, 3, 1, 1, 3, 3, 4, 1, 2, 5, 3, 3, 2, 3, 1, 4, 5, 3, 2, 5, 3, 4, 1, 1, 2, 2, 3, 4, 5, 1, 3, 2, 2, 4, 1, 1, 4, 4, 5, 2, 1, 3, 4, 5, 3, 4, 2, 1, 1, 4, 2, 3, 4, 2, 4, 5, 2, 5, 1, 1, 5, 1, 2, 3, 5, 2, 4, 5, 4, 3, 5, 2, 4, 4, 5, 2, 5, 3, 2, 4, 1, 4, 4, 3, 1, 4, 5, 1, 3, 4, 1, 3, 3, 5, 1, 2, 3, 2, 4, 1, 2, 3, 3, 3, 3, 5, 2, 1, 2, 3, 4, 2, 3, 4, 1, 2, 1, 3, 5, 3, 1, 2, 5, 2, 3, 5, 4, 5, 1, 1, 4, 5, 3, 3, 5, 2, 2, 5, 5, 3, 3, 1, 2, 3, 3, 4, 5, 1, 3, 4, 4, 5, 4, 1, 4, 5, 5, 3, 3, 5, 2, 4, 3, 5, 1, 1, 3, 5, 5, 1, 5, 1, 3, 4, 5, 1, 3, 2, 4, 2, 3, 4, 5, 1, 1, 1, 5, 2, 4, 4, 4, 1, 2, 2, 4, 1, 3, 4, 4, 1, 4, 5, 2, 4, 3, 2, 4, 5, 3, 5], \"Freq\": [0.9999704957008362, 0.9981358051300049, 0.07815789431333542, 0.9211004376411438, 0.1576714962720871, 0.0004447715182323009, 0.7732352614402771, 0.06871719658374786, 0.005095494445413351, 0.9944706559181213, 0.9900386929512024, 0.9984691739082336, 0.9981244206428528, 0.9989800453186035, 0.9992391467094421, 0.999750018119812, 0.9998248219490051, 0.5333031415939331, 0.4660875201225281, 0.9970704913139343, 0.9978615641593933, 0.9994523525238037, 0.9996408820152283, 0.999573290348053, 0.9995325803756714, 0.9986621737480164, 0.9994493126869202, 0.4035104513168335, 0.5963765978813171, 0.6216614842414856, 0.3783189654350281, 0.9989607930183411, 0.999679684638977, 0.9997878074645996, 0.9984593987464905, 0.999465823173523, 0.9993937015533447, 0.9999262690544128, 0.9982919692993164, 0.9981762170791626, 0.9996421933174133, 0.994057297706604, 0.9991958737373352, 0.9997536540031433, 0.9965664148330688, 0.8066879510879517, 0.19324365258216858, 0.02392083965241909, 0.9757477045059204, 0.9997177720069885, 0.9994008541107178, 0.9946693181991577, 0.999691903591156, 0.0845356434583664, 0.9146479368209839, 0.9996963143348694, 0.9992006421089172, 0.9870108366012573, 0.4822034239768982, 0.011683568358421326, 0.5060830116271973, 0.999464213848114, 0.8169695138931274, 0.18287737667560577, 0.9941343069076538, 0.9942958354949951, 0.9997220039367676, 0.999765932559967, 0.9989255666732788, 0.9991382956504822, 0.998379647731781, 0.999184250831604, 0.9996260404586792, 0.26201131939888, 0.5113616585731506, 0.226490318775177, 0.9991338849067688, 0.8558798432350159, 0.1434917002916336, 0.9985558986663818, 0.998882532119751, 0.9995742440223694, 0.999569833278656, 0.6679708957672119, 0.2291894257068634, 0.10296916216611862, 0.9970107078552246, 0.9982626438140869, 0.9982233047485352, 0.9964315295219421, 0.9985742568969727, 0.9995318055152893, 0.07980312407016754, 0.9190230965614319, 0.04912024736404419, 0.4234752357006073, 0.3676542639732361, 0.15976540744304657, 0.9949770569801331, 0.9994367957115173, 0.9990155696868896, 0.9994902014732361, 0.9975670576095581, 0.999382734298706, 0.9959853887557983, 0.9989826679229736, 0.03180680796504021, 0.9681361317634583, 0.9951112270355225, 0.9989820122718811, 0.998788058757782, 0.9983963370323181, 0.998842716217041, 0.999530017375946, 0.9995128512382507, 0.9991723895072937, 0.9986879229545593, 0.9994882345199585, 0.9992145299911499, 0.9994180202484131, 0.9998162388801575, 0.9991791248321533, 0.9993453025817871, 0.9994920492172241, 0.9986124634742737, 0.9969850778579712, 0.9990937113761902, 0.9991018772125244, 0.6214184761047363, 0.37852177023887634, 0.7967730760574341, 0.20218002796173096, 0.9990647435188293, 0.5824615359306335, 0.4173635244369507, 0.9995573163032532, 0.9998539090156555, 0.9995443224906921, 0.9978609681129456, 0.998767614364624, 0.28271615505218506, 0.427493155002594, 0.28975120186805725, 0.9993849992752075, 0.9998633861541748, 0.9975568652153015, 0.9991614818572998, 0.9997178912162781, 0.9960529804229736, 0.8924734592437744, 0.10748767852783203, 0.9979880452156067, 0.9964489340782166, 0.9996046423912048, 0.9998618364334106, 0.9992477893829346, 0.5040722489356995, 0.49549299478530884, 0.0003237458295188844, 0.13441959023475647, 0.8639618158340454, 0.9989850521087646, 0.9991949200630188, 0.9995393753051758, 0.9996247291564941, 0.9990126490592957, 0.996131420135498, 0.9992617964744568, 0.9997916221618652, 0.9971984624862671, 0.9991692900657654, 0.9978744983673096, 0.9973660707473755, 0.9984641075134277, 0.039605893194675446, 0.9590283632278442, 0.998998761177063, 0.13752590119838715, 0.6429194211959839, 0.2190227210521698, 0.05839340761303902, 0.8012873530387878, 0.1394953727722168, 0.9992846846580505, 0.9991832375526428, 0.9981776475906372, 0.7821242213249207, 0.13157591223716736, 0.08604524284601212, 0.9995949864387512, 0.9973320364952087, 0.5407516360282898, 0.4588477611541748, 0.8129875063896179, 0.18649175763130188, 0.9987028241157532, 0.9995602369308472, 0.9995607137680054, 0.04119884595274925, 0.7933996915817261, 0.16543911397457123, 0.9990296363830566, 0.7753562927246094, 0.22426730394363403, 0.3471681773662567, 0.16231587529182434, 0.283314973115921, 0.2073887139558792, 0.9994410872459412, 0.9983531832695007, 0.99982750415802, 0.9990461468696594, 0.6431379318237305, 0.2651485800743103, 0.0325242280960083, 0.059177324175834656, 0.9994038343429565, 0.9989680647850037, 0.013795528560876846, 0.9844990968704224, 0.9955251216888428, 0.9990097284317017, 0.9983304738998413, 0.9995481371879578, 0.9998827576637268, 0.9936470985412598, 0.9997365474700928, 0.9997066855430603, 0.9742026329040527, 0.025375043973326683, 0.998805820941925, 0.9990918636322021, 0.9993942379951477, 0.9990256428718567, 0.0006470373482443392, 0.9996172785758972, 0.9987033605575562, 0.9997091889381409, 0.9933075904846191, 0.0009270713198930025, 0.9975287318229675, 0.9966731071472168, 0.9997559785842896], \"Term\": [\"abs\", \"afc\", \"appenabled\", \"appenabled\", \"appliances\", \"appliances\", \"appliances\", \"appliances\", \"attilio\", \"attilio\", \"balm\", \"banks\", \"bateria\", \"batterie\", \"bdr\", \"bgn\", \"bianco\", \"blackcyanmagentayellow\", \"blackcyanmagentayellow\", \"boombar\", \"browser\", \"burghley\", \"cableskvm\", \"calculators\", \"canon\", \"casserole\", \"category\", \"centre\", \"centre\", \"choice\", \"choice\", \"clario\", \"client\", \"colecci\\u00f3n\", \"commercialdisplay\", \"controllers\", \"cruzer\", \"csvc\", \"dashcam\", \"de\", \"dial\", \"dimms\", \"dmr\", \"dunetop\", \"duplexer\", \"dxa\", \"dxa\", \"echo\", \"echo\", \"elettrico\", \"elsa\", \"emea\", \"etui\", \"exch\", \"exch\", \"exclude\", \"expansi\\u00f3n\", \"exprelia\", \"exstream\", \"exstream\", \"exstream\", \"e\\ubcf5\\ud569\\uae30\", \"feature\", \"feature\", \"feeders\", \"feedertray\", \"fixe\", \"form\", \"function\", \"galileo\", \"garment\", \"gbr\", \"gen\", \"glissette\", \"glissette\", \"glissette\", \"globe\", \"gor\", \"gor\", \"grass\", \"gr\\u00e1fica\", \"gr\\u00e1ficos\", \"hdcf\", \"hdx\", \"hdx\", \"hdx\", \"headphonesaccessories\", \"health\", \"hidden\", \"hifi\", \"highresolution\", \"hiiri\", \"hintergrundbeleuchtung\", \"hintergrundbeleuchtung\", \"icona\", \"icona\", \"icona\", \"icona\", \"idp\", \"included\", \"indesitdefault\", \"interchangeablelens\", \"internet\", \"kablosuz\", \"kannettava\", \"kegs\", \"knife\", \"knife\", \"kozo\", \"lab\", \"layout\", \"liftoff\", \"lifx\", \"lounge\", \"lp\", \"ltf\", \"mah\", \"mains\", \"masticating\", \"max\", \"mediasuite\", \"minihdmi\", \"mixed\", \"mobiele\", \"modelo\", \"moss\", \"muis\", \"multicharger\", \"munkanapokon\", \"munkanapokon\", \"nex\", \"nex\", \"nomad\", \"noodle\", \"noodle\", \"noteszg\\u00e9p\", \"odezva\", \"originales\", \"pad\", \"pan\", \"pendant\", \"pendant\", \"pendant\", \"pendantschandeliers\", \"perfectkolor\", \"pipe\", \"pivoting\", \"planning\", \"platsen\", \"point\", \"point\", \"polarising\", \"porter\", \"posterpapier\", \"primadonna\", \"professionelt\", \"projectors\", \"projectors\", \"projectors\", \"promo\", \"promo\", \"puts\", \"qled\", \"qline\", \"recipes\", \"recline\", \"recovery\", \"reflex\", \"retrofits\", \"reversible\", \"roboticsdefault\", \"routers\", \"rts\", \"ryos\", \"sale\", \"sale\", \"scan\", \"scuba\", \"scuba\", \"scuba\", \"sfm\", \"sfm\", \"sfm\", \"silvervision\", \"sim\", \"site\", \"slimfit\", \"slimfit\", \"slimfit\", \"smb\", \"sobretens\\u00e3o\", \"soho\", \"soho\", \"solution\", \"solution\", \"splashproof\", \"sp\\u00e9ciale\", \"stanice\", \"stedet\", \"stedet\", \"stedet\", \"stripe\", \"surroundcook\", \"surroundcook\", \"tesco\", \"tesco\", \"tesco\", \"tesco\", \"texstyle\", \"thermoresist\", \"thin\", \"thunderbolt\", \"tionic\", \"tionic\", \"tionic\", \"tionic\", \"together\", \"toolkit\", \"traditional\", \"traditional\", \"trifold\", \"trim\", \"ultranarrow\", \"ultraplat\", \"ushaped\", \"vapor\", \"venezia\", \"vita\", \"voltaire\", \"voltaire\", \"wake\", \"walnut\", \"wf\", \"woods\", \"woods\", \"zap\", \"\\u043c\\u043e\\u0431\\u0438\\u043b\\u044c\\u043d\\u0430\\u044f\", \"\\u0446\\u0435\\u043b\\u0435\\u0439\", \"\\u0637\\u0628\\u0627\\u0639\\u0629\", \"\\u5347\\u7ea7\\u53cc\\u5c42\\u5200\\u7247\\u6d6e\\u52a8\\u5200\\u5934\", \"\\u5347\\u7ea7\\u53cc\\u5c42\\u5200\\u7247\\u6d6e\\u52a8\\u5200\\u5934\", \"\\u5c0f\\u65f6\\u5145\\u7535\", \"\\ud504\\ub9ac\\ubbf8\\uc5c4\"]}, \"R\": 30, \"lambda.step\": 0.01, \"plot.opts\": {\"xlab\": \"PC1\", \"ylab\": \"PC2\"}, \"topic.order\": [2, 1, 4, 5, 3]};\n",
       "\n",
       "function LDAvis_load_lib(url, callback){\n",
       "  var s = document.createElement('script');\n",
       "  s.src = url;\n",
       "  s.async = true;\n",
       "  s.onreadystatechange = s.onload = callback;\n",
       "  s.onerror = function(){console.warn(\"failed to load library \" + url);};\n",
       "  document.getElementsByTagName(\"head\")[0].appendChild(s);\n",
       "}\n",
       "\n",
       "if(typeof(LDAvis) !== \"undefined\"){\n",
       "   // already loaded: just create the visualization\n",
       "   !function(LDAvis){\n",
       "       new LDAvis(\"#\" + \"ldavis_el232802642230482768437655808\", ldavis_el232802642230482768437655808_data);\n",
       "   }(LDAvis);\n",
       "}else if(typeof define === \"function\" && define.amd){\n",
       "   // require.js is available: use it to load d3/LDAvis\n",
       "   require.config({paths: {d3: \"https://cdnjs.cloudflare.com/ajax/libs/d3/3.5.5/d3.min\"}});\n",
       "   require([\"d3\"], function(d3){\n",
       "      window.d3 = d3;\n",
       "      LDAvis_load_lib(\"https://cdn.rawgit.com/bmabey/pyLDAvis/files/ldavis.v1.0.0.js\", function(){\n",
       "        new LDAvis(\"#\" + \"ldavis_el232802642230482768437655808\", ldavis_el232802642230482768437655808_data);\n",
       "      });\n",
       "    });\n",
       "}else{\n",
       "    // require.js not available: dynamically load d3 & LDAvis\n",
       "    LDAvis_load_lib(\"https://cdnjs.cloudflare.com/ajax/libs/d3/3.5.5/d3.min.js\", function(){\n",
       "         LDAvis_load_lib(\"https://cdn.rawgit.com/bmabey/pyLDAvis/files/ldavis.v1.0.0.js\", function(){\n",
       "                 new LDAvis(\"#\" + \"ldavis_el232802642230482768437655808\", ldavis_el232802642230482768437655808_data);\n",
       "            })\n",
       "         });\n",
       "}\n",
       "</script>"
      ],
      "text/plain": [
       "PreparedData(topic_coordinates=              x         y  topics  cluster       Freq\n",
       "topic                                                \n",
       "1      0.277055 -0.312627       1        1  28.864019\n",
       "0     -0.287928 -0.028059       2        1  23.495544\n",
       "3     -0.255851 -0.067081       3        1  18.684669\n",
       "4      0.187154  0.268880       4        1  15.505306\n",
       "2      0.079570  0.138886       5        1  13.450448, topic_info=     Category          Freq                    Term         Total  loglift  \\\n",
       "2926  Default  64382.000000                  tionic  64382.000000  30.0000   \n",
       "4293  Default  18618.000000                     abs  18618.000000  29.0000   \n",
       "1549  Default  14018.000000                    csvc  14018.000000  28.0000   \n",
       "4542  Default  26493.000000                  choice  26493.000000  27.0000   \n",
       "4540  Default   9886.000000                  odezva   9886.000000  26.0000   \n",
       "4553  Default  18234.000000            munkanapokon  18234.000000  25.0000   \n",
       "3420  Default   9172.000000            perfectkolor   9172.000000  24.0000   \n",
       "7022  Default   9067.000000              primadonna   9067.000000  23.0000   \n",
       "3942  Default   9757.000000                exstream   9757.000000  22.0000   \n",
       "3423  Default   6601.000000               retrofits   6601.000000  21.0000   \n",
       "2964  Default   5987.000000                  bianco   5987.000000  20.0000   \n",
       "5512  Default  18057.000000                   icona  18057.000000  19.0000   \n",
       "6512  Default   6567.000000                 ushaped   6567.000000  18.0000   \n",
       "1967  Default   5044.000000                    thin   5044.000000  17.0000   \n",
       "4873  Default   3633.000000               elettrico   3633.000000  16.0000   \n",
       "4870  Default   3804.000000                   knife   3804.000000  15.0000   \n",
       "2792  Default   4256.000000                 dunetop   4256.000000  14.0000   \n",
       "4074  Default   3424.000000                    etui   3424.000000  13.0000   \n",
       "3498  Default   3386.000000                    프리미엄   3386.000000  12.0000   \n",
       "7024  Default   7686.000000                  noodle   7686.000000  11.0000   \n",
       "4881  Default   3276.000000                 recipes   3276.000000  10.0000   \n",
       "2890  Default  15209.000000                 pendant  15209.000000   9.0000   \n",
       "3429  Default   3104.000000                     smb   3104.000000   8.0000   \n",
       "858   Default   3099.000000                   canon   3099.000000   7.0000   \n",
       "3473  Default   4522.000000              mediasuite   4522.000000   6.0000   \n",
       "22    Default   4496.000000              appliances   4496.000000   5.0000   \n",
       "3492  Default   2734.000000                    e복합기   2734.000000   4.0000   \n",
       "785   Default   6177.000000              projectors   6177.000000   3.0000   \n",
       "7128  Default   3773.000000                     zap   3773.000000   2.0000   \n",
       "4613  Default   4323.000000                planning   4323.000000   1.0000   \n",
       "...       ...           ...                     ...           ...      ...   \n",
       "3430   Topic5   1460.238159                     sim   1461.193481   2.0055   \n",
       "1966   Topic5   1452.503540                  client   1453.465576   2.0055   \n",
       "2538   Topic5   1209.921631                  reflex   1210.893921   2.0054   \n",
       "3501   Topic5   1153.552979                spéciale   1154.507690   2.0053   \n",
       "3852   Topic5   1162.890259           professionelt   1163.875488   2.0053   \n",
       "857    Topic5   1122.522461             calculators   1123.479370   2.0053   \n",
       "7109   Topic5    993.869995         roboticsdefault    994.826416   2.0052   \n",
       "2634   Topic5    969.784058                     bdr    970.738586   2.0052   \n",
       "4352   Topic5    934.763184                     dmr    935.752441   2.0051   \n",
       "4531   Topic5    700.757812                     lab    701.714355   2.0048   \n",
       "5677   Topic5    702.109558                   banks    703.076294   2.0048   \n",
       "307    Topic5    663.454468                     pad    664.421204   2.0047   \n",
       "2165   Topic5    661.975037          highresolution    662.945190   2.0047   \n",
       "120    Topic5    641.669067                  stripe    642.623596   2.0047   \n",
       "3869   Topic5    640.568848                     gbr    641.523315   2.0047   \n",
       "2992   Topic5    614.647400          indesitdefault    615.606018   2.0046   \n",
       "3062   Topic5    619.126282                  hidden    620.101746   2.0046   \n",
       "3122   Topic5    566.185669              polarising    567.141052   2.0045   \n",
       "241    Topic5    591.198120                 routers    592.258850   2.0044   \n",
       "2881   Topic5    504.501312                    muis    505.458099   2.0043   \n",
       "4903   Topic5   1076.317017              升级双层刀片浮动刀头   1078.665649   2.0040   \n",
       "4870   Topic5   3682.680420                   knife   3804.217041   1.9737   \n",
       "804    Topic5    785.246826             traditional    797.359802   1.9908   \n",
       "1598   Topic5   1426.011353              appenabled   1548.148193   1.9240   \n",
       "4218   Topic5    713.780640  hintergrundbeleuchtung    776.911926   1.9214   \n",
       "4619   Topic5    752.294678                   promo    870.408813   1.8603   \n",
       "5512   Topic5   2884.935547                   icona  18057.726562   0.1721   \n",
       "2926   Topic5   3810.132812                  tionic  64382.769531  -0.8210   \n",
       "164    Topic5    985.784241                    soho   2148.860840   1.2269   \n",
       "577    Topic5    773.181702                   tesco   3727.300293   0.4332   \n",
       "\n",
       "      logprob  \n",
       "2926  30.0000  \n",
       "4293  29.0000  \n",
       "1549  28.0000  \n",
       "4542  27.0000  \n",
       "4540  26.0000  \n",
       "4553  25.0000  \n",
       "3420  24.0000  \n",
       "7022  23.0000  \n",
       "3942  22.0000  \n",
       "3423  21.0000  \n",
       "2964  20.0000  \n",
       "5512  19.0000  \n",
       "6512  18.0000  \n",
       "1967  17.0000  \n",
       "4873  16.0000  \n",
       "4870  15.0000  \n",
       "2792  14.0000  \n",
       "4074  13.0000  \n",
       "3498  12.0000  \n",
       "7024  11.0000  \n",
       "4881  10.0000  \n",
       "2890   9.0000  \n",
       "3429   8.0000  \n",
       "858    7.0000  \n",
       "3473   6.0000  \n",
       "22     5.0000  \n",
       "3492   4.0000  \n",
       "785    3.0000  \n",
       "7128   2.0000  \n",
       "4613   1.0000  \n",
       "...       ...  \n",
       "3430  -4.2574  \n",
       "1966  -4.2627  \n",
       "2538  -4.4454  \n",
       "3501  -4.4931  \n",
       "3852  -4.4851  \n",
       "857   -4.5204  \n",
       "7109  -4.6421  \n",
       "2634  -4.6667  \n",
       "4352  -4.7035  \n",
       "4531  -4.9916  \n",
       "5677  -4.9897  \n",
       "307   -5.0463  \n",
       "2165  -5.0485  \n",
       "120   -5.0797  \n",
       "3869  -5.0814  \n",
       "2992  -5.1227  \n",
       "3062  -5.1154  \n",
       "3122  -5.2048  \n",
       "241   -5.1616  \n",
       "2881  -5.3202  \n",
       "4903  -4.5624  \n",
       "4870  -3.3324  \n",
       "804   -4.8778  \n",
       "1598  -4.2811  \n",
       "4218  -4.9732  \n",
       "4619  -4.9206  \n",
       "5512  -3.5765  \n",
       "2926  -3.2983  \n",
       "164   -4.6503  \n",
       "577   -4.8932  \n",
       "\n",
       "[233 rows x 6 columns], token_table=      Topic      Freq                    Term\n",
       "term                                         \n",
       "4293      2  0.999970                     abs\n",
       "6904      3  0.998136                     afc\n",
       "1598      1  0.078158              appenabled\n",
       "1598      5  0.921100              appenabled\n",
       "22        1  0.157671              appliances\n",
       "22        3  0.000445              appliances\n",
       "22        4  0.773235              appliances\n",
       "22        5  0.068717              appliances\n",
       "1742      1  0.005095                 attilio\n",
       "1742      4  0.994471                 attilio\n",
       "4898      2  0.990039                    balm\n",
       "5677      5  0.998469                   banks\n",
       "3653      4  0.998124                 bateria\n",
       "2448      4  0.998980                batterie\n",
       "2634      5  0.999239                     bdr\n",
       "3544      1  0.999750                     bgn\n",
       "2964      2  0.999825                  bianco\n",
       "2030      1  0.533303  blackcyanmagentayellow\n",
       "2030      3  0.466088  blackcyanmagentayellow\n",
       "6351      2  0.997070                 boombar\n",
       "5879      3  0.997862                 browser\n",
       "6166      2  0.999452                burghley\n",
       "252       1  0.999641               cableskvm\n",
       "857       5  0.999573             calculators\n",
       "858       5  0.999533                   canon\n",
       "6782      1  0.998662               casserole\n",
       "100       1  0.999449                category\n",
       "1552      2  0.403510                  centre\n",
       "1552      3  0.596377                  centre\n",
       "4542      2  0.621661                  choice\n",
       "...     ...       ...                     ...\n",
       "2926      3  0.265149                  tionic\n",
       "2926      4  0.032524                  tionic\n",
       "2926      5  0.059177                  tionic\n",
       "7123      1  0.999404                together\n",
       "6242      1  0.998968                 toolkit\n",
       "804       1  0.013796             traditional\n",
       "804       5  0.984499             traditional\n",
       "466       2  0.995525                 trifold\n",
       "1337      4  0.999010                    trim\n",
       "1186      4  0.998330             ultranarrow\n",
       "2514      4  0.999548               ultraplat\n",
       "6512      1  0.999883                 ushaped\n",
       "4877      2  0.993647                   vapor\n",
       "4885      2  0.999737                 venezia\n",
       "2447      4  0.999707                    vita\n",
       "3534      1  0.974203                voltaire\n",
       "3534      3  0.025375                voltaire\n",
       "2460      4  0.998806                    wake\n",
       "6164      4  0.999092                  walnut\n",
       "5712      1  0.999394                      wf\n",
       "5355      4  0.999026                   woods\n",
       "5355      5  0.000647                   woods\n",
       "7128      2  0.999617                     zap\n",
       "3795      4  0.998703               мобильная\n",
       "2041      3  0.999709                   целей\n",
       "3952      2  0.993308                   طباعة\n",
       "4903      4  0.000927              升级双层刀片浮动刀头\n",
       "4903      5  0.997529              升级双层刀片浮动刀头\n",
       "4904      3  0.996673                    小时充电\n",
       "3498      5  0.999756                    프리미엄\n",
       "\n",
       "[243 rows x 3 columns], R=30, lambda_step=0.01, plot_opts={'xlab': 'PC1', 'ylab': 'PC2'}, topic_order=[2, 1, 4, 5, 3])"
      ]
     },
     "execution_count": 168,
     "metadata": {},
     "output_type": "execute_result"
    }
   ],
   "source": [
    "# Now we can visualise the topics distribution and the associated keywords.\n",
    "# Each bubble on the left is a topic model and the chart on the right displays its associated keywords\n",
    "pyLDAvis.enable_notebook()\n",
    "vis = pyLDAvis.gensim.prepare(lda_5, corpus, dictionary)\n",
    "vis"
   ]
  },
  {
   "cell_type": "markdown",
   "metadata": {},
   "source": [
    "# Dominant topic extraction "
   ]
  },
  {
   "cell_type": "code",
   "execution_count": 169,
   "metadata": {},
   "outputs": [],
   "source": [
    "# Now that we have buld 5 topics from the LDA model, lets try assign the most likely topics for each of the product based on their correspnding texts\n",
    "def format_topics_sentences(ldamodel, corpus, texts):\n",
    "    # Init output\n",
    "    sent_topics_df = pd.DataFrame()\n",
    "\n",
    "    # Get main topic in each document\n",
    "    for i, row in enumerate(ldamodel[corpus]):\n",
    "        row = sorted(row, key=lambda x: (x[1]), reverse=True)\n",
    "        # Get the Dominant topic, Perc Contribution and Keywords for each document\n",
    "        for j, (topic_num, prop_topic) in enumerate(row):\n",
    "            if j == 0:  # => dominant topic\n",
    "                wp = ldamodel.show_topic(topic_num)\n",
    "                topic_keywords = \", \".join([word for word, prop in wp])\n",
    "                sent_topics_df = sent_topics_df.append(pd.Series([int(topic_num), round(prop_topic,4), topic_keywords]), ignore_index=True)\n",
    "            else:\n",
    "                break\n",
    "    sent_topics_df.columns = ['Dominant_Topic', 'Perc_Contribution', 'Topic_Keywords']\n",
    "\n",
    "    # Add original text to the end of the output\n",
    "    contents = pd.Series(texts)\n",
    "    sent_topics_df = pd.concat([sent_topics_df, contents], axis=1)\n",
    "    return(sent_topics_df)"
   ]
  },
  {
   "cell_type": "code",
   "execution_count": 170,
   "metadata": {},
   "outputs": [
    {
     "data": {
      "text/html": [
       "<div>\n",
       "<style scoped>\n",
       "    .dataframe tbody tr th:only-of-type {\n",
       "        vertical-align: middle;\n",
       "    }\n",
       "\n",
       "    .dataframe tbody tr th {\n",
       "        vertical-align: top;\n",
       "    }\n",
       "\n",
       "    .dataframe thead th {\n",
       "        text-align: right;\n",
       "    }\n",
       "</style>\n",
       "<table border=\"1\" class=\"dataframe\">\n",
       "  <thead>\n",
       "    <tr style=\"text-align: right;\">\n",
       "      <th></th>\n",
       "      <th>Document_No</th>\n",
       "      <th>Dominant_Topic</th>\n",
       "      <th>Topic_Perc_Contrib</th>\n",
       "      <th>Keywords</th>\n",
       "      <th>Text</th>\n",
       "    </tr>\n",
       "  </thead>\n",
       "  <tbody>\n",
       "    <tr>\n",
       "      <th>0</th>\n",
       "      <td>0</td>\n",
       "      <td>0.0</td>\n",
       "      <td>0.9651</td>\n",
       "      <td>tionic, abs, choice, munkanapokon, perfectkolo...</td>\n",
       "      <td>hp elitebook notebook pc laptops hybrids busin...</td>\n",
       "    </tr>\n",
       "    <tr>\n",
       "      <th>1</th>\n",
       "      <td>1</td>\n",
       "      <td>1.0</td>\n",
       "      <td>0.4001</td>\n",
       "      <td>ushaped, mediasuite, planning, pendant, form, ...</td>\n",
       "      <td>speedlight speedlights</td>\n",
       "    </tr>\n",
       "    <tr>\n",
       "      <th>2</th>\n",
       "      <td>2</td>\n",
       "      <td>1.0</td>\n",
       "      <td>0.9273</td>\n",
       "      <td>ushaped, mediasuite, planning, pendant, form, ...</td>\n",
       "      <td>electrolux cm stainless steel chimney design h...</td>\n",
       "    </tr>\n",
       "    <tr>\n",
       "      <th>3</th>\n",
       "      <td>3</td>\n",
       "      <td>1.0</td>\n",
       "      <td>0.9273</td>\n",
       "      <td>ushaped, mediasuite, planning, pendant, form, ...</td>\n",
       "      <td>electrolux cm stainless steel chimney design h...</td>\n",
       "    </tr>\n",
       "    <tr>\n",
       "      <th>4</th>\n",
       "      <td>4</td>\n",
       "      <td>1.0</td>\n",
       "      <td>0.8400</td>\n",
       "      <td>ushaped, mediasuite, planning, pendant, form, ...</td>\n",
       "      <td>oven electrolux nonstar oven</td>\n",
       "    </tr>\n",
       "    <tr>\n",
       "      <th>5</th>\n",
       "      <td>5</td>\n",
       "      <td>1.0</td>\n",
       "      <td>0.5696</td>\n",
       "      <td>ushaped, mediasuite, planning, pendant, form, ...</td>\n",
       "      <td>canister vc motion sync home appliances vacuum...</td>\n",
       "    </tr>\n",
       "    <tr>\n",
       "      <th>6</th>\n",
       "      <td>6</td>\n",
       "      <td>3.0</td>\n",
       "      <td>0.4549</td>\n",
       "      <td>tionic, csvc, choice, odezva, munkanapokon, ic...</td>\n",
       "      <td>backup plus desk für den mac mit thunderbolt t...</td>\n",
       "    </tr>\n",
       "    <tr>\n",
       "      <th>7</th>\n",
       "      <td>7</td>\n",
       "      <td>2.0</td>\n",
       "      <td>0.4774</td>\n",
       "      <td>tionic, knife, elettrico, etui, 프리미엄, recipes,...</td>\n",
       "      <td>gear wrist watch strap mobile devices accessor...</td>\n",
       "    </tr>\n",
       "    <tr>\n",
       "      <th>8</th>\n",
       "      <td>8</td>\n",
       "      <td>2.0</td>\n",
       "      <td>0.4774</td>\n",
       "      <td>tionic, knife, elettrico, etui, 프리미엄, recipes,...</td>\n",
       "      <td>gear wrist watch strap mobile devices accessor...</td>\n",
       "    </tr>\n",
       "    <tr>\n",
       "      <th>9</th>\n",
       "      <td>9</td>\n",
       "      <td>1.0</td>\n",
       "      <td>0.7996</td>\n",
       "      <td>ushaped, mediasuite, planning, pendant, form, ...</td>\n",
       "      <td>energy rated dishwasher water consumption dish...</td>\n",
       "    </tr>\n",
       "  </tbody>\n",
       "</table>\n",
       "</div>"
      ],
      "text/plain": [
       "   Document_No  Dominant_Topic  Topic_Perc_Contrib  \\\n",
       "0            0             0.0              0.9651   \n",
       "1            1             1.0              0.4001   \n",
       "2            2             1.0              0.9273   \n",
       "3            3             1.0              0.9273   \n",
       "4            4             1.0              0.8400   \n",
       "5            5             1.0              0.5696   \n",
       "6            6             3.0              0.4549   \n",
       "7            7             2.0              0.4774   \n",
       "8            8             2.0              0.4774   \n",
       "9            9             1.0              0.7996   \n",
       "\n",
       "                                            Keywords  \\\n",
       "0  tionic, abs, choice, munkanapokon, perfectkolo...   \n",
       "1  ushaped, mediasuite, planning, pendant, form, ...   \n",
       "2  ushaped, mediasuite, planning, pendant, form, ...   \n",
       "3  ushaped, mediasuite, planning, pendant, form, ...   \n",
       "4  ushaped, mediasuite, planning, pendant, form, ...   \n",
       "5  ushaped, mediasuite, planning, pendant, form, ...   \n",
       "6  tionic, csvc, choice, odezva, munkanapokon, ic...   \n",
       "7  tionic, knife, elettrico, etui, 프리미엄, recipes,...   \n",
       "8  tionic, knife, elettrico, etui, 프리미엄, recipes,...   \n",
       "9  ushaped, mediasuite, planning, pendant, form, ...   \n",
       "\n",
       "                                                Text  \n",
       "0  hp elitebook notebook pc laptops hybrids busin...  \n",
       "1                             speedlight speedlights  \n",
       "2  electrolux cm stainless steel chimney design h...  \n",
       "3  electrolux cm stainless steel chimney design h...  \n",
       "4                       oven electrolux nonstar oven  \n",
       "5  canister vc motion sync home appliances vacuum...  \n",
       "6  backup plus desk für den mac mit thunderbolt t...  \n",
       "7  gear wrist watch strap mobile devices accessor...  \n",
       "8  gear wrist watch strap mobile devices accessor...  \n",
       "9  energy rated dishwasher water consumption dish...  "
      ]
     },
     "execution_count": 170,
     "metadata": {},
     "output_type": "execute_result"
    }
   ],
   "source": [
    "# extract the keywords\n",
    "df_topic_sents_keywords = format_topics_sentences(ldamodel=lda_5, corpus=corpus, texts=prod_Ncats['tokens'])\n",
    "\n",
    "# Format\n",
    "df_dominant_topic = df_topic_sents_keywords.reset_index()\n",
    "df_dominant_topic.columns = ['Document_No', 'Dominant_Topic', 'Topic_Perc_Contrib', 'Keywords', 'Text']\n",
    "\n",
    "# Show\n",
    "df_dominant_topic.head(10)"
   ]
  },
  {
   "cell_type": "markdown",
   "metadata": {},
   "source": [
    "# Topic detection automatically"
   ]
  },
  {
   "cell_type": "code",
   "execution_count": 200,
   "metadata": {
    "scrolled": false
   },
   "outputs": [
    {
     "data": {
      "text/plain": [
       "[(0,\n",
       "  '0.175*tionic + 0.113*choice + 0.079*abs + 0.046*icona + 0.040*odezva + 0.034*munkanapokon + 0.031*csvc + 0.025*globe + 0.019*venezia + 0.019*thin + 0.019*primadonna + 0.018*pendant + 0.013*hdcf + 0.013*mixed + 0.013*included + 0.013*perfectkolor + 0.012*dxa + 0.012*hdx + 0.011*retrofits + 0.011*noodle'),\n",
       " (1,\n",
       "  '0.139*tionic + 0.042*knife + 0.041*interchangeablelens + 0.039*de + 0.034*sim + 0.032*masticating + 0.030*icona + 0.029*elettrico + 0.026*smb + 0.020*etui + 0.020*max + 0.018*boombar + 0.013*floating + 0.012*designed + 0.012*choice + 0.011*tesco + 0.011*soho + 0.009*wqhd + 0.009*let + 0.008*cct'),\n",
       " (2,\n",
       "  '0.038*bgn + 0.029*form + 0.028*planning + 0.028*gráficos + 0.023*mediasuite + 0.018*function + 0.016*ethernetmodul + 0.014*powder + 0.014*быстросохнущая + 0.011*surroundcook + 0.010*brilhante + 0.009*pendant + 0.009*packed + 0.009*puts + 0.008*avengers + 0.008*denim + 0.008*autoloader + 0.007*cool + 0.007*tionic + 0.007*controllers'),\n",
       " (3,\n",
       "  '0.047*ushaped + 0.031*tionic + 0.030*mobiele + 0.021*mediasuite + 0.021*stanice + 0.021*wk + 0.020*planning + 0.018*hiiri + 0.017*icona + 0.014*point + 0.012*choice + 0.012*form + 0.011*dial + 0.011*nomad + 0.011*voltaire + 0.010*pendant + 0.009*slimfit + 0.009*toolkit + 0.009*wf + 0.008*cleansing'),\n",
       " (4,\n",
       "  '0.021*feature + 0.014*planning + 0.014*pendant + 0.014*philips + 0.013*voltaire + 0.010*texstyle + 0.010*tionic + 0.010*form + 0.009*blackcyanmagentayellow + 0.009*multicharger + 0.009*stream + 0.008*bgn + 0.008*dordinateur + 0.008*glissette + 0.008*casserole + 0.007*appliances + 0.007*ushaped + 0.006*flatbed + 0.006*dwt + 0.005*avengers'),\n",
       " (5,\n",
       "  '0.064*tionic + 0.044*dsr + 0.037*giorno + 0.036*opening + 0.034*bmf + 0.030*advanced + 0.028*financial + 0.028*projectors + 0.012*kbz + 0.011*uhdmonitor + 0.011*shipper + 0.011*gs + 0.006*coffe + 0.006*choice + 0.006*cool + 0.005*sim + 0.004*abs + 0.004*warmer + 0.003*icona + 0.003*chicken'),\n",
       " (6,\n",
       "  '0.035*tionic + 0.033*dunetop + 0.013*choice + 0.012*voltaire + 0.009*abs + 0.008*form + 0.008*planning + 0.008*icona + 0.007*exstream + 0.007*blackcyanmagentayellow + 0.007*echo + 0.007*modelo + 0.006*interchangeablelens + 0.006*scuba + 0.006*мобильная + 0.006*appliances + 0.006*glissette + 0.005*splashproof + 0.005*pivoting + 0.005*delay'),\n",
       " (7,\n",
       "  '0.027*lounge + 0.016*tionic + 0.012*luxeon + 0.008*planning + 0.008*form + 0.007*mobileaccessory + 0.007*icona + 0.007*karcherdefault + 0.007*cool + 0.007*voltaire + 0.007*cableskvm + 0.006*choice + 0.006*种口味的咖啡 + 0.006*popular + 0.006*tracker + 0.006*units + 0.005*многофункциональный + 0.005*bds + 0.005*abs + 0.005*компактный'),\n",
       " (8,\n",
       "  '0.027*tionic + 0.026*exstream + 0.017*appliances + 0.012*ultraplat + 0.010*choice + 0.008*lp + 0.008*qline + 0.007*abs + 0.007*exch + 0.007*ltf + 0.007*icona + 0.005*ltu + 0.004*primadonna + 0.004*cloud + 0.004*odezva + 0.003*pendant + 0.003*csvc + 0.003*mediasuite + 0.003*walnut + 0.003*munkanapokon'),\n",
       " (9,\n",
       "  '0.017*tionic + 0.014*qled + 0.009*expansión + 0.008*cableskvm + 0.007*choice + 0.007*gráfica + 0.005*abs + 0.005*icona + 0.005*planning + 0.004*form + 0.004*vermillion + 0.004*pendant + 0.004*cars + 0.003*mediasuite + 0.003*voltaire + 0.003*appliances + 0.003*mealtime + 0.003*stropní + 0.003*coolers + 0.002*bgn'),\n",
       " (10,\n",
       "  '0.021*tionic + 0.011*category + 0.009*choice + 0.007*exclude + 0.006*abs + 0.006*icona + 0.005*cruzer + 0.005*together + 0.005*colección + 0.004*point + 0.004*mains + 0.004*pendant + 0.003*posterpapier + 0.003*kegs + 0.003*odezva + 0.003*wake + 0.003*primadonna + 0.003*exstream + 0.003*canopus + 0.003*planning'),\n",
       " (11,\n",
       "  '0.038*tionic + 0.017*choice + 0.012*abs + 0.009*icona + 0.005*odezva + 0.005*munkanapokon + 0.005*csvc + 0.004*pendant + 0.004*primadonna + 0.003*thin + 0.003*exstream + 0.003*globe + 0.003*knife + 0.003*interchangeablelens + 0.003*venezia + 0.003*perfectkolor + 0.003*retrofits + 0.002*hdx + 0.002*noodle + 0.002*elettrico'),\n",
       " (12,\n",
       "  '0.036*tionic + 0.017*choice + 0.013*abs + 0.010*icona + 0.006*odezva + 0.005*munkanapokon + 0.005*csvc + 0.005*pendant + 0.003*primadonna + 0.003*globe + 0.003*thin + 0.003*exstream + 0.003*venezia + 0.003*perfectkolor + 0.003*mediasuite + 0.002*planning + 0.002*retrofits + 0.002*projectors + 0.002*recipes + 0.002*ushaped'),\n",
       " (13,\n",
       "  '0.031*tionic + 0.013*choice + 0.010*abs + 0.008*icona + 0.004*odezva + 0.004*pendant + 0.004*munkanapokon + 0.004*planning + 0.004*csvc + 0.004*mediasuite + 0.004*bgn + 0.003*form + 0.003*primadonna + 0.003*exstream + 0.003*globe + 0.003*thin + 0.002*ushaped + 0.002*dunetop + 0.002*venezia + 0.002*gráficos'),\n",
       " (14,\n",
       "  '0.039*tionic + 0.015*choice + 0.011*abs + 0.010*icona + 0.006*odezva + 0.006*primadonna + 0.005*munkanapokon + 0.005*csvc + 0.005*pendant + 0.004*exstream + 0.003*globe + 0.003*thin + 0.003*knife + 0.003*noodle + 0.002*interchangeablelens + 0.002*perfectkolor + 0.002*venezia + 0.002*planning + 0.002*dxa + 0.002*appliances'),\n",
       " (15,\n",
       "  '0.033*tionic + 0.015*choice + 0.011*abs + 0.009*icona + 0.005*odezva + 0.004*pendant + 0.004*munkanapokon + 0.004*csvc + 0.004*mediasuite + 0.004*planning + 0.003*ushaped + 0.003*globe + 0.003*form + 0.003*venezia + 0.003*primadonna + 0.002*thin + 0.002*bgn + 0.002*exstream + 0.002*knife + 0.002*mobiele'),\n",
       " (16,\n",
       "  '0.037*tionic + 0.014*choice + 0.010*abs + 0.008*icona + 0.005*primadonna + 0.005*odezva + 0.005*munkanapokon + 0.004*csvc + 0.004*exstream + 0.004*pendant + 0.003*thin + 0.002*globe + 0.002*noodle + 0.002*infotainment + 0.002*dxa + 0.002*perfectkolor + 0.002*venezia + 0.002*planning + 0.002*hdx + 0.002*projectors'),\n",
       " (17,\n",
       "  '0.034*tionic + 0.014*choice + 0.010*abs + 0.008*icona + 0.005*odezva + 0.004*munkanapokon + 0.004*pendant + 0.004*csvc + 0.004*primadonna + 0.004*thin + 0.003*exstream + 0.003*duallink + 0.003*interchangeablelens + 0.002*globe + 0.002*perfectkolor + 0.002*retrofits + 0.002*planning + 0.002*de + 0.002*venezia + 0.002*ushaped'),\n",
       " (18,\n",
       "  '0.033*tionic + 0.014*choice + 0.009*abs + 0.008*icona + 0.005*odezva + 0.005*csvc + 0.004*munkanapokon + 0.004*primadonna + 0.004*pendant + 0.003*globe + 0.003*knife + 0.003*exstream + 0.002*thin + 0.002*interchangeablelens + 0.002*venezia + 0.002*de + 0.002*elettrico + 0.002*noodle + 0.002*dxa + 0.002*planning'),\n",
       " (19,\n",
       "  '0.033*tionic + 0.014*choice + 0.009*abs + 0.009*icona + 0.005*odezva + 0.004*csvc + 0.004*munkanapokon + 0.004*pendant + 0.004*primadonna + 0.004*exstream + 0.003*globe + 0.003*knife + 0.002*thin + 0.002*planning + 0.002*interchangeablelens + 0.002*projectors + 0.002*form + 0.002*venezia + 0.002*appliances + 0.002*elettrico')]"
      ]
     },
     "execution_count": 200,
     "metadata": {},
     "output_type": "execute_result"
    }
   ],
   "source": [
    "# To find out how many topics exist in the doc\n",
    "hdp_model= models.HdpModel(corpus=corpus, id2word=dictionary)\n",
    "hdp_model.show_topics()"
   ]
  }
 ],
 "metadata": {
  "kernelspec": {
   "display_name": "Python 3",
   "language": "python",
   "name": "python3"
  },
  "language_info": {
   "codemirror_mode": {
    "name": "ipython",
    "version": 3
   },
   "file_extension": ".py",
   "mimetype": "text/x-python",
   "name": "python",
   "nbconvert_exporter": "python",
   "pygments_lexer": "ipython3",
   "version": "3.7.3"
  }
 },
 "nbformat": 4,
 "nbformat_minor": 2
}
